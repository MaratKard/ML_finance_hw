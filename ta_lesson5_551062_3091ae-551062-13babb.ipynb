{
 "cells": [
  {
   "cell_type": "code",
   "execution_count": 7,
   "metadata": {},
   "outputs": [
    {
     "name": "stdout",
     "output_type": "stream",
     "text": [
      "Collecting ta-lib\n",
      "  Downloading TA-Lib-0.5.1.tar.gz (369 kB)\n",
      "  Installing build dependencies: started\n",
      "  Installing build dependencies: finished with status 'done'\n",
      "  Getting requirements to build wheel: started\n",
      "  Getting requirements to build wheel: finished with status 'done'\n",
      "  Preparing metadata (pyproject.toml): started\n",
      "  Preparing metadata (pyproject.toml): finished with status 'done'\n",
      "Requirement already satisfied: numpy in c:\\ml_finance\\ml_finance_hw\\.conda\\lib\\site-packages (from ta-lib) (2.1.3)\n",
      "Building wheels for collected packages: ta-lib\n",
      "  Building wheel for ta-lib (pyproject.toml): started\n",
      "  Building wheel for ta-lib (pyproject.toml): finished with status 'error'\n",
      "Failed to build ta-lib\n",
      "Note: you may need to restart the kernel to use updated packages.\n"
     ]
    },
    {
     "name": "stderr",
     "output_type": "stream",
     "text": [
      "  error: subprocess-exited-with-error\n",
      "  \n",
      "  × Building wheel for ta-lib (pyproject.toml) did not run successfully.\n",
      "  │ exit code: 1\n",
      "  ╰─> [28 lines of output]\n",
      "      <string>:75: UserWarning: Cannot find ta-lib library, installation may fail.\n",
      "      running bdist_wheel\n",
      "      running build\n",
      "      running build_py\n",
      "      creating build\\lib.win-amd64-cpython-312\\talib\n",
      "      copying talib\\abstract.py -> build\\lib.win-amd64-cpython-312\\talib\n",
      "      copying talib\\deprecated.py -> build\\lib.win-amd64-cpython-312\\talib\n",
      "      copying talib\\stream.py -> build\\lib.win-amd64-cpython-312\\talib\n",
      "      copying talib\\__init__.py -> build\\lib.win-amd64-cpython-312\\talib\n",
      "      running egg_info\n",
      "      writing ta_lib.egg-info\\PKG-INFO\n",
      "      writing dependency_links to ta_lib.egg-info\\dependency_links.txt\n",
      "      writing requirements to ta_lib.egg-info\\requires.txt\n",
      "      writing top-level names to ta_lib.egg-info\\top_level.txt\n",
      "      reading manifest file 'ta_lib.egg-info\\SOURCES.txt'\n",
      "      reading manifest template 'MANIFEST.in'\n",
      "      adding license file 'LICENSE'\n",
      "      adding license file 'AUTHORS'\n",
      "      writing manifest file 'ta_lib.egg-info\\SOURCES.txt'\n",
      "      copying talib\\_abstract.pxi -> build\\lib.win-amd64-cpython-312\\talib\n",
      "      copying talib\\_common.pxi -> build\\lib.win-amd64-cpython-312\\talib\n",
      "      copying talib\\_func.pxi -> build\\lib.win-amd64-cpython-312\\talib\n",
      "      copying talib\\_stream.pxi -> build\\lib.win-amd64-cpython-312\\talib\n",
      "      copying talib\\_ta_lib.c -> build\\lib.win-amd64-cpython-312\\talib\n",
      "      copying talib\\_ta_lib.pyx -> build\\lib.win-amd64-cpython-312\\talib\n",
      "      running build_ext\n",
      "      building 'talib._ta_lib' extension\n",
      "      error: Microsoft Visual C++ 14.0 or greater is required. Get it with \"Microsoft C++ Build Tools\": https://visualstudio.microsoft.com/visual-cpp-build-tools/\n",
      "      [end of output]\n",
      "  \n",
      "  note: This error originates from a subprocess, and is likely not a problem with pip.\n",
      "  ERROR: Failed building wheel for ta-lib\n",
      "ERROR: ERROR: Failed to build installable wheels for some pyproject.toml based projects (ta-lib)\n"
     ]
    }
   ],
   "source": [
    "%pip install ta-lib"
   ]
  },
  {
   "cell_type": "code",
   "execution_count": 15,
   "metadata": {},
   "outputs": [],
   "source": [
    "import talib\n",
    "import talib\n",
    "import pandas as pd\n",
    "import plotly.graph_objects as go\n",
    "import numpy as np\n",
    "from plotly.subplots import make_subplots\n",
    "import yfinance as yf\n",
    "import plotly.express as px\n",
    "from sklearn.linear_model import LinearRegression\n",
    "from datetime import datetime, timedelta\n",
    "import backtesting\n",
    "from backtesting import Backtest, Strategy\n",
    "import warnings\n",
    "import itertools"
   ]
  },
  {
   "cell_type": "code",
   "execution_count": 4,
   "metadata": {},
   "outputs": [
    {
     "name": "stderr",
     "output_type": "stream",
     "text": [
      "[*********************100%%**********************]  1 of 1 completed\n"
     ]
    },
    {
     "data": {
      "text/html": [
       "<div>\n",
       "<style scoped>\n",
       "    .dataframe tbody tr th:only-of-type {\n",
       "        vertical-align: middle;\n",
       "    }\n",
       "\n",
       "    .dataframe tbody tr th {\n",
       "        vertical-align: top;\n",
       "    }\n",
       "\n",
       "    .dataframe thead th {\n",
       "        text-align: right;\n",
       "    }\n",
       "</style>\n",
       "<table border=\"1\" class=\"dataframe\">\n",
       "  <thead>\n",
       "    <tr style=\"text-align: right;\">\n",
       "      <th></th>\n",
       "      <th>date</th>\n",
       "      <th>open</th>\n",
       "      <th>high</th>\n",
       "      <th>low</th>\n",
       "      <th>close</th>\n",
       "      <th>volume</th>\n",
       "    </tr>\n",
       "  </thead>\n",
       "  <tbody>\n",
       "    <tr>\n",
       "      <th>0</th>\n",
       "      <td>2023-01-01</td>\n",
       "      <td>16547.914062</td>\n",
       "      <td>16630.439453</td>\n",
       "      <td>16521.234375</td>\n",
       "      <td>16625.080078</td>\n",
       "      <td>9244361700</td>\n",
       "    </tr>\n",
       "    <tr>\n",
       "      <th>1</th>\n",
       "      <td>2023-01-02</td>\n",
       "      <td>16625.509766</td>\n",
       "      <td>16759.343750</td>\n",
       "      <td>16572.228516</td>\n",
       "      <td>16688.470703</td>\n",
       "      <td>12097775227</td>\n",
       "    </tr>\n",
       "    <tr>\n",
       "      <th>2</th>\n",
       "      <td>2023-01-03</td>\n",
       "      <td>16688.847656</td>\n",
       "      <td>16760.447266</td>\n",
       "      <td>16622.371094</td>\n",
       "      <td>16679.857422</td>\n",
       "      <td>13903079207</td>\n",
       "    </tr>\n",
       "    <tr>\n",
       "      <th>3</th>\n",
       "      <td>2023-01-04</td>\n",
       "      <td>16680.205078</td>\n",
       "      <td>16964.585938</td>\n",
       "      <td>16667.763672</td>\n",
       "      <td>16863.238281</td>\n",
       "      <td>18421743322</td>\n",
       "    </tr>\n",
       "    <tr>\n",
       "      <th>4</th>\n",
       "      <td>2023-01-05</td>\n",
       "      <td>16863.472656</td>\n",
       "      <td>16884.021484</td>\n",
       "      <td>16790.283203</td>\n",
       "      <td>16836.736328</td>\n",
       "      <td>13692758566</td>\n",
       "    </tr>\n",
       "  </tbody>\n",
       "</table>\n",
       "</div>"
      ],
      "text/plain": [
       "        date          open          high           low         close  \\\n",
       "0 2023-01-01  16547.914062  16630.439453  16521.234375  16625.080078   \n",
       "1 2023-01-02  16625.509766  16759.343750  16572.228516  16688.470703   \n",
       "2 2023-01-03  16688.847656  16760.447266  16622.371094  16679.857422   \n",
       "3 2023-01-04  16680.205078  16964.585938  16667.763672  16863.238281   \n",
       "4 2023-01-05  16863.472656  16884.021484  16790.283203  16836.736328   \n",
       "\n",
       "        volume  \n",
       "0   9244361700  \n",
       "1  12097775227  \n",
       "2  13903079207  \n",
       "3  18421743322  \n",
       "4  13692758566  "
      ]
     },
     "execution_count": 4,
     "metadata": {},
     "output_type": "execute_result"
    }
   ],
   "source": [
    "# загрузим данные BTC\n",
    "df = yf.download(\"BTC-USD\", start='2023-01-01', end='2024-08-02', interval='1d').drop(columns=['Adj Close']) #'2024-01-02'\n",
    "df = df.reset_index()\n",
    "df.columns = df.columns.str.lower()\n",
    "df.head()"
   ]
  },
  {
   "cell_type": "code",
   "execution_count": 5,
   "metadata": {},
   "outputs": [],
   "source": [
    "class TemaMacdStrategy(Strategy):\n",
    "    \n",
    "    def init(self):\n",
    "        self.signal = self.I(lambda: self.data.Signal)\n",
    "        self.previous_signal = 0\n",
    "        self.size = 0.1\n",
    "\n",
    "    def next(self):\n",
    "        current_signal = self.signal[-1]\n",
    "\n",
    "        if current_signal != self.previous_signal:\n",
    "            if current_signal == 1:\n",
    "                if self.position.is_short:\n",
    "                    self.position.close()\n",
    "                    \n",
    "                if not self.position.is_long:\n",
    "                    self.buy(size=self.size)\n",
    "                    \n",
    "            elif current_signal == -1:\n",
    "                if self.position.is_long:\n",
    "                    self.position.close()\n",
    "                   \n",
    "                if not self.position.is_short:\n",
    "                    self.sell(size=self.size)\n",
    "                    \n",
    "            elif current_signal == 0:\n",
    "                if self.position:\n",
    "                    self.position.close()\n",
    "\n",
    "        self.previous_signal = current_signal"
   ]
  },
  {
   "cell_type": "markdown",
   "metadata": {},
   "source": [
    "### Walk Forward Optimization"
   ]
  },
  {
   "cell_type": "code",
   "execution_count": 6,
   "metadata": {},
   "outputs": [],
   "source": [
    "# напиешм функию стартегии\n",
    "def apply_strategy(data, params):\n",
    "    \"\"\"\n",
    "    Применение стратегии с оптимизированными параметрами.\n",
    "\n",
    "    :param df: DataFrame с данными, на которые будут наложены индикаторы.\n",
    "    :param params: Словарь с оптимизированными параметрами.\n",
    "    :return: DataFrame с рассчитанными индикаторами и сигналами.\n",
    "    \"\"\"\n",
    "    df = data.copy()\n",
    "    # Извлекаем параметры из словаря\n",
    "    tema_period = params['tema_period']\n",
    "    fastMACD_period = params['fastMACD_period']\n",
    "    slowMACD_period = params['slowMACD_period']\n",
    "    signalMACD_period = params['signalMACD_period']\n",
    "    \n",
    "    # Добавляем индикаторы\n",
    "    df['tema'] = talib.TEMA(df['close'], timeperiod=tema_period)\n",
    "    df['macd'], df['macd_signal'], df['macd_hist'] = talib.MACD(df['close'], fastperiod=fastMACD_period, slowperiod=slowMACD_period, signalperiod=signalMACD_period)\n",
    "    \n",
    "    \n",
    "    # Создаем сигналы для покупки и продажи\n",
    "    df['signal'] = 0\n",
    "    df.loc[(df['macd'] > df['macd_signal']) & (df['close'] > df['tema']), 'signal'] = 1  # Сигнал на покупку\n",
    "    df.loc[(df['macd'] < df['macd_signal']) & (df['close'] < df['tema']), 'signal'] = -1  # Сигнал на продажу\n",
    "    \n",
    "    return df[[\"date\", \"open\", \"high\", \"low\", \"close\", \"volume\",\"signal\"]]\n",
    "\n",
    "def bactest_strategy(df, strategy_class, params, plot=False):\n",
    "    \"\"\"\n",
    "    Запускает бэктест с переданными параметрами стратегии.\n",
    "\n",
    "    :param df: DataFrame с данными для бэктеста.\n",
    "    :param strategy_class: Класс стратегии для бэктеста.\n",
    "    :param params: Словарь с параметрами стратегии.\n",
    "    :return: Статистика бэктеста.\n",
    "    \"\"\"\n",
    "    # Применяем стратегию с переданными параметрами\n",
    "    df = apply_strategy(df.copy(), params)\n",
    "    \n",
    "    # Подготовка данных для бэктеста\n",
    "    bt_df = df.copy()\n",
    "    bt_df.columns = bt_df.columns.str.capitalize()\n",
    "    bt_df.rename(columns={'Date': 'Datetime'}, inplace=True)\n",
    "    bt_df[\"Datetime\"] = pd.to_datetime(bt_df[\"Datetime\"])\n",
    "    bt_df.set_index('Datetime', inplace=True)\n",
    "\n",
    "    # Создаем объект класса Backtest с текущей стратегией\n",
    "    bt = Backtest(bt_df, strategy_class, cash=500000, commission=.002, exclusive_orders=True, margin=0.1)\n",
    "\n",
    "    # Запускаем бэктест\n",
    "    stats = bt.run()\n",
    "    if plot:\n",
    "        bt.plot(\n",
    "        plot_equity=True,\n",
    "        plot_drawdown=True,\n",
    "        relative_equity=False,\n",
    "        )\n",
    "    return stats\n",
    "\n",
    "def get_best_strategy(buffer, strategy_class):\n",
    "    # Задаем возможные значения для параметров стратегии\n",
    "    tema_period_list = [7, 14, 28]\n",
    "    fastMACD_period_list = [12, 35, 56]\n",
    "    slowMACD_period_list = [9,23, 39]\n",
    "    signalMACD_period_list = [28,40,80]\n",
    "\n",
    "    # Для хранения лучших параметров и лучшего результата\n",
    "    best_params = None\n",
    "    best_performance = -float('inf')  # или другое значение, которое имеет смысл для вашей метрики\n",
    "\n",
    "    # Проходим по всем комбинациям параметров\n",
    "    for tema_period, fastMACD_period, slowMACD_period, signalMACD_period in itertools.product(tema_period_list, fastMACD_period_list, slowMACD_period_list, signalMACD_period_list):\n",
    "        \n",
    "        # Создаем словарь с текущими параметрами\n",
    "        params = {\n",
    "            'tema_period': tema_period,\n",
    "            'fastMACD_period': fastMACD_period,\n",
    "            'slowMACD_period': slowMACD_period,\n",
    "            'signalMACD_period': signalMACD_period\n",
    "        }\n",
    "        \n",
    "        # Запускаем бэктест с текущими параметрами\n",
    "        stats = bactest_strategy(buffer.copy(), strategy_class, params)\n",
    "\n",
    "        # Определяем метрику, по которой будем выбирать лучшую стратегию (например, по профит фактору)\n",
    "        performance = stats['Profit Factor']  # используйте другую метрику, если нужно\n",
    "        \n",
    "        # Сравниваем с лучшим результатом и сохраняем лучшие параметры\n",
    "        if performance > best_performance:\n",
    "            best_performance = performance\n",
    "            best_params = params\n",
    "\n",
    "    print(f\"Best Performance: {best_performance}\")\n",
    "    print(f\"Best Parameters: {best_params}\")\n",
    "    return best_params\n",
    "\n",
    "    "
   ]
  },
  {
   "cell_type": "code",
   "execution_count": 7,
   "metadata": {},
   "outputs": [
    {
     "name": "stderr",
     "output_type": "stream",
     "text": [
      "c:\\Users\\ma2se\\OneDrive\\Documents\\VS_CODE_PROJECTS\\notebooks\\.venv\\Lib\\site-packages\\backtesting\\_stats.py:122: RuntimeWarning: divide by zero encountered in scalar divide\n",
      "  s.loc['Sortino Ratio'] = np.clip((annualized_return - risk_free_rate) / (np.sqrt(np.mean(day_returns.clip(-np.inf, 0)**2)) * np.sqrt(annual_trading_days)), 0, np.inf)  # noqa: E501\n"
     ]
    },
    {
     "name": "stdout",
     "output_type": "stream",
     "text": [
      "Best Performance: 43.223250492662174\n",
      "Best Parameters: {'tema_period': 14, 'fastMACD_period': 12, 'slowMACD_period': 9, 'signalMACD_period': 40}\n",
      "Best Performance: 24.585737563930497\n",
      "Best Parameters: {'tema_period': 14, 'fastMACD_period': 12, 'slowMACD_period': 9, 'signalMACD_period': 28}\n",
      "Best Performance: 3.929440297636021\n",
      "Best Parameters: {'tema_period': 14, 'fastMACD_period': 12, 'slowMACD_period': 23, 'signalMACD_period': 40}\n",
      "Best Performance: 7.71696338775185\n",
      "Best Parameters: {'tema_period': 14, 'fastMACD_period': 35, 'slowMACD_period': 9, 'signalMACD_period': 40}\n",
      "Best Performance: 8.727510527093663\n",
      "Best Parameters: {'tema_period': 7, 'fastMACD_period': 12, 'slowMACD_period': 9, 'signalMACD_period': 40}\n",
      "Best Performance: 145.67697803922576\n",
      "Best Parameters: {'tema_period': 7, 'fastMACD_period': 12, 'slowMACD_period': 39, 'signalMACD_period': 28}\n",
      "Best Performance: 9.452110508881162\n",
      "Best Parameters: {'tema_period': 7, 'fastMACD_period': 35, 'slowMACD_period': 9, 'signalMACD_period': 28}\n"
     ]
    },
    {
     "name": "stderr",
     "output_type": "stream",
     "text": [
      "c:\\Users\\ma2se\\OneDrive\\Documents\\VS_CODE_PROJECTS\\notebooks\\.venv\\Lib\\site-packages\\backtesting\\_stats.py:122: RuntimeWarning: divide by zero encountered in scalar divide\n",
      "  s.loc['Sortino Ratio'] = np.clip((annualized_return - risk_free_rate) / (np.sqrt(np.mean(day_returns.clip(-np.inf, 0)**2)) * np.sqrt(annual_trading_days)), 0, np.inf)  # noqa: E501\n",
      "c:\\Users\\ma2se\\OneDrive\\Documents\\VS_CODE_PROJECTS\\notebooks\\.venv\\Lib\\site-packages\\backtesting\\_stats.py:122: RuntimeWarning: divide by zero encountered in scalar divide\n",
      "  s.loc['Sortino Ratio'] = np.clip((annualized_return - risk_free_rate) / (np.sqrt(np.mean(day_returns.clip(-np.inf, 0)**2)) * np.sqrt(annual_trading_days)), 0, np.inf)  # noqa: E501\n",
      "c:\\Users\\ma2se\\OneDrive\\Documents\\VS_CODE_PROJECTS\\notebooks\\.venv\\Lib\\site-packages\\backtesting\\_stats.py:122: RuntimeWarning: divide by zero encountered in scalar divide\n",
      "  s.loc['Sortino Ratio'] = np.clip((annualized_return - risk_free_rate) / (np.sqrt(np.mean(day_returns.clip(-np.inf, 0)**2)) * np.sqrt(annual_trading_days)), 0, np.inf)  # noqa: E501\n"
     ]
    },
    {
     "name": "stdout",
     "output_type": "stream",
     "text": [
      "Best Performance: 145.04999678444383\n",
      "Best Parameters: {'tema_period': 7, 'fastMACD_period': 12, 'slowMACD_period': 23, 'signalMACD_period': 40}\n",
      "Best Performance: 1.5153091577837519\n",
      "Best Parameters: {'tema_period': 14, 'fastMACD_period': 12, 'slowMACD_period': 23, 'signalMACD_period': 28}\n",
      "Best Performance: 0.7149819641154821\n",
      "Best Parameters: {'tema_period': 7, 'fastMACD_period': 12, 'slowMACD_period': 9, 'signalMACD_period': 40}\n",
      "Best Performance: 5.629139802494213\n",
      "Best Parameters: {'tema_period': 14, 'fastMACD_period': 35, 'slowMACD_period': 23, 'signalMACD_period': 40}\n"
     ]
    },
    {
     "name": "stderr",
     "output_type": "stream",
     "text": [
      "c:\\Users\\ma2se\\OneDrive\\Documents\\VS_CODE_PROJECTS\\notebooks\\.venv\\Lib\\site-packages\\backtesting\\_stats.py:122: RuntimeWarning: divide by zero encountered in scalar divide\n",
      "  s.loc['Sortino Ratio'] = np.clip((annualized_return - risk_free_rate) / (np.sqrt(np.mean(day_returns.clip(-np.inf, 0)**2)) * np.sqrt(annual_trading_days)), 0, np.inf)  # noqa: E501\n",
      "c:\\Users\\ma2se\\OneDrive\\Documents\\VS_CODE_PROJECTS\\notebooks\\.venv\\Lib\\site-packages\\backtesting\\_stats.py:122: RuntimeWarning: divide by zero encountered in scalar divide\n",
      "  s.loc['Sortino Ratio'] = np.clip((annualized_return - risk_free_rate) / (np.sqrt(np.mean(day_returns.clip(-np.inf, 0)**2)) * np.sqrt(annual_trading_days)), 0, np.inf)  # noqa: E501\n",
      "c:\\Users\\ma2se\\OneDrive\\Documents\\VS_CODE_PROJECTS\\notebooks\\.venv\\Lib\\site-packages\\backtesting\\_stats.py:122: RuntimeWarning: divide by zero encountered in scalar divide\n",
      "  s.loc['Sortino Ratio'] = np.clip((annualized_return - risk_free_rate) / (np.sqrt(np.mean(day_returns.clip(-np.inf, 0)**2)) * np.sqrt(annual_trading_days)), 0, np.inf)  # noqa: E501\n"
     ]
    },
    {
     "name": "stdout",
     "output_type": "stream",
     "text": [
      "Best Performance: 41.29624941558498\n",
      "Best Parameters: {'tema_period': 14, 'fastMACD_period': 35, 'slowMACD_period': 9, 'signalMACD_period': 28}\n"
     ]
    },
    {
     "name": "stderr",
     "output_type": "stream",
     "text": [
      "c:\\Users\\ma2se\\OneDrive\\Documents\\VS_CODE_PROJECTS\\notebooks\\.venv\\Lib\\site-packages\\backtesting\\_stats.py:122: RuntimeWarning: divide by zero encountered in scalar divide\n",
      "  s.loc['Sortino Ratio'] = np.clip((annualized_return - risk_free_rate) / (np.sqrt(np.mean(day_returns.clip(-np.inf, 0)**2)) * np.sqrt(annual_trading_days)), 0, np.inf)  # noqa: E501\n",
      "c:\\Users\\ma2se\\OneDrive\\Documents\\VS_CODE_PROJECTS\\notebooks\\.venv\\Lib\\site-packages\\backtesting\\_stats.py:122: RuntimeWarning: divide by zero encountered in scalar divide\n",
      "  s.loc['Sortino Ratio'] = np.clip((annualized_return - risk_free_rate) / (np.sqrt(np.mean(day_returns.clip(-np.inf, 0)**2)) * np.sqrt(annual_trading_days)), 0, np.inf)  # noqa: E501\n",
      "c:\\Users\\ma2se\\OneDrive\\Documents\\VS_CODE_PROJECTS\\notebooks\\.venv\\Lib\\site-packages\\backtesting\\_stats.py:122: RuntimeWarning: divide by zero encountered in scalar divide\n",
      "  s.loc['Sortino Ratio'] = np.clip((annualized_return - risk_free_rate) / (np.sqrt(np.mean(day_returns.clip(-np.inf, 0)**2)) * np.sqrt(annual_trading_days)), 0, np.inf)  # noqa: E501\n",
      "c:\\Users\\ma2se\\OneDrive\\Documents\\VS_CODE_PROJECTS\\notebooks\\.venv\\Lib\\site-packages\\backtesting\\_stats.py:122: RuntimeWarning: divide by zero encountered in scalar divide\n",
      "  s.loc['Sortino Ratio'] = np.clip((annualized_return - risk_free_rate) / (np.sqrt(np.mean(day_returns.clip(-np.inf, 0)**2)) * np.sqrt(annual_trading_days)), 0, np.inf)  # noqa: E501\n",
      "c:\\Users\\ma2se\\OneDrive\\Documents\\VS_CODE_PROJECTS\\notebooks\\.venv\\Lib\\site-packages\\backtesting\\_stats.py:122: RuntimeWarning: divide by zero encountered in scalar divide\n",
      "  s.loc['Sortino Ratio'] = np.clip((annualized_return - risk_free_rate) / (np.sqrt(np.mean(day_returns.clip(-np.inf, 0)**2)) * np.sqrt(annual_trading_days)), 0, np.inf)  # noqa: E501\n"
     ]
    },
    {
     "name": "stdout",
     "output_type": "stream",
     "text": [
      "Best Performance: 1.3660265206033158\n",
      "Best Parameters: {'tema_period': 14, 'fastMACD_period': 12, 'slowMACD_period': 9, 'signalMACD_period': 28}\n",
      "Best Performance: 2.9785312974475358\n",
      "Best Parameters: {'tema_period': 14, 'fastMACD_period': 12, 'slowMACD_period': 23, 'signalMACD_period': 40}\n"
     ]
    },
    {
     "name": "stderr",
     "output_type": "stream",
     "text": [
      "c:\\Users\\ma2se\\OneDrive\\Documents\\VS_CODE_PROJECTS\\notebooks\\.venv\\Lib\\site-packages\\backtesting\\_stats.py:122: RuntimeWarning: divide by zero encountered in scalar divide\n",
      "  s.loc['Sortino Ratio'] = np.clip((annualized_return - risk_free_rate) / (np.sqrt(np.mean(day_returns.clip(-np.inf, 0)**2)) * np.sqrt(annual_trading_days)), 0, np.inf)  # noqa: E501\n"
     ]
    },
    {
     "name": "stdout",
     "output_type": "stream",
     "text": [
      "Best Performance: 0.5038340864383556\n",
      "Best Parameters: {'tema_period': 7, 'fastMACD_period': 12, 'slowMACD_period': 9, 'signalMACD_period': 28}\n",
      "Best Performance: 1.860710773044403\n",
      "Best Parameters: {'tema_period': 14, 'fastMACD_period': 35, 'slowMACD_period': 9, 'signalMACD_period': 28}\n"
     ]
    },
    {
     "name": "stderr",
     "output_type": "stream",
     "text": [
      "c:\\Users\\ma2se\\OneDrive\\Documents\\VS_CODE_PROJECTS\\notebooks\\.venv\\Lib\\site-packages\\backtesting\\_stats.py:122: RuntimeWarning: divide by zero encountered in scalar divide\n",
      "  s.loc['Sortino Ratio'] = np.clip((annualized_return - risk_free_rate) / (np.sqrt(np.mean(day_returns.clip(-np.inf, 0)**2)) * np.sqrt(annual_trading_days)), 0, np.inf)  # noqa: E501\n"
     ]
    },
    {
     "name": "stdout",
     "output_type": "stream",
     "text": [
      "Best Performance: 5.784897882215679\n",
      "Best Parameters: {'tema_period': 7, 'fastMACD_period': 12, 'slowMACD_period': 9, 'signalMACD_period': 28}\n"
     ]
    }
   ],
   "source": [
    "\n",
    "train_size = 90  # Размер окна тренировки\n",
    "test_size = 30    # Размер тестового окна\n",
    "\n",
    "# Инициализация DataFrame для сигналов\n",
    "signals_df = pd.DataFrame()\n",
    "\n",
    "# Определение количества итераций\n",
    "num_iterations = (len(df) - train_size) // test_size\n",
    "\n",
    "for i in range(num_iterations + 1):\n",
    "    # Определение границ обучающего и тестового окон\n",
    "    start_train = i * test_size\n",
    "    end_train = start_train + train_size\n",
    "    start_test = end_train\n",
    "    end_test = start_test + test_size\n",
    "    \n",
    "    # Если конец тестового окна выходит за пределы данных, обрезаем его\n",
    "    if end_test > len(df):\n",
    "        end_test = len(df)\n",
    "    \n",
    "    # Определяем окна для тренировки и тестирования\n",
    "    train_data = df.iloc[start_train:end_train].copy()\n",
    "    test_data = df.iloc[start_test:end_test].copy()\n",
    "    \n",
    "    \n",
    "    # Оптимизация на тренировочном окне\n",
    "    best_params = get_best_strategy(train_data, TemaMacdStrategy)\n",
    "    \n",
    "    # Объединяем данные тренировки и теста\n",
    "    combined_data = pd.concat([train_data, test_data]).reset_index(drop=True)\n",
    "    \n",
    "    # Применяем стратегию на объединенном окне с оптимальными параметрами\n",
    "    combined_with_signal = apply_strategy(combined_data.copy(), best_params)\n",
    "    \n",
    "    # Извлекаем только часть данных, относящуюся к тестовому окну\n",
    "    test_with_signal = combined_with_signal.iloc[-test_size:].copy()\n",
    "    \n",
    "    # Добавляем сигналы из тестового окна в signals_df\n",
    "    signals_df = pd.concat([signals_df, test_with_signal], ignore_index=True)\n",
    "\n",
    "\n"
   ]
  },
  {
   "cell_type": "code",
   "execution_count": 8,
   "metadata": {},
   "outputs": [
    {
     "name": "stdout",
     "output_type": "stream",
     "text": [
      "Start                     2023-04-01 00:00:00\n",
      "End                       2024-08-01 00:00:00\n",
      "Duration                    488 days 00:00:00\n",
      "Exposure Time [%]                   58.627451\n",
      "Equity Final [$]                609247.716012\n",
      "Equity Peak [$]                 754682.093559\n",
      "Return [%]                          21.849543\n",
      "Buy & Hold Return [%]              130.042656\n",
      "Return (Ann.) [%]                   15.893956\n",
      "Volatility (Ann.) [%]               36.921833\n",
      "Sharpe Ratio                         0.430476\n",
      "Sortino Ratio                        0.795714\n",
      "Calmar Ratio                         0.422703\n",
      "Max. Drawdown [%]                  -37.600725\n",
      "Avg. Drawdown [%]                   -5.721549\n",
      "Max. Drawdown Duration      265 days 00:00:00\n",
      "Avg. Drawdown Duration       36 days 00:00:00\n",
      "# Trades                                   84\n",
      "Win Rate [%]                         40.47619\n",
      "Best Trade [%]                      13.551881\n",
      "Worst Trade [%]                     -7.854729\n",
      "Avg. Trade [%]                       0.235262\n",
      "Max. Trade Duration           8 days 00:00:00\n",
      "Avg. Trade Duration           3 days 00:00:00\n",
      "Profit Factor                        1.254714\n",
      "Expectancy [%]                        0.30326\n",
      "SQN                                  0.573762\n",
      "dtype: object\n"
     ]
    },
    {
     "name": "stderr",
     "output_type": "stream",
     "text": [
      "c:\\Users\\ma2se\\OneDrive\\Documents\\VS_CODE_PROJECTS\\notebooks\\.venv\\Lib\\site-packages\\backtesting\\_plotting.py:456: FutureWarning: 'M' is deprecated and will be removed in a future version, please use 'ME' instead.\n",
      "  .resample(resample_rule, label='left')\n"
     ]
    },
    {
     "data": {
      "text/html": [
       "<div style=\"display: table;\"><div style=\"display: table-row;\"><div style=\"display: table-cell;\"><b title=\"bokeh.models.layouts.Row\">Row</b>(</div><div style=\"display: table-cell;\">id&nbsp;=&nbsp;'1524', <span id=\"2359\" style=\"cursor: pointer;\">&hellip;)</span></div></div><div class=\"2358\" style=\"display: none;\"><div style=\"display: table-cell;\"></div><div style=\"display: table-cell;\">align&nbsp;=&nbsp;'start',</div></div><div class=\"2358\" style=\"display: none;\"><div style=\"display: table-cell;\"></div><div style=\"display: table-cell;\">aspect_ratio&nbsp;=&nbsp;None,</div></div><div class=\"2358\" style=\"display: none;\"><div style=\"display: table-cell;\"></div><div style=\"display: table-cell;\">background&nbsp;=&nbsp;None,</div></div><div class=\"2358\" style=\"display: none;\"><div style=\"display: table-cell;\"></div><div style=\"display: table-cell;\">children&nbsp;=&nbsp;[GridBox(id='1521', ...), ToolbarBox(id='1523', ...)],</div></div><div class=\"2358\" style=\"display: none;\"><div style=\"display: table-cell;\"></div><div style=\"display: table-cell;\">cols&nbsp;=&nbsp;'auto',</div></div><div class=\"2358\" style=\"display: none;\"><div style=\"display: table-cell;\"></div><div style=\"display: table-cell;\">css_classes&nbsp;=&nbsp;[],</div></div><div class=\"2358\" style=\"display: none;\"><div style=\"display: table-cell;\"></div><div style=\"display: table-cell;\">disabled&nbsp;=&nbsp;False,</div></div><div class=\"2358\" style=\"display: none;\"><div style=\"display: table-cell;\"></div><div style=\"display: table-cell;\">height&nbsp;=&nbsp;None,</div></div><div class=\"2358\" style=\"display: none;\"><div style=\"display: table-cell;\"></div><div style=\"display: table-cell;\">height_policy&nbsp;=&nbsp;'auto',</div></div><div class=\"2358\" style=\"display: none;\"><div style=\"display: table-cell;\"></div><div style=\"display: table-cell;\">js_event_callbacks&nbsp;=&nbsp;{},</div></div><div class=\"2358\" style=\"display: none;\"><div style=\"display: table-cell;\"></div><div style=\"display: table-cell;\">js_property_callbacks&nbsp;=&nbsp;{},</div></div><div class=\"2358\" style=\"display: none;\"><div style=\"display: table-cell;\"></div><div style=\"display: table-cell;\">margin&nbsp;=&nbsp;(0, 0, 0, 0),</div></div><div class=\"2358\" style=\"display: none;\"><div style=\"display: table-cell;\"></div><div style=\"display: table-cell;\">max_height&nbsp;=&nbsp;None,</div></div><div class=\"2358\" style=\"display: none;\"><div style=\"display: table-cell;\"></div><div style=\"display: table-cell;\">max_width&nbsp;=&nbsp;None,</div></div><div class=\"2358\" style=\"display: none;\"><div style=\"display: table-cell;\"></div><div style=\"display: table-cell;\">min_height&nbsp;=&nbsp;None,</div></div><div class=\"2358\" style=\"display: none;\"><div style=\"display: table-cell;\"></div><div style=\"display: table-cell;\">min_width&nbsp;=&nbsp;None,</div></div><div class=\"2358\" style=\"display: none;\"><div style=\"display: table-cell;\"></div><div style=\"display: table-cell;\">name&nbsp;=&nbsp;None,</div></div><div class=\"2358\" style=\"display: none;\"><div style=\"display: table-cell;\"></div><div style=\"display: table-cell;\">sizing_mode&nbsp;=&nbsp;'stretch_width',</div></div><div class=\"2358\" style=\"display: none;\"><div style=\"display: table-cell;\"></div><div style=\"display: table-cell;\">spacing&nbsp;=&nbsp;0,</div></div><div class=\"2358\" style=\"display: none;\"><div style=\"display: table-cell;\"></div><div style=\"display: table-cell;\">subscribed_events&nbsp;=&nbsp;[],</div></div><div class=\"2358\" style=\"display: none;\"><div style=\"display: table-cell;\"></div><div style=\"display: table-cell;\">syncable&nbsp;=&nbsp;True,</div></div><div class=\"2358\" style=\"display: none;\"><div style=\"display: table-cell;\"></div><div style=\"display: table-cell;\">tags&nbsp;=&nbsp;[],</div></div><div class=\"2358\" style=\"display: none;\"><div style=\"display: table-cell;\"></div><div style=\"display: table-cell;\">visible&nbsp;=&nbsp;True,</div></div><div class=\"2358\" style=\"display: none;\"><div style=\"display: table-cell;\"></div><div style=\"display: table-cell;\">width&nbsp;=&nbsp;None,</div></div><div class=\"2358\" style=\"display: none;\"><div style=\"display: table-cell;\"></div><div style=\"display: table-cell;\">width_policy&nbsp;=&nbsp;'auto')</div></div></div>\n",
       "<script>\n",
       "(function() {\n",
       "  let expanded = false;\n",
       "  const ellipsis = document.getElementById(\"2359\");\n",
       "  ellipsis.addEventListener(\"click\", function() {\n",
       "    const rows = document.getElementsByClassName(\"2358\");\n",
       "    for (let i = 0; i < rows.length; i++) {\n",
       "      const el = rows[i];\n",
       "      el.style.display = expanded ? \"none\" : \"table-row\";\n",
       "    }\n",
       "    ellipsis.innerHTML = expanded ? \"&hellip;)\" : \"&lsaquo;&lsaquo;&lsaquo;\";\n",
       "    expanded = !expanded;\n",
       "  });\n",
       "})();\n",
       "</script>\n"
      ],
      "text/plain": [
       "Row(id='1524', ...)"
      ]
     },
     "execution_count": 8,
     "metadata": {},
     "output_type": "execute_result"
    }
   ],
   "source": [
    "\n",
    "bt_df = signals_df.copy()\n",
    "bt_df.columns = bt_df.columns.str.capitalize()\n",
    "bt_df.rename(columns={'Date': 'Datetime'}, inplace=True)\n",
    "bt_df[\"Datetime\"] = pd.to_datetime(bt_df[\"Datetime\"])\n",
    "bt_df.set_index('Datetime', inplace=True)\n",
    "bt_df = bt_df.sort_index()\n",
    "\n",
    "bt = Backtest(bt_df, TemaMacdStrategy, cash=500000, commission=0.002, exclusive_orders=True, margin=0.1)\n",
    "\n",
    "    # Запускаем бэктест\n",
    "stats = bt.run()\n",
    "print(stats[:27])\n",
    "bt.plot(\n",
    "plot_equity=True,\n",
    "plot_drawdown=True,\n",
    "relative_equity=False,\n",
    ")"
   ]
  },
  {
   "cell_type": "markdown",
   "metadata": {},
   "source": [
    "### GBM    https://ru.wikipedia.org/wiki/%D0%93%D0%B5%D0%BE%D0%BC%D0%B5%D1%82%D1%80%D0%B8%D1%87%D0%B5%D1%81%D0%BA%D0%BE%D0%B5_%D0%B1%D1%80%D0%BE%D1%83%D0%BD%D0%BE%D0%B2%D1%81%D0%BA%D0%BE%D0%B5_%D0%B4%D0%B2%D0%B8%D0%B6%D0%B5%D0%BD%D0%B8%D0%B5"
   ]
  },
  {
   "cell_type": "code",
   "execution_count": 13,
   "metadata": {},
   "outputs": [],
   "source": [
    "def generate_log_return_scenarios(df, num_scenarios):\n",
    "    scenarios = []\n",
    "    \n",
    "    # Вычисляем логарифмические приросты для исходного столбца Close\n",
    "    log_returns = np.log(df['close'] / df['close'].shift(1)).dropna()\n",
    "    \n",
    "    for _ in range(num_scenarios):\n",
    "        scenario_df = df.copy()\n",
    "        \n",
    "        # Перемешиваем логарифмические приросты\n",
    "        shuffled_log_returns = np.random.permutation(log_returns.values)\n",
    "        \n",
    "        # Генерируем новый столбец Close, начиная с начальной цены\n",
    "        new_close = [df['close'].iloc[0]]  # начальная цена остается неизменной\n",
    "        for log_return in shuffled_log_returns:\n",
    "            new_close.append(new_close[-1] * np.exp(log_return))\n",
    "        \n",
    "        # Вставляем NaN в начало, чтобы выровнять длину с исходным DataFrame\n",
    "        new_close_series = pd.Series(new_close, index=df.index)\n",
    "        new_close_series.iloc[1:] = new_close_series.iloc[1:]\n",
    "        \n",
    "        # Записываем сгенерированные значения в новый столбец Close\n",
    "        scenario_df['close'] = new_close_series\n",
    "        \n",
    "        # Добавляем сгенерированный DataFrame в список сценариев\n",
    "        scenarios.append(scenario_df)\n",
    "    \n",
    "    return scenarios\n",
    "\n",
    "\n",
    "\n",
    "train_size = 0.8  # 80% данных для тренировки\n",
    "train_df = df.iloc[:int(len(df) * train_size)]\n",
    "test_df = df.iloc[int(len(df) * train_size):]\n",
    "num_scenarios = 5\n",
    "scenarios = generate_log_return_scenarios(train_df, num_scenarios)"
   ]
  },
  {
   "cell_type": "code",
   "execution_count": 14,
   "metadata": {},
   "outputs": [
    {
     "data": {
      "application/vnd.plotly.v1+json": {
       "config": {
        "plotlyServerURL": "https://plot.ly"
       },
       "data": [
        {
         "line": {
          "color": "red"
         },
         "mode": "lines",
         "name": "Original Close",
         "type": "scatter",
         "x": [
          "2023-01-01T00:00:00",
          "2023-01-02T00:00:00",
          "2023-01-03T00:00:00",
          "2023-01-04T00:00:00",
          "2023-01-05T00:00:00",
          "2023-01-06T00:00:00",
          "2023-01-07T00:00:00",
          "2023-01-08T00:00:00",
          "2023-01-09T00:00:00",
          "2023-01-10T00:00:00",
          "2023-01-11T00:00:00",
          "2023-01-12T00:00:00",
          "2023-01-13T00:00:00",
          "2023-01-14T00:00:00",
          "2023-01-15T00:00:00",
          "2023-01-16T00:00:00",
          "2023-01-17T00:00:00",
          "2023-01-18T00:00:00",
          "2023-01-19T00:00:00",
          "2023-01-20T00:00:00",
          "2023-01-21T00:00:00",
          "2023-01-22T00:00:00",
          "2023-01-23T00:00:00",
          "2023-01-24T00:00:00",
          "2023-01-25T00:00:00",
          "2023-01-26T00:00:00",
          "2023-01-27T00:00:00",
          "2023-01-28T00:00:00",
          "2023-01-29T00:00:00",
          "2023-01-30T00:00:00",
          "2023-01-31T00:00:00",
          "2023-02-01T00:00:00",
          "2023-02-02T00:00:00",
          "2023-02-03T00:00:00",
          "2023-02-04T00:00:00",
          "2023-02-05T00:00:00",
          "2023-02-06T00:00:00",
          "2023-02-07T00:00:00",
          "2023-02-08T00:00:00",
          "2023-02-09T00:00:00",
          "2023-02-10T00:00:00",
          "2023-02-11T00:00:00",
          "2023-02-12T00:00:00",
          "2023-02-13T00:00:00",
          "2023-02-14T00:00:00",
          "2023-02-15T00:00:00",
          "2023-02-16T00:00:00",
          "2023-02-17T00:00:00",
          "2023-02-18T00:00:00",
          "2023-02-19T00:00:00",
          "2023-02-20T00:00:00",
          "2023-02-21T00:00:00",
          "2023-02-22T00:00:00",
          "2023-02-23T00:00:00",
          "2023-02-24T00:00:00",
          "2023-02-25T00:00:00",
          "2023-02-26T00:00:00",
          "2023-02-27T00:00:00",
          "2023-02-28T00:00:00",
          "2023-03-01T00:00:00",
          "2023-03-02T00:00:00",
          "2023-03-03T00:00:00",
          "2023-03-04T00:00:00",
          "2023-03-05T00:00:00",
          "2023-03-06T00:00:00",
          "2023-03-07T00:00:00",
          "2023-03-08T00:00:00",
          "2023-03-09T00:00:00",
          "2023-03-10T00:00:00",
          "2023-03-11T00:00:00",
          "2023-03-12T00:00:00",
          "2023-03-13T00:00:00",
          "2023-03-14T00:00:00",
          "2023-03-15T00:00:00",
          "2023-03-16T00:00:00",
          "2023-03-17T00:00:00",
          "2023-03-18T00:00:00",
          "2023-03-19T00:00:00",
          "2023-03-20T00:00:00",
          "2023-03-21T00:00:00",
          "2023-03-22T00:00:00",
          "2023-03-23T00:00:00",
          "2023-03-24T00:00:00",
          "2023-03-25T00:00:00",
          "2023-03-26T00:00:00",
          "2023-03-27T00:00:00",
          "2023-03-28T00:00:00",
          "2023-03-29T00:00:00",
          "2023-03-30T00:00:00",
          "2023-03-31T00:00:00",
          "2023-04-01T00:00:00",
          "2023-04-02T00:00:00",
          "2023-04-03T00:00:00",
          "2023-04-04T00:00:00",
          "2023-04-05T00:00:00",
          "2023-04-06T00:00:00",
          "2023-04-07T00:00:00",
          "2023-04-08T00:00:00",
          "2023-04-09T00:00:00",
          "2023-04-10T00:00:00",
          "2023-04-11T00:00:00",
          "2023-04-12T00:00:00",
          "2023-04-13T00:00:00",
          "2023-04-14T00:00:00",
          "2023-04-15T00:00:00",
          "2023-04-16T00:00:00",
          "2023-04-17T00:00:00",
          "2023-04-18T00:00:00",
          "2023-04-19T00:00:00",
          "2023-04-20T00:00:00",
          "2023-04-21T00:00:00",
          "2023-04-22T00:00:00",
          "2023-04-23T00:00:00",
          "2023-04-24T00:00:00",
          "2023-04-25T00:00:00",
          "2023-04-26T00:00:00",
          "2023-04-27T00:00:00",
          "2023-04-28T00:00:00",
          "2023-04-29T00:00:00",
          "2023-04-30T00:00:00",
          "2023-05-01T00:00:00",
          "2023-05-02T00:00:00",
          "2023-05-03T00:00:00",
          "2023-05-04T00:00:00",
          "2023-05-05T00:00:00",
          "2023-05-06T00:00:00",
          "2023-05-07T00:00:00",
          "2023-05-08T00:00:00",
          "2023-05-09T00:00:00",
          "2023-05-10T00:00:00",
          "2023-05-11T00:00:00",
          "2023-05-12T00:00:00",
          "2023-05-13T00:00:00",
          "2023-05-14T00:00:00",
          "2023-05-15T00:00:00",
          "2023-05-16T00:00:00",
          "2023-05-17T00:00:00",
          "2023-05-18T00:00:00",
          "2023-05-19T00:00:00",
          "2023-05-20T00:00:00",
          "2023-05-21T00:00:00",
          "2023-05-22T00:00:00",
          "2023-05-23T00:00:00",
          "2023-05-24T00:00:00",
          "2023-05-25T00:00:00",
          "2023-05-26T00:00:00",
          "2023-05-27T00:00:00",
          "2023-05-28T00:00:00",
          "2023-05-29T00:00:00",
          "2023-05-30T00:00:00",
          "2023-05-31T00:00:00",
          "2023-06-01T00:00:00",
          "2023-06-02T00:00:00",
          "2023-06-03T00:00:00",
          "2023-06-04T00:00:00",
          "2023-06-05T00:00:00",
          "2023-06-06T00:00:00",
          "2023-06-07T00:00:00",
          "2023-06-08T00:00:00",
          "2023-06-09T00:00:00",
          "2023-06-10T00:00:00",
          "2023-06-11T00:00:00",
          "2023-06-12T00:00:00",
          "2023-06-13T00:00:00",
          "2023-06-14T00:00:00",
          "2023-06-15T00:00:00",
          "2023-06-16T00:00:00",
          "2023-06-17T00:00:00",
          "2023-06-18T00:00:00",
          "2023-06-19T00:00:00",
          "2023-06-20T00:00:00",
          "2023-06-21T00:00:00",
          "2023-06-22T00:00:00",
          "2023-06-23T00:00:00",
          "2023-06-24T00:00:00",
          "2023-06-25T00:00:00",
          "2023-06-26T00:00:00",
          "2023-06-27T00:00:00",
          "2023-06-28T00:00:00",
          "2023-06-29T00:00:00",
          "2023-06-30T00:00:00",
          "2023-07-01T00:00:00",
          "2023-07-02T00:00:00",
          "2023-07-03T00:00:00",
          "2023-07-04T00:00:00",
          "2023-07-05T00:00:00",
          "2023-07-06T00:00:00",
          "2023-07-07T00:00:00",
          "2023-07-08T00:00:00",
          "2023-07-09T00:00:00",
          "2023-07-10T00:00:00",
          "2023-07-11T00:00:00",
          "2023-07-12T00:00:00",
          "2023-07-13T00:00:00",
          "2023-07-14T00:00:00",
          "2023-07-15T00:00:00",
          "2023-07-16T00:00:00",
          "2023-07-17T00:00:00",
          "2023-07-18T00:00:00",
          "2023-07-19T00:00:00",
          "2023-07-20T00:00:00",
          "2023-07-21T00:00:00",
          "2023-07-22T00:00:00",
          "2023-07-23T00:00:00",
          "2023-07-24T00:00:00",
          "2023-07-25T00:00:00",
          "2023-07-26T00:00:00",
          "2023-07-27T00:00:00",
          "2023-07-28T00:00:00",
          "2023-07-29T00:00:00",
          "2023-07-30T00:00:00",
          "2023-07-31T00:00:00",
          "2023-08-01T00:00:00",
          "2023-08-02T00:00:00",
          "2023-08-03T00:00:00",
          "2023-08-04T00:00:00",
          "2023-08-05T00:00:00",
          "2023-08-06T00:00:00",
          "2023-08-07T00:00:00",
          "2023-08-08T00:00:00",
          "2023-08-09T00:00:00",
          "2023-08-10T00:00:00",
          "2023-08-11T00:00:00",
          "2023-08-12T00:00:00",
          "2023-08-13T00:00:00",
          "2023-08-14T00:00:00",
          "2023-08-15T00:00:00",
          "2023-08-16T00:00:00",
          "2023-08-17T00:00:00",
          "2023-08-18T00:00:00",
          "2023-08-19T00:00:00",
          "2023-08-20T00:00:00",
          "2023-08-21T00:00:00",
          "2023-08-22T00:00:00",
          "2023-08-23T00:00:00",
          "2023-08-24T00:00:00",
          "2023-08-25T00:00:00",
          "2023-08-26T00:00:00",
          "2023-08-27T00:00:00",
          "2023-08-28T00:00:00",
          "2023-08-29T00:00:00",
          "2023-08-30T00:00:00",
          "2023-08-31T00:00:00",
          "2023-09-01T00:00:00",
          "2023-09-02T00:00:00",
          "2023-09-03T00:00:00",
          "2023-09-04T00:00:00",
          "2023-09-05T00:00:00",
          "2023-09-06T00:00:00",
          "2023-09-07T00:00:00",
          "2023-09-08T00:00:00",
          "2023-09-09T00:00:00",
          "2023-09-10T00:00:00",
          "2023-09-11T00:00:00",
          "2023-09-12T00:00:00",
          "2023-09-13T00:00:00",
          "2023-09-14T00:00:00",
          "2023-09-15T00:00:00",
          "2023-09-16T00:00:00",
          "2023-09-17T00:00:00",
          "2023-09-18T00:00:00",
          "2023-09-19T00:00:00",
          "2023-09-20T00:00:00",
          "2023-09-21T00:00:00",
          "2023-09-22T00:00:00",
          "2023-09-23T00:00:00",
          "2023-09-24T00:00:00",
          "2023-09-25T00:00:00",
          "2023-09-26T00:00:00",
          "2023-09-27T00:00:00",
          "2023-09-28T00:00:00",
          "2023-09-29T00:00:00",
          "2023-09-30T00:00:00",
          "2023-10-01T00:00:00",
          "2023-10-02T00:00:00",
          "2023-10-03T00:00:00",
          "2023-10-04T00:00:00",
          "2023-10-05T00:00:00",
          "2023-10-06T00:00:00",
          "2023-10-07T00:00:00",
          "2023-10-08T00:00:00",
          "2023-10-09T00:00:00",
          "2023-10-10T00:00:00",
          "2023-10-11T00:00:00",
          "2023-10-12T00:00:00",
          "2023-10-13T00:00:00",
          "2023-10-14T00:00:00",
          "2023-10-15T00:00:00",
          "2023-10-16T00:00:00",
          "2023-10-17T00:00:00",
          "2023-10-18T00:00:00",
          "2023-10-19T00:00:00",
          "2023-10-20T00:00:00",
          "2023-10-21T00:00:00",
          "2023-10-22T00:00:00",
          "2023-10-23T00:00:00",
          "2023-10-24T00:00:00",
          "2023-10-25T00:00:00",
          "2023-10-26T00:00:00",
          "2023-10-27T00:00:00",
          "2023-10-28T00:00:00",
          "2023-10-29T00:00:00",
          "2023-10-30T00:00:00",
          "2023-10-31T00:00:00",
          "2023-11-01T00:00:00",
          "2023-11-02T00:00:00",
          "2023-11-03T00:00:00",
          "2023-11-04T00:00:00",
          "2023-11-05T00:00:00",
          "2023-11-06T00:00:00",
          "2023-11-07T00:00:00",
          "2023-11-08T00:00:00",
          "2023-11-09T00:00:00",
          "2023-11-10T00:00:00",
          "2023-11-11T00:00:00",
          "2023-11-12T00:00:00",
          "2023-11-13T00:00:00",
          "2023-11-14T00:00:00",
          "2023-11-15T00:00:00",
          "2023-11-16T00:00:00",
          "2023-11-17T00:00:00",
          "2023-11-18T00:00:00",
          "2023-11-19T00:00:00",
          "2023-11-20T00:00:00",
          "2023-11-21T00:00:00",
          "2023-11-22T00:00:00",
          "2023-11-23T00:00:00",
          "2023-11-24T00:00:00",
          "2023-11-25T00:00:00",
          "2023-11-26T00:00:00",
          "2023-11-27T00:00:00",
          "2023-11-28T00:00:00",
          "2023-11-29T00:00:00",
          "2023-11-30T00:00:00",
          "2023-12-01T00:00:00",
          "2023-12-02T00:00:00",
          "2023-12-03T00:00:00",
          "2023-12-04T00:00:00",
          "2023-12-05T00:00:00",
          "2023-12-06T00:00:00",
          "2023-12-07T00:00:00",
          "2023-12-08T00:00:00",
          "2023-12-09T00:00:00",
          "2023-12-10T00:00:00",
          "2023-12-11T00:00:00",
          "2023-12-12T00:00:00",
          "2023-12-13T00:00:00",
          "2023-12-14T00:00:00",
          "2023-12-15T00:00:00",
          "2023-12-16T00:00:00",
          "2023-12-17T00:00:00",
          "2023-12-18T00:00:00",
          "2023-12-19T00:00:00",
          "2023-12-20T00:00:00",
          "2023-12-21T00:00:00",
          "2023-12-22T00:00:00",
          "2023-12-23T00:00:00",
          "2023-12-24T00:00:00",
          "2023-12-25T00:00:00",
          "2023-12-26T00:00:00",
          "2023-12-27T00:00:00",
          "2023-12-28T00:00:00",
          "2023-12-29T00:00:00",
          "2023-12-30T00:00:00",
          "2023-12-31T00:00:00",
          "2024-01-01T00:00:00",
          "2024-01-02T00:00:00",
          "2024-01-03T00:00:00",
          "2024-01-04T00:00:00",
          "2024-01-05T00:00:00",
          "2024-01-06T00:00:00",
          "2024-01-07T00:00:00",
          "2024-01-08T00:00:00",
          "2024-01-09T00:00:00",
          "2024-01-10T00:00:00",
          "2024-01-11T00:00:00",
          "2024-01-12T00:00:00",
          "2024-01-13T00:00:00",
          "2024-01-14T00:00:00",
          "2024-01-15T00:00:00",
          "2024-01-16T00:00:00",
          "2024-01-17T00:00:00",
          "2024-01-18T00:00:00",
          "2024-01-19T00:00:00",
          "2024-01-20T00:00:00",
          "2024-01-21T00:00:00",
          "2024-01-22T00:00:00",
          "2024-01-23T00:00:00",
          "2024-01-24T00:00:00",
          "2024-01-25T00:00:00",
          "2024-01-26T00:00:00",
          "2024-01-27T00:00:00",
          "2024-01-28T00:00:00",
          "2024-01-29T00:00:00",
          "2024-01-30T00:00:00",
          "2024-01-31T00:00:00",
          "2024-02-01T00:00:00",
          "2024-02-02T00:00:00",
          "2024-02-03T00:00:00",
          "2024-02-04T00:00:00",
          "2024-02-05T00:00:00",
          "2024-02-06T00:00:00",
          "2024-02-07T00:00:00",
          "2024-02-08T00:00:00",
          "2024-02-09T00:00:00",
          "2024-02-10T00:00:00",
          "2024-02-11T00:00:00",
          "2024-02-12T00:00:00",
          "2024-02-13T00:00:00",
          "2024-02-14T00:00:00",
          "2024-02-15T00:00:00",
          "2024-02-16T00:00:00",
          "2024-02-17T00:00:00",
          "2024-02-18T00:00:00",
          "2024-02-19T00:00:00",
          "2024-02-20T00:00:00",
          "2024-02-21T00:00:00",
          "2024-02-22T00:00:00",
          "2024-02-23T00:00:00",
          "2024-02-24T00:00:00",
          "2024-02-25T00:00:00",
          "2024-02-26T00:00:00",
          "2024-02-27T00:00:00",
          "2024-02-28T00:00:00",
          "2024-02-29T00:00:00",
          "2024-03-01T00:00:00",
          "2024-03-02T00:00:00",
          "2024-03-03T00:00:00",
          "2024-03-04T00:00:00",
          "2024-03-05T00:00:00",
          "2024-03-06T00:00:00",
          "2024-03-07T00:00:00",
          "2024-03-08T00:00:00",
          "2024-03-09T00:00:00",
          "2024-03-10T00:00:00",
          "2024-03-11T00:00:00",
          "2024-03-12T00:00:00",
          "2024-03-13T00:00:00",
          "2024-03-14T00:00:00",
          "2024-03-15T00:00:00",
          "2024-03-16T00:00:00",
          "2024-03-17T00:00:00",
          "2024-03-18T00:00:00",
          "2024-03-19T00:00:00",
          "2024-03-20T00:00:00",
          "2024-03-21T00:00:00",
          "2024-03-22T00:00:00",
          "2024-03-23T00:00:00",
          "2024-03-24T00:00:00",
          "2024-03-25T00:00:00",
          "2024-03-26T00:00:00",
          "2024-03-27T00:00:00",
          "2024-03-28T00:00:00",
          "2024-03-29T00:00:00",
          "2024-03-30T00:00:00",
          "2024-03-31T00:00:00",
          "2024-04-01T00:00:00",
          "2024-04-02T00:00:00",
          "2024-04-03T00:00:00",
          "2024-04-04T00:00:00",
          "2024-04-05T00:00:00",
          "2024-04-06T00:00:00",
          "2024-04-07T00:00:00"
         ],
         "y": [
          16625.080078125,
          16688.470703125,
          16679.857421875,
          16863.23828125,
          16836.736328125,
          16951.96875,
          16955.078125,
          17091.14453125,
          17196.5546875,
          17446.29296875,
          17934.896484375,
          18869.587890625,
          19909.57421875,
          20976.298828125,
          20880.798828125,
          21169.6328125,
          21161.51953125,
          20688.78125,
          21086.79296875,
          22676.552734375,
          22777.625,
          22720.416015625,
          22934.431640625,
          22636.46875,
          23117.859375,
          23032.77734375,
          23078.728515625,
          23031.08984375,
          23774.56640625,
          22840.138671875,
          23139.283203125,
          23723.76953125,
          23471.87109375,
          23449.322265625,
          23331.84765625,
          22955.666015625,
          22760.109375,
          23264.291015625,
          22939.3984375,
          21819.0390625,
          21651.18359375,
          21870.875,
          21788.203125,
          21808.1015625,
          22220.8046875,
          24307.841796875,
          23623.474609375,
          24565.6015625,
          24641.27734375,
          24327.642578125,
          24829.1484375,
          24436.353515625,
          24188.84375,
          23947.4921875,
          23198.126953125,
          23175.375,
          23561.212890625,
          23522.87109375,
          23147.353515625,
          23646.55078125,
          23475.466796875,
          22362.6796875,
          22353.349609375,
          22435.513671875,
          22429.7578125,
          22219.76953125,
          21718.080078125,
          20363.021484375,
          20187.244140625,
          20632.41015625,
          22163.94921875,
          24197.533203125,
          24746.07421875,
          24375.9609375,
          25052.7890625,
          27423.9296875,
          26965.87890625,
          28038.67578125,
          27767.236328125,
          28175.81640625,
          27307.4375,
          28333.97265625,
          27493.28515625,
          27494.70703125,
          27994.330078125,
          27139.888671875,
          27268.130859375,
          28348.44140625,
          28033.5625,
          28478.484375,
          28411.03515625,
          28199.30859375,
          27790.220703125,
          28168.08984375,
          28177.984375,
          28044.140625,
          27925.859375,
          27947.794921875,
          28333.05078125,
          29652.98046875,
          30235.05859375,
          30139.052734375,
          30399.06640625,
          30485.69921875,
          30318.49609375,
          30315.35546875,
          29445.044921875,
          30397.552734375,
          28822.6796875,
          28245.98828125,
          27276.91015625,
          27817.5,
          27591.384765625,
          27525.33984375,
          28307.59765625,
          28422.701171875,
          29473.787109375,
          29340.26171875,
          29248.48828125,
          29268.806640625,
          28091.568359375,
          28680.537109375,
          29006.30859375,
          28847.7109375,
          29534.384765625,
          28904.623046875,
          28454.978515625,
          27694.2734375,
          27658.775390625,
          27621.755859375,
          27000.7890625,
          26804.990234375,
          26784.078125,
          26930.638671875,
          27192.693359375,
          27036.650390625,
          27398.802734375,
          26832.208984375,
          26890.12890625,
          27129.5859375,
          26753.826171875,
          26851.27734375,
          27225.7265625,
          26334.818359375,
          26476.20703125,
          26719.291015625,
          26868.353515625,
          28085.646484375,
          27745.884765625,
          27702.349609375,
          27219.658203125,
          26819.97265625,
          27249.58984375,
          27075.12890625,
          27119.06640625,
          25760.09765625,
          27238.783203125,
          26345.998046875,
          26508.216796875,
          26480.375,
          25851.240234375,
          25940.16796875,
          25902.5,
          25918.728515625,
          25124.67578125,
          25576.39453125,
          26327.462890625,
          26510.67578125,
          26336.212890625,
          26851.029296875,
          28327.48828125,
          30027.296875,
          29912.28125,
          30695.46875,
          30548.6953125,
          30480.26171875,
          30271.130859375,
          30688.1640625,
          30086.24609375,
          30445.3515625,
          30477.251953125,
          30590.078125,
          30620.76953125,
          31156.439453125,
          30777.58203125,
          30514.166015625,
          29909.337890625,
          30342.265625,
          30292.541015625,
          30171.234375,
          30414.470703125,
          30620.951171875,
          30391.646484375,
          31476.048828125,
          30334.068359375,
          30295.806640625,
          30249.1328125,
          30145.888671875,
          29856.5625,
          29913.923828125,
          29792.015625,
          29908.744140625,
          29771.802734375,
          30084.5390625,
          29176.916015625,
          29227.390625,
          29354.97265625,
          29210.689453125,
          29319.24609375,
          29356.91796875,
          29275.30859375,
          29230.111328125,
          29675.732421875,
          29151.958984375,
          29178.6796875,
          29074.091796875,
          29042.126953125,
          29041.85546875,
          29180.578125,
          29765.4921875,
          29561.494140625,
          29429.591796875,
          29397.71484375,
          29415.96484375,
          29282.9140625,
          29408.443359375,
          29170.34765625,
          28701.779296875,
          26664.55078125,
          26049.556640625,
          26096.205078125,
          26189.583984375,
          26124.140625,
          26031.65625,
          26431.640625,
          26162.373046875,
          26047.66796875,
          26008.462890625,
          26089.693359375,
          26106.150390625,
          27727.392578125,
          27297.265625,
          25931.47265625,
          25800.724609375,
          25868.798828125,
          25969.56640625,
          25812.416015625,
          25779.982421875,
          25753.236328125,
          26240.1953125,
          25905.654296875,
          25895.677734375,
          25832.2265625,
          25162.654296875,
          25833.34375,
          26228.32421875,
          26539.673828125,
          26608.693359375,
          26568.28125,
          26534.1875,
          26754.28125,
          27211.1171875,
          27132.0078125,
          26567.6328125,
          26579.568359375,
          26579.390625,
          26256.826171875,
          26298.48046875,
          26217.25,
          26352.716796875,
          27021.546875,
          26911.720703125,
          26967.916015625,
          27983.75,
          27530.78515625,
          27429.978515625,
          27799.39453125,
          27415.912109375,
          27946.59765625,
          27968.83984375,
          27935.08984375,
          27583.677734375,
          27391.01953125,
          26873.3203125,
          26756.798828125,
          26862.375,
          26861.70703125,
          27159.65234375,
          28519.466796875,
          28415.748046875,
          28328.341796875,
          28719.806640625,
          29682.94921875,
          29918.412109375,
          29993.896484375,
          33086.234375,
          33901.52734375,
          34502.8203125,
          34156.6484375,
          33909.80078125,
          34089.57421875,
          34538.48046875,
          34502.36328125,
          34667.78125,
          35437.25390625,
          34938.2421875,
          34732.32421875,
          35082.1953125,
          35049.35546875,
          35037.37109375,
          35443.5625,
          35655.27734375,
          36693.125,
          37313.96875,
          37138.05078125,
          37054.51953125,
          36502.35546875,
          35537.640625,
          37880.58203125,
          36154.76953125,
          36596.68359375,
          36585.703125,
          37386.546875,
          37476.95703125,
          35813.8125,
          37432.33984375,
          37289.62109375,
          37720.28125,
          37796.79296875,
          37479.12109375,
          37254.16796875,
          37831.0859375,
          37858.4921875,
          37712.74609375,
          38688.75,
          39476.33203125,
          39978.390625,
          41980.09765625,
          44080.6484375,
          43746.4453125,
          43292.6640625,
          44166.6015625,
          43725.984375,
          43779.69921875,
          41243.83203125,
          41450.22265625,
          42890.7421875,
          43023.97265625,
          41929.7578125,
          42240.1171875,
          41364.6640625,
          42623.5390625,
          42270.52734375,
          43652.25,
          43869.15234375,
          43997.90234375,
          43739.54296875,
          43016.1171875,
          43613.140625,
          42520.40234375,
          43442.85546875,
          42627.85546875,
          42099.40234375,
          42156.90234375,
          42265.1875,
          44167.33203125,
          44957.96875,
          42848.17578125,
          44179.921875,
          44162.69140625,
          43989.1953125,
          43943.09765625,
          46970.50390625,
          46139.73046875,
          46627.77734375,
          46368.5859375,
          42853.16796875,
          42842.3828125,
          41796.26953125,
          42511.96875,
          43154.9453125,
          42742.65234375,
          41262.05859375,
          41618.40625,
          41665.5859375,
          41545.78515625,
          39507.3671875,
          39845.55078125,
          40077.07421875,
          39933.80859375,
          41816.87109375,
          42120.0546875,
          42035.59375,
          43288.24609375,
          42952.609375,
          42582.60546875,
          43075.7734375,
          43185.859375,
          42992.25,
          42583.58203125,
          42658.66796875,
          43084.671875,
          44318.22265625,
          45301.56640625,
          47147.19921875,
          47771.27734375,
          48293.91796875,
          49958.22265625,
          49742.44140625,
          51826.6953125,
          51938.5546875,
          52160.203125,
          51662.99609375,
          52122.546875,
          51779.14453125,
          52284.875,
          51839.1796875,
          51304.97265625,
          50731.94921875,
          51571.1015625,
          51733.23828125,
          54522.40234375,
          57085.37109375,
          62504.7890625,
          61198.3828125,
          62440.6328125,
          62029.84765625,
          63167.37109375,
          68330.4140625,
          63801.19921875,
          66106.8046875,
          66925.484375,
          68300.09375,
          68498.8828125,
          69019.7890625,
          72123.90625,
          71481.2890625,
          73083.5,
          71396.59375,
          69403.7734375,
          65315.1171875,
          68390.625,
          67548.59375,
          61912.7734375,
          67913.671875,
          65491.390625,
          63778.76171875,
          64062.203125,
          67234.171875,
          69958.8125,
          69987.8359375,
          69455.34375,
          70744.953125,
          69892.828125,
          69645.3046875,
          71333.6484375,
          69702.1484375,
          65446.97265625,
          65980.8125,
          68508.84375,
          67837.640625,
          68896.109375,
          69362.5546875
         ]
        },
        {
         "line": {
          "color": "blue",
          "width": 1
         },
         "mode": "lines",
         "name": "Scenario 1",
         "type": "scatter",
         "x": [
          "2023-01-01T00:00:00",
          "2023-01-02T00:00:00",
          "2023-01-03T00:00:00",
          "2023-01-04T00:00:00",
          "2023-01-05T00:00:00",
          "2023-01-06T00:00:00",
          "2023-01-07T00:00:00",
          "2023-01-08T00:00:00",
          "2023-01-09T00:00:00",
          "2023-01-10T00:00:00",
          "2023-01-11T00:00:00",
          "2023-01-12T00:00:00",
          "2023-01-13T00:00:00",
          "2023-01-14T00:00:00",
          "2023-01-15T00:00:00",
          "2023-01-16T00:00:00",
          "2023-01-17T00:00:00",
          "2023-01-18T00:00:00",
          "2023-01-19T00:00:00",
          "2023-01-20T00:00:00",
          "2023-01-21T00:00:00",
          "2023-01-22T00:00:00",
          "2023-01-23T00:00:00",
          "2023-01-24T00:00:00",
          "2023-01-25T00:00:00",
          "2023-01-26T00:00:00",
          "2023-01-27T00:00:00",
          "2023-01-28T00:00:00",
          "2023-01-29T00:00:00",
          "2023-01-30T00:00:00",
          "2023-01-31T00:00:00",
          "2023-02-01T00:00:00",
          "2023-02-02T00:00:00",
          "2023-02-03T00:00:00",
          "2023-02-04T00:00:00",
          "2023-02-05T00:00:00",
          "2023-02-06T00:00:00",
          "2023-02-07T00:00:00",
          "2023-02-08T00:00:00",
          "2023-02-09T00:00:00",
          "2023-02-10T00:00:00",
          "2023-02-11T00:00:00",
          "2023-02-12T00:00:00",
          "2023-02-13T00:00:00",
          "2023-02-14T00:00:00",
          "2023-02-15T00:00:00",
          "2023-02-16T00:00:00",
          "2023-02-17T00:00:00",
          "2023-02-18T00:00:00",
          "2023-02-19T00:00:00",
          "2023-02-20T00:00:00",
          "2023-02-21T00:00:00",
          "2023-02-22T00:00:00",
          "2023-02-23T00:00:00",
          "2023-02-24T00:00:00",
          "2023-02-25T00:00:00",
          "2023-02-26T00:00:00",
          "2023-02-27T00:00:00",
          "2023-02-28T00:00:00",
          "2023-03-01T00:00:00",
          "2023-03-02T00:00:00",
          "2023-03-03T00:00:00",
          "2023-03-04T00:00:00",
          "2023-03-05T00:00:00",
          "2023-03-06T00:00:00",
          "2023-03-07T00:00:00",
          "2023-03-08T00:00:00",
          "2023-03-09T00:00:00",
          "2023-03-10T00:00:00",
          "2023-03-11T00:00:00",
          "2023-03-12T00:00:00",
          "2023-03-13T00:00:00",
          "2023-03-14T00:00:00",
          "2023-03-15T00:00:00",
          "2023-03-16T00:00:00",
          "2023-03-17T00:00:00",
          "2023-03-18T00:00:00",
          "2023-03-19T00:00:00",
          "2023-03-20T00:00:00",
          "2023-03-21T00:00:00",
          "2023-03-22T00:00:00",
          "2023-03-23T00:00:00",
          "2023-03-24T00:00:00",
          "2023-03-25T00:00:00",
          "2023-03-26T00:00:00",
          "2023-03-27T00:00:00",
          "2023-03-28T00:00:00",
          "2023-03-29T00:00:00",
          "2023-03-30T00:00:00",
          "2023-03-31T00:00:00",
          "2023-04-01T00:00:00",
          "2023-04-02T00:00:00",
          "2023-04-03T00:00:00",
          "2023-04-04T00:00:00",
          "2023-04-05T00:00:00",
          "2023-04-06T00:00:00",
          "2023-04-07T00:00:00",
          "2023-04-08T00:00:00",
          "2023-04-09T00:00:00",
          "2023-04-10T00:00:00",
          "2023-04-11T00:00:00",
          "2023-04-12T00:00:00",
          "2023-04-13T00:00:00",
          "2023-04-14T00:00:00",
          "2023-04-15T00:00:00",
          "2023-04-16T00:00:00",
          "2023-04-17T00:00:00",
          "2023-04-18T00:00:00",
          "2023-04-19T00:00:00",
          "2023-04-20T00:00:00",
          "2023-04-21T00:00:00",
          "2023-04-22T00:00:00",
          "2023-04-23T00:00:00",
          "2023-04-24T00:00:00",
          "2023-04-25T00:00:00",
          "2023-04-26T00:00:00",
          "2023-04-27T00:00:00",
          "2023-04-28T00:00:00",
          "2023-04-29T00:00:00",
          "2023-04-30T00:00:00",
          "2023-05-01T00:00:00",
          "2023-05-02T00:00:00",
          "2023-05-03T00:00:00",
          "2023-05-04T00:00:00",
          "2023-05-05T00:00:00",
          "2023-05-06T00:00:00",
          "2023-05-07T00:00:00",
          "2023-05-08T00:00:00",
          "2023-05-09T00:00:00",
          "2023-05-10T00:00:00",
          "2023-05-11T00:00:00",
          "2023-05-12T00:00:00",
          "2023-05-13T00:00:00",
          "2023-05-14T00:00:00",
          "2023-05-15T00:00:00",
          "2023-05-16T00:00:00",
          "2023-05-17T00:00:00",
          "2023-05-18T00:00:00",
          "2023-05-19T00:00:00",
          "2023-05-20T00:00:00",
          "2023-05-21T00:00:00",
          "2023-05-22T00:00:00",
          "2023-05-23T00:00:00",
          "2023-05-24T00:00:00",
          "2023-05-25T00:00:00",
          "2023-05-26T00:00:00",
          "2023-05-27T00:00:00",
          "2023-05-28T00:00:00",
          "2023-05-29T00:00:00",
          "2023-05-30T00:00:00",
          "2023-05-31T00:00:00",
          "2023-06-01T00:00:00",
          "2023-06-02T00:00:00",
          "2023-06-03T00:00:00",
          "2023-06-04T00:00:00",
          "2023-06-05T00:00:00",
          "2023-06-06T00:00:00",
          "2023-06-07T00:00:00",
          "2023-06-08T00:00:00",
          "2023-06-09T00:00:00",
          "2023-06-10T00:00:00",
          "2023-06-11T00:00:00",
          "2023-06-12T00:00:00",
          "2023-06-13T00:00:00",
          "2023-06-14T00:00:00",
          "2023-06-15T00:00:00",
          "2023-06-16T00:00:00",
          "2023-06-17T00:00:00",
          "2023-06-18T00:00:00",
          "2023-06-19T00:00:00",
          "2023-06-20T00:00:00",
          "2023-06-21T00:00:00",
          "2023-06-22T00:00:00",
          "2023-06-23T00:00:00",
          "2023-06-24T00:00:00",
          "2023-06-25T00:00:00",
          "2023-06-26T00:00:00",
          "2023-06-27T00:00:00",
          "2023-06-28T00:00:00",
          "2023-06-29T00:00:00",
          "2023-06-30T00:00:00",
          "2023-07-01T00:00:00",
          "2023-07-02T00:00:00",
          "2023-07-03T00:00:00",
          "2023-07-04T00:00:00",
          "2023-07-05T00:00:00",
          "2023-07-06T00:00:00",
          "2023-07-07T00:00:00",
          "2023-07-08T00:00:00",
          "2023-07-09T00:00:00",
          "2023-07-10T00:00:00",
          "2023-07-11T00:00:00",
          "2023-07-12T00:00:00",
          "2023-07-13T00:00:00",
          "2023-07-14T00:00:00",
          "2023-07-15T00:00:00",
          "2023-07-16T00:00:00",
          "2023-07-17T00:00:00",
          "2023-07-18T00:00:00",
          "2023-07-19T00:00:00",
          "2023-07-20T00:00:00",
          "2023-07-21T00:00:00",
          "2023-07-22T00:00:00",
          "2023-07-23T00:00:00",
          "2023-07-24T00:00:00",
          "2023-07-25T00:00:00",
          "2023-07-26T00:00:00",
          "2023-07-27T00:00:00",
          "2023-07-28T00:00:00",
          "2023-07-29T00:00:00",
          "2023-07-30T00:00:00",
          "2023-07-31T00:00:00",
          "2023-08-01T00:00:00",
          "2023-08-02T00:00:00",
          "2023-08-03T00:00:00",
          "2023-08-04T00:00:00",
          "2023-08-05T00:00:00",
          "2023-08-06T00:00:00",
          "2023-08-07T00:00:00",
          "2023-08-08T00:00:00",
          "2023-08-09T00:00:00",
          "2023-08-10T00:00:00",
          "2023-08-11T00:00:00",
          "2023-08-12T00:00:00",
          "2023-08-13T00:00:00",
          "2023-08-14T00:00:00",
          "2023-08-15T00:00:00",
          "2023-08-16T00:00:00",
          "2023-08-17T00:00:00",
          "2023-08-18T00:00:00",
          "2023-08-19T00:00:00",
          "2023-08-20T00:00:00",
          "2023-08-21T00:00:00",
          "2023-08-22T00:00:00",
          "2023-08-23T00:00:00",
          "2023-08-24T00:00:00",
          "2023-08-25T00:00:00",
          "2023-08-26T00:00:00",
          "2023-08-27T00:00:00",
          "2023-08-28T00:00:00",
          "2023-08-29T00:00:00",
          "2023-08-30T00:00:00",
          "2023-08-31T00:00:00",
          "2023-09-01T00:00:00",
          "2023-09-02T00:00:00",
          "2023-09-03T00:00:00",
          "2023-09-04T00:00:00",
          "2023-09-05T00:00:00",
          "2023-09-06T00:00:00",
          "2023-09-07T00:00:00",
          "2023-09-08T00:00:00",
          "2023-09-09T00:00:00",
          "2023-09-10T00:00:00",
          "2023-09-11T00:00:00",
          "2023-09-12T00:00:00",
          "2023-09-13T00:00:00",
          "2023-09-14T00:00:00",
          "2023-09-15T00:00:00",
          "2023-09-16T00:00:00",
          "2023-09-17T00:00:00",
          "2023-09-18T00:00:00",
          "2023-09-19T00:00:00",
          "2023-09-20T00:00:00",
          "2023-09-21T00:00:00",
          "2023-09-22T00:00:00",
          "2023-09-23T00:00:00",
          "2023-09-24T00:00:00",
          "2023-09-25T00:00:00",
          "2023-09-26T00:00:00",
          "2023-09-27T00:00:00",
          "2023-09-28T00:00:00",
          "2023-09-29T00:00:00",
          "2023-09-30T00:00:00",
          "2023-10-01T00:00:00",
          "2023-10-02T00:00:00",
          "2023-10-03T00:00:00",
          "2023-10-04T00:00:00",
          "2023-10-05T00:00:00",
          "2023-10-06T00:00:00",
          "2023-10-07T00:00:00",
          "2023-10-08T00:00:00",
          "2023-10-09T00:00:00",
          "2023-10-10T00:00:00",
          "2023-10-11T00:00:00",
          "2023-10-12T00:00:00",
          "2023-10-13T00:00:00",
          "2023-10-14T00:00:00",
          "2023-10-15T00:00:00",
          "2023-10-16T00:00:00",
          "2023-10-17T00:00:00",
          "2023-10-18T00:00:00",
          "2023-10-19T00:00:00",
          "2023-10-20T00:00:00",
          "2023-10-21T00:00:00",
          "2023-10-22T00:00:00",
          "2023-10-23T00:00:00",
          "2023-10-24T00:00:00",
          "2023-10-25T00:00:00",
          "2023-10-26T00:00:00",
          "2023-10-27T00:00:00",
          "2023-10-28T00:00:00",
          "2023-10-29T00:00:00",
          "2023-10-30T00:00:00",
          "2023-10-31T00:00:00",
          "2023-11-01T00:00:00",
          "2023-11-02T00:00:00",
          "2023-11-03T00:00:00",
          "2023-11-04T00:00:00",
          "2023-11-05T00:00:00",
          "2023-11-06T00:00:00",
          "2023-11-07T00:00:00",
          "2023-11-08T00:00:00",
          "2023-11-09T00:00:00",
          "2023-11-10T00:00:00",
          "2023-11-11T00:00:00",
          "2023-11-12T00:00:00",
          "2023-11-13T00:00:00",
          "2023-11-14T00:00:00",
          "2023-11-15T00:00:00",
          "2023-11-16T00:00:00",
          "2023-11-17T00:00:00",
          "2023-11-18T00:00:00",
          "2023-11-19T00:00:00",
          "2023-11-20T00:00:00",
          "2023-11-21T00:00:00",
          "2023-11-22T00:00:00",
          "2023-11-23T00:00:00",
          "2023-11-24T00:00:00",
          "2023-11-25T00:00:00",
          "2023-11-26T00:00:00",
          "2023-11-27T00:00:00",
          "2023-11-28T00:00:00",
          "2023-11-29T00:00:00",
          "2023-11-30T00:00:00",
          "2023-12-01T00:00:00",
          "2023-12-02T00:00:00",
          "2023-12-03T00:00:00",
          "2023-12-04T00:00:00",
          "2023-12-05T00:00:00",
          "2023-12-06T00:00:00",
          "2023-12-07T00:00:00",
          "2023-12-08T00:00:00",
          "2023-12-09T00:00:00",
          "2023-12-10T00:00:00",
          "2023-12-11T00:00:00",
          "2023-12-12T00:00:00",
          "2023-12-13T00:00:00",
          "2023-12-14T00:00:00",
          "2023-12-15T00:00:00",
          "2023-12-16T00:00:00",
          "2023-12-17T00:00:00",
          "2023-12-18T00:00:00",
          "2023-12-19T00:00:00",
          "2023-12-20T00:00:00",
          "2023-12-21T00:00:00",
          "2023-12-22T00:00:00",
          "2023-12-23T00:00:00",
          "2023-12-24T00:00:00",
          "2023-12-25T00:00:00",
          "2023-12-26T00:00:00",
          "2023-12-27T00:00:00",
          "2023-12-28T00:00:00",
          "2023-12-29T00:00:00",
          "2023-12-30T00:00:00",
          "2023-12-31T00:00:00",
          "2024-01-01T00:00:00",
          "2024-01-02T00:00:00",
          "2024-01-03T00:00:00",
          "2024-01-04T00:00:00",
          "2024-01-05T00:00:00",
          "2024-01-06T00:00:00",
          "2024-01-07T00:00:00",
          "2024-01-08T00:00:00",
          "2024-01-09T00:00:00",
          "2024-01-10T00:00:00",
          "2024-01-11T00:00:00",
          "2024-01-12T00:00:00",
          "2024-01-13T00:00:00",
          "2024-01-14T00:00:00",
          "2024-01-15T00:00:00",
          "2024-01-16T00:00:00",
          "2024-01-17T00:00:00",
          "2024-01-18T00:00:00",
          "2024-01-19T00:00:00",
          "2024-01-20T00:00:00",
          "2024-01-21T00:00:00",
          "2024-01-22T00:00:00",
          "2024-01-23T00:00:00",
          "2024-01-24T00:00:00",
          "2024-01-25T00:00:00",
          "2024-01-26T00:00:00",
          "2024-01-27T00:00:00",
          "2024-01-28T00:00:00",
          "2024-01-29T00:00:00",
          "2024-01-30T00:00:00",
          "2024-01-31T00:00:00",
          "2024-02-01T00:00:00",
          "2024-02-02T00:00:00",
          "2024-02-03T00:00:00",
          "2024-02-04T00:00:00",
          "2024-02-05T00:00:00",
          "2024-02-06T00:00:00",
          "2024-02-07T00:00:00",
          "2024-02-08T00:00:00",
          "2024-02-09T00:00:00",
          "2024-02-10T00:00:00",
          "2024-02-11T00:00:00",
          "2024-02-12T00:00:00",
          "2024-02-13T00:00:00",
          "2024-02-14T00:00:00",
          "2024-02-15T00:00:00",
          "2024-02-16T00:00:00",
          "2024-02-17T00:00:00",
          "2024-02-18T00:00:00",
          "2024-02-19T00:00:00",
          "2024-02-20T00:00:00",
          "2024-02-21T00:00:00",
          "2024-02-22T00:00:00",
          "2024-02-23T00:00:00",
          "2024-02-24T00:00:00",
          "2024-02-25T00:00:00",
          "2024-02-26T00:00:00",
          "2024-02-27T00:00:00",
          "2024-02-28T00:00:00",
          "2024-02-29T00:00:00",
          "2024-03-01T00:00:00",
          "2024-03-02T00:00:00",
          "2024-03-03T00:00:00",
          "2024-03-04T00:00:00",
          "2024-03-05T00:00:00",
          "2024-03-06T00:00:00",
          "2024-03-07T00:00:00",
          "2024-03-08T00:00:00",
          "2024-03-09T00:00:00",
          "2024-03-10T00:00:00",
          "2024-03-11T00:00:00",
          "2024-03-12T00:00:00",
          "2024-03-13T00:00:00",
          "2024-03-14T00:00:00",
          "2024-03-15T00:00:00",
          "2024-03-16T00:00:00",
          "2024-03-17T00:00:00",
          "2024-03-18T00:00:00",
          "2024-03-19T00:00:00",
          "2024-03-20T00:00:00",
          "2024-03-21T00:00:00",
          "2024-03-22T00:00:00",
          "2024-03-23T00:00:00",
          "2024-03-24T00:00:00",
          "2024-03-25T00:00:00",
          "2024-03-26T00:00:00",
          "2024-03-27T00:00:00",
          "2024-03-28T00:00:00",
          "2024-03-29T00:00:00",
          "2024-03-30T00:00:00",
          "2024-03-31T00:00:00",
          "2024-04-01T00:00:00",
          "2024-04-02T00:00:00",
          "2024-04-03T00:00:00",
          "2024-04-04T00:00:00",
          "2024-04-05T00:00:00",
          "2024-04-06T00:00:00",
          "2024-04-07T00:00:00"
         ],
         "y": [
          16625.080078125,
          16740.77405861372,
          16945.393907379235,
          17572.04318795743,
          17536.80697441363,
          17458.55836049673,
          17292.60394819015,
          18929.275842536805,
          19097.65484026564,
          18914.364461041256,
          18718.166029676722,
          19004.358559149106,
          20437.120983175377,
          21560.898047985327,
          21686.178113984708,
          21017.809916242357,
          20927.029078677435,
          20874.735957661687,
          21629.09333608151,
          22606.573155773112,
          21866.817637300945,
          23654.122017653346,
          24342.642116936102,
          23711.679935100932,
          24091.50676696179,
          24408.75414266113,
          24248.123691765744,
          24156.465820243448,
          23655.807798926548,
          25013.702538251757,
          24849.142103119368,
          24356.601687025664,
          25225.667993412688,
          24897.937484497448,
          24683.460779568915,
          23930.073544341165,
          23675.984575590253,
          23585.71485326586,
          21797.57221047008,
          22998.93268620517,
          22742.05841487516,
          22519.247171224637,
          22731.36788039496,
          23602.312116749803,
          23373.820630795235,
          24634.005043615256,
          24521.21477477678,
          23370.480256393257,
          24154.228729627135,
          24488.012169665562,
          24388.483277190833,
          23743.92400062039,
          23840.470841521277,
          23696.204308656586,
          24072.287785431632,
          25659.336300857773,
          25125.594455253377,
          25629.22784670284,
          25420.90003646082,
          24895.20834037941,
          24673.394387174107,
          24737.560440079567,
          24771.34737400538,
          27172.31136734835,
          26841.90031872688,
          26941.2684921918,
          27274.91446667666,
          27111.20792649288,
          27718.889663047514,
          27683.360063514876,
          27447.52874886043,
          25734.99202487048,
          26017.92639500127,
          25990.71922452891,
          25560.84833233217,
          25190.036633453252,
          24996.247833001216,
          24831.563438138586,
          24118.684726296164,
          24652.96151006145,
          24851.710283829983,
          25040.697471335967,
          24403.845475126625,
          24201.730783930954,
          24828.070317106507,
          24526.759687492082,
          24292.963102360394,
          24315.149053409634,
          24291.79010964886,
          24338.46022926572,
          23653.231005117792,
          23627.226002500905,
          23602.713340258782,
          23727.843562605933,
          23752.705403231495,
          24427.74663706054,
          24766.780892618008,
          24757.242923236212,
          23658.5711943049,
          24378.58632043356,
          24396.247077844753,
          24102.393578437146,
          23629.64898038301,
          24285.75484857042,
          24755.850428161903,
          24683.879114324594,
          25023.938995814256,
          24268.989627668354,
          23163.311641325694,
          23634.84427117163,
          24866.59299342198,
          24549.564283228272,
          23319.356348071087,
          24044.13543514012,
          24243.57489163103,
          24392.84850834711,
          24354.574491131083,
          24592.447296584116,
          25134.756177441057,
          25454.419117014713,
          25422.43535043185,
          25389.812007315562,
          24186.2808590039,
          24677.231861567987,
          24696.872020445186,
          24895.067192219904,
          24816.01749193318,
          24564.662204032025,
          24580.15726593133,
          24525.094079780807,
          24290.78666092522,
          24180.741868735724,
          24329.87733324273,
          25246.341038353028,
          24472.88773710861,
          24389.358656169607,
          24365.43838251927,
          24558.71959964541,
          24308.532067124528,
          24138.749119623575,
          23870.629161559336,
          22932.425808261676,
          23264.36505697388,
          22798.88580432694,
          22774.994137447724,
          23799.982623487136,
          23554.72183545502,
          23173.448385836167,
          22738.70807628073,
          22840.05737613138,
          22910.417516970432,
          22828.297548997223,
          22993.80886318863,
          22672.693646848817,
          23277.01528650844,
          23182.154474399817,
          24779.260802525994,
          24720.572925730135,
          25188.392541710946,
          25075.468797507805,
          25416.42491824195,
          25555.50176524935,
          25380.356922550905,
          25674.298050198206,
          26159.76441814404,
          26623.745944678016,
          26972.445578912153,
          26219.591211438117,
          28682.20499255364,
          28637.128570127737,
          28649.009102136977,
          28698.570458883412,
          28253.377906581856,
          29668.016773430147,
          28640.324812333143,
          28418.261192034755,
          26683.38358093769,
          26268.292974740983,
          26362.287655564982,
          24996.478485152224,
          25805.081124586726,
          25870.18753509383,
          25838.969978906764,
          26921.646514064647,
          27723.906232436108,
          26772.73997116426,
          26589.047122013013,
          26714.686457077827,
          26588.739163483595,
          27447.061740860037,
          27412.441532835153,
          27398.29337792799,
          27907.010117223897,
          27694.683722717637,
          27749.93555591055,
          27704.777337727206,
          27638.460990418895,
          27687.954770213095,
          28119.969129876477,
          27992.780241756398,
          28605.52897109311,
          28945.097759279288,
          28944.378000852532,
          28884.63156701953,
          28381.339838097752,
          29101.65622473528,
          29092.924563957047,
          29178.308343617497,
          29094.412148317082,
          29856.18553911823,
          29965.92772709076,
          29890.66438022639,
          29325.721057108854,
          30691.895498734375,
          31593.18405096476,
          31148.30282185585,
          30762.16052631572,
          30676.644713760918,
          29141.76769602312,
          29009.092297099134,
          30461.503486990892,
          30339.52023525616,
          29852.17125373613,
          29178.153485468207,
          28510.808432267255,
          28795.5270214972,
          27941.144901609576,
          27699.951803821634,
          27041.841686955046,
          26708.900209114057,
          26282.521070235314,
          26429.146903036828,
          26422.495294943084,
          24892.01564282106,
          25317.052936710345,
          25404.143077775214,
          26359.130010684654,
          26294.543259724152,
          26744.798372906014,
          24972.045500768145,
          25050.556244097206,
          25294.31636312861,
          25526.5491446722,
          25405.299554331967,
          25221.07057237931,
          25351.390024045617,
          25161.546392653338,
          24625.026711326234,
          24844.31297102786,
          24841.73940437787,
          26084.741160609043,
          25694.60618177693,
          25475.57600274807,
          25530.567500938134,
          26021.725724756237,
          26498.920559412978,
          24288.021020914985,
          23858.43562081173,
          23322.07231279721,
          23338.273705568845,
          23210.271645728393,
          23231.54619466792,
          23388.83005181069,
          24043.86115842687,
          25133.188165857133,
          26316.640326483728,
          26333.128310606335,
          26625.21072124683,
          26234.253868358723,
          27091.789016783714,
          26994.942573735687,
          26876.58721692794,
          26718.765641225367,
          27022.254097889054,
          27222.269798681195,
          26251.331372068744,
          26216.195616115798,
          26394.174460873437,
          26955.477033302228,
          26333.29333001477,
          26437.1984466359,
          26427.066366010815,
          26653.282409046835,
          26786.659627985577,
          26188.258392466425,
          26251.588245878524,
          26377.448737483006,
          26454.22093526152,
          26682.685048528714,
          25714.612297542244,
          25616.11584555236,
          25465.14034673153,
          25343.376244819592,
          25637.18429361588,
          28071.058586923027,
          26941.995650757086,
          26711.407258852138,
          26813.25656079903,
          26871.12855326393,
          28138.225689579896,
          27934.644211302166,
          27655.917782789875,
          28255.89535537339,
          28896.436579370085,
          29502.2802230528,
          29502.004437187654,
          29554.024148908236,
          28629.21924409106,
          28959.859880046522,
          29602.641722525328,
          30994.1916614648,
          32250.22012712162,
          31805.340203335945,
          31887.036107020223,
          31151.589988741536,
          31582.49485642051,
          32104.89789806123,
          32055.332114885437,
          32107.351485122774,
          32641.894411421716,
          32432.910146577862,
          32533.655706140937,
          32370.67110247833,
          32098.604321769326,
          32790.84481902487,
          32629.67389309466,
          32529.305694833132,
          30933.275652557368,
          31048.23399661691,
          32283.44121985039,
          32297.944601792064,
          32651.299565098365,
          32325.56194269527,
          32252.85498745062,
          32577.749503001865,
          32002.755780837717,
          32431.4284472013,
          32197.04883247768,
          32773.40624125964,
          32088.412604939094,
          34013.897807302565,
          34823.54448836492,
          34858.483384126805,
          34730.191636845775,
          34896.085460025184,
          34021.75520310067,
          34496.19891366292,
          34523.295411504536,
          34387.6683311218,
          36090.335489147095,
          35146.557212260435,
          33076.03303620394,
          33075.81186075143,
          36110.579744686256,
          36541.59086603527,
          37255.90049614184,
          37139.36772324214,
          37129.83957153508,
          37522.58356869415,
          39051.292550258215,
          39641.92776625598,
          39497.75918046893,
          39898.53718969453,
          40477.966748883286,
          41475.40276126301,
          42117.690763351464,
          41089.27280919726,
          41903.60417739424,
          42034.47886322088,
          41452.278089416206,
          41505.53952163913,
          43729.3430016464,
          44188.69557373177,
          42740.355859432355,
          44433.64600279622,
          44737.754622296634,
          44745.96053972311,
          49359.22008409338,
          49578.57910541984,
          50417.443360548845,
          50474.59786108429,
          50065.9470283684,
          49988.815251214,
          51711.52947785847,
          52424.36459720432,
          53130.395040507065,
          53149.05801541836,
          57094.30037291552,
          56853.494804783266,
          58231.739081982065,
          55387.70308946008,
          56383.52346233884,
          56497.89165224422,
          56703.68598291704,
          56417.7825831696,
          55577.0788735427,
          55273.20034235778,
          55488.50784738433,
          56496.82327790511,
          57244.6605221949,
          57468.9516320789,
          57560.121400911885,
          59560.508221189484,
          59331.2145828689,
          59147.95295382535,
          61808.09115278669,
          61453.410654287036,
          61528.90261629503,
          62434.26761340308,
          62340.29604011685,
          62343.520104026575,
          61589.32911343451,
          61565.30885795229,
          57195.45424087855,
          56290.6272373789,
          56271.379865300994,
          56210.42896422748,
          56489.731263319365,
          55960.872161254156,
          55026.18039734632,
          56601.62671884276,
          56746.27979513423,
          56032.43459207491,
          54534.483802532304,
          54772.53516695161,
          55066.60273547635,
          54827.836471553186,
          54633.66526803778,
          54085.5176623446,
          53887.4782925605,
          54118.48184794417,
          55485.48671414212,
          56338.038219578004,
          56285.301144379824,
          57445.602979214185,
          57385.267392638714,
          57420.89196874887,
          57396.93502729274,
          58401.018601043455,
          58567.45280749767,
          58241.89192258257,
          58363.50886983339,
          59541.67750734885,
          60862.80306095022,
          60770.367321210986,
          61294.641474338525,
          61456.36502649066,
          65272.923583784745,
          67876.07073442226,
          68281.51450746009,
          69322.48499286646,
          69887.93673272504,
          69367.11330889487,
          70728.76662715257,
          70192.52735499882,
          69944.03259625123,
          71380.64114425043,
          70229.7641502754,
          70114.67229681824,
          70413.8875455659,
          69517.65790580252,
          69463.42319603734,
          69362.55468749999
         ]
        },
        {
         "line": {
          "color": "blue",
          "width": 1
         },
         "mode": "lines",
         "name": "Scenario 2",
         "type": "scatter",
         "x": [
          "2023-01-01T00:00:00",
          "2023-01-02T00:00:00",
          "2023-01-03T00:00:00",
          "2023-01-04T00:00:00",
          "2023-01-05T00:00:00",
          "2023-01-06T00:00:00",
          "2023-01-07T00:00:00",
          "2023-01-08T00:00:00",
          "2023-01-09T00:00:00",
          "2023-01-10T00:00:00",
          "2023-01-11T00:00:00",
          "2023-01-12T00:00:00",
          "2023-01-13T00:00:00",
          "2023-01-14T00:00:00",
          "2023-01-15T00:00:00",
          "2023-01-16T00:00:00",
          "2023-01-17T00:00:00",
          "2023-01-18T00:00:00",
          "2023-01-19T00:00:00",
          "2023-01-20T00:00:00",
          "2023-01-21T00:00:00",
          "2023-01-22T00:00:00",
          "2023-01-23T00:00:00",
          "2023-01-24T00:00:00",
          "2023-01-25T00:00:00",
          "2023-01-26T00:00:00",
          "2023-01-27T00:00:00",
          "2023-01-28T00:00:00",
          "2023-01-29T00:00:00",
          "2023-01-30T00:00:00",
          "2023-01-31T00:00:00",
          "2023-02-01T00:00:00",
          "2023-02-02T00:00:00",
          "2023-02-03T00:00:00",
          "2023-02-04T00:00:00",
          "2023-02-05T00:00:00",
          "2023-02-06T00:00:00",
          "2023-02-07T00:00:00",
          "2023-02-08T00:00:00",
          "2023-02-09T00:00:00",
          "2023-02-10T00:00:00",
          "2023-02-11T00:00:00",
          "2023-02-12T00:00:00",
          "2023-02-13T00:00:00",
          "2023-02-14T00:00:00",
          "2023-02-15T00:00:00",
          "2023-02-16T00:00:00",
          "2023-02-17T00:00:00",
          "2023-02-18T00:00:00",
          "2023-02-19T00:00:00",
          "2023-02-20T00:00:00",
          "2023-02-21T00:00:00",
          "2023-02-22T00:00:00",
          "2023-02-23T00:00:00",
          "2023-02-24T00:00:00",
          "2023-02-25T00:00:00",
          "2023-02-26T00:00:00",
          "2023-02-27T00:00:00",
          "2023-02-28T00:00:00",
          "2023-03-01T00:00:00",
          "2023-03-02T00:00:00",
          "2023-03-03T00:00:00",
          "2023-03-04T00:00:00",
          "2023-03-05T00:00:00",
          "2023-03-06T00:00:00",
          "2023-03-07T00:00:00",
          "2023-03-08T00:00:00",
          "2023-03-09T00:00:00",
          "2023-03-10T00:00:00",
          "2023-03-11T00:00:00",
          "2023-03-12T00:00:00",
          "2023-03-13T00:00:00",
          "2023-03-14T00:00:00",
          "2023-03-15T00:00:00",
          "2023-03-16T00:00:00",
          "2023-03-17T00:00:00",
          "2023-03-18T00:00:00",
          "2023-03-19T00:00:00",
          "2023-03-20T00:00:00",
          "2023-03-21T00:00:00",
          "2023-03-22T00:00:00",
          "2023-03-23T00:00:00",
          "2023-03-24T00:00:00",
          "2023-03-25T00:00:00",
          "2023-03-26T00:00:00",
          "2023-03-27T00:00:00",
          "2023-03-28T00:00:00",
          "2023-03-29T00:00:00",
          "2023-03-30T00:00:00",
          "2023-03-31T00:00:00",
          "2023-04-01T00:00:00",
          "2023-04-02T00:00:00",
          "2023-04-03T00:00:00",
          "2023-04-04T00:00:00",
          "2023-04-05T00:00:00",
          "2023-04-06T00:00:00",
          "2023-04-07T00:00:00",
          "2023-04-08T00:00:00",
          "2023-04-09T00:00:00",
          "2023-04-10T00:00:00",
          "2023-04-11T00:00:00",
          "2023-04-12T00:00:00",
          "2023-04-13T00:00:00",
          "2023-04-14T00:00:00",
          "2023-04-15T00:00:00",
          "2023-04-16T00:00:00",
          "2023-04-17T00:00:00",
          "2023-04-18T00:00:00",
          "2023-04-19T00:00:00",
          "2023-04-20T00:00:00",
          "2023-04-21T00:00:00",
          "2023-04-22T00:00:00",
          "2023-04-23T00:00:00",
          "2023-04-24T00:00:00",
          "2023-04-25T00:00:00",
          "2023-04-26T00:00:00",
          "2023-04-27T00:00:00",
          "2023-04-28T00:00:00",
          "2023-04-29T00:00:00",
          "2023-04-30T00:00:00",
          "2023-05-01T00:00:00",
          "2023-05-02T00:00:00",
          "2023-05-03T00:00:00",
          "2023-05-04T00:00:00",
          "2023-05-05T00:00:00",
          "2023-05-06T00:00:00",
          "2023-05-07T00:00:00",
          "2023-05-08T00:00:00",
          "2023-05-09T00:00:00",
          "2023-05-10T00:00:00",
          "2023-05-11T00:00:00",
          "2023-05-12T00:00:00",
          "2023-05-13T00:00:00",
          "2023-05-14T00:00:00",
          "2023-05-15T00:00:00",
          "2023-05-16T00:00:00",
          "2023-05-17T00:00:00",
          "2023-05-18T00:00:00",
          "2023-05-19T00:00:00",
          "2023-05-20T00:00:00",
          "2023-05-21T00:00:00",
          "2023-05-22T00:00:00",
          "2023-05-23T00:00:00",
          "2023-05-24T00:00:00",
          "2023-05-25T00:00:00",
          "2023-05-26T00:00:00",
          "2023-05-27T00:00:00",
          "2023-05-28T00:00:00",
          "2023-05-29T00:00:00",
          "2023-05-30T00:00:00",
          "2023-05-31T00:00:00",
          "2023-06-01T00:00:00",
          "2023-06-02T00:00:00",
          "2023-06-03T00:00:00",
          "2023-06-04T00:00:00",
          "2023-06-05T00:00:00",
          "2023-06-06T00:00:00",
          "2023-06-07T00:00:00",
          "2023-06-08T00:00:00",
          "2023-06-09T00:00:00",
          "2023-06-10T00:00:00",
          "2023-06-11T00:00:00",
          "2023-06-12T00:00:00",
          "2023-06-13T00:00:00",
          "2023-06-14T00:00:00",
          "2023-06-15T00:00:00",
          "2023-06-16T00:00:00",
          "2023-06-17T00:00:00",
          "2023-06-18T00:00:00",
          "2023-06-19T00:00:00",
          "2023-06-20T00:00:00",
          "2023-06-21T00:00:00",
          "2023-06-22T00:00:00",
          "2023-06-23T00:00:00",
          "2023-06-24T00:00:00",
          "2023-06-25T00:00:00",
          "2023-06-26T00:00:00",
          "2023-06-27T00:00:00",
          "2023-06-28T00:00:00",
          "2023-06-29T00:00:00",
          "2023-06-30T00:00:00",
          "2023-07-01T00:00:00",
          "2023-07-02T00:00:00",
          "2023-07-03T00:00:00",
          "2023-07-04T00:00:00",
          "2023-07-05T00:00:00",
          "2023-07-06T00:00:00",
          "2023-07-07T00:00:00",
          "2023-07-08T00:00:00",
          "2023-07-09T00:00:00",
          "2023-07-10T00:00:00",
          "2023-07-11T00:00:00",
          "2023-07-12T00:00:00",
          "2023-07-13T00:00:00",
          "2023-07-14T00:00:00",
          "2023-07-15T00:00:00",
          "2023-07-16T00:00:00",
          "2023-07-17T00:00:00",
          "2023-07-18T00:00:00",
          "2023-07-19T00:00:00",
          "2023-07-20T00:00:00",
          "2023-07-21T00:00:00",
          "2023-07-22T00:00:00",
          "2023-07-23T00:00:00",
          "2023-07-24T00:00:00",
          "2023-07-25T00:00:00",
          "2023-07-26T00:00:00",
          "2023-07-27T00:00:00",
          "2023-07-28T00:00:00",
          "2023-07-29T00:00:00",
          "2023-07-30T00:00:00",
          "2023-07-31T00:00:00",
          "2023-08-01T00:00:00",
          "2023-08-02T00:00:00",
          "2023-08-03T00:00:00",
          "2023-08-04T00:00:00",
          "2023-08-05T00:00:00",
          "2023-08-06T00:00:00",
          "2023-08-07T00:00:00",
          "2023-08-08T00:00:00",
          "2023-08-09T00:00:00",
          "2023-08-10T00:00:00",
          "2023-08-11T00:00:00",
          "2023-08-12T00:00:00",
          "2023-08-13T00:00:00",
          "2023-08-14T00:00:00",
          "2023-08-15T00:00:00",
          "2023-08-16T00:00:00",
          "2023-08-17T00:00:00",
          "2023-08-18T00:00:00",
          "2023-08-19T00:00:00",
          "2023-08-20T00:00:00",
          "2023-08-21T00:00:00",
          "2023-08-22T00:00:00",
          "2023-08-23T00:00:00",
          "2023-08-24T00:00:00",
          "2023-08-25T00:00:00",
          "2023-08-26T00:00:00",
          "2023-08-27T00:00:00",
          "2023-08-28T00:00:00",
          "2023-08-29T00:00:00",
          "2023-08-30T00:00:00",
          "2023-08-31T00:00:00",
          "2023-09-01T00:00:00",
          "2023-09-02T00:00:00",
          "2023-09-03T00:00:00",
          "2023-09-04T00:00:00",
          "2023-09-05T00:00:00",
          "2023-09-06T00:00:00",
          "2023-09-07T00:00:00",
          "2023-09-08T00:00:00",
          "2023-09-09T00:00:00",
          "2023-09-10T00:00:00",
          "2023-09-11T00:00:00",
          "2023-09-12T00:00:00",
          "2023-09-13T00:00:00",
          "2023-09-14T00:00:00",
          "2023-09-15T00:00:00",
          "2023-09-16T00:00:00",
          "2023-09-17T00:00:00",
          "2023-09-18T00:00:00",
          "2023-09-19T00:00:00",
          "2023-09-20T00:00:00",
          "2023-09-21T00:00:00",
          "2023-09-22T00:00:00",
          "2023-09-23T00:00:00",
          "2023-09-24T00:00:00",
          "2023-09-25T00:00:00",
          "2023-09-26T00:00:00",
          "2023-09-27T00:00:00",
          "2023-09-28T00:00:00",
          "2023-09-29T00:00:00",
          "2023-09-30T00:00:00",
          "2023-10-01T00:00:00",
          "2023-10-02T00:00:00",
          "2023-10-03T00:00:00",
          "2023-10-04T00:00:00",
          "2023-10-05T00:00:00",
          "2023-10-06T00:00:00",
          "2023-10-07T00:00:00",
          "2023-10-08T00:00:00",
          "2023-10-09T00:00:00",
          "2023-10-10T00:00:00",
          "2023-10-11T00:00:00",
          "2023-10-12T00:00:00",
          "2023-10-13T00:00:00",
          "2023-10-14T00:00:00",
          "2023-10-15T00:00:00",
          "2023-10-16T00:00:00",
          "2023-10-17T00:00:00",
          "2023-10-18T00:00:00",
          "2023-10-19T00:00:00",
          "2023-10-20T00:00:00",
          "2023-10-21T00:00:00",
          "2023-10-22T00:00:00",
          "2023-10-23T00:00:00",
          "2023-10-24T00:00:00",
          "2023-10-25T00:00:00",
          "2023-10-26T00:00:00",
          "2023-10-27T00:00:00",
          "2023-10-28T00:00:00",
          "2023-10-29T00:00:00",
          "2023-10-30T00:00:00",
          "2023-10-31T00:00:00",
          "2023-11-01T00:00:00",
          "2023-11-02T00:00:00",
          "2023-11-03T00:00:00",
          "2023-11-04T00:00:00",
          "2023-11-05T00:00:00",
          "2023-11-06T00:00:00",
          "2023-11-07T00:00:00",
          "2023-11-08T00:00:00",
          "2023-11-09T00:00:00",
          "2023-11-10T00:00:00",
          "2023-11-11T00:00:00",
          "2023-11-12T00:00:00",
          "2023-11-13T00:00:00",
          "2023-11-14T00:00:00",
          "2023-11-15T00:00:00",
          "2023-11-16T00:00:00",
          "2023-11-17T00:00:00",
          "2023-11-18T00:00:00",
          "2023-11-19T00:00:00",
          "2023-11-20T00:00:00",
          "2023-11-21T00:00:00",
          "2023-11-22T00:00:00",
          "2023-11-23T00:00:00",
          "2023-11-24T00:00:00",
          "2023-11-25T00:00:00",
          "2023-11-26T00:00:00",
          "2023-11-27T00:00:00",
          "2023-11-28T00:00:00",
          "2023-11-29T00:00:00",
          "2023-11-30T00:00:00",
          "2023-12-01T00:00:00",
          "2023-12-02T00:00:00",
          "2023-12-03T00:00:00",
          "2023-12-04T00:00:00",
          "2023-12-05T00:00:00",
          "2023-12-06T00:00:00",
          "2023-12-07T00:00:00",
          "2023-12-08T00:00:00",
          "2023-12-09T00:00:00",
          "2023-12-10T00:00:00",
          "2023-12-11T00:00:00",
          "2023-12-12T00:00:00",
          "2023-12-13T00:00:00",
          "2023-12-14T00:00:00",
          "2023-12-15T00:00:00",
          "2023-12-16T00:00:00",
          "2023-12-17T00:00:00",
          "2023-12-18T00:00:00",
          "2023-12-19T00:00:00",
          "2023-12-20T00:00:00",
          "2023-12-21T00:00:00",
          "2023-12-22T00:00:00",
          "2023-12-23T00:00:00",
          "2023-12-24T00:00:00",
          "2023-12-25T00:00:00",
          "2023-12-26T00:00:00",
          "2023-12-27T00:00:00",
          "2023-12-28T00:00:00",
          "2023-12-29T00:00:00",
          "2023-12-30T00:00:00",
          "2023-12-31T00:00:00",
          "2024-01-01T00:00:00",
          "2024-01-02T00:00:00",
          "2024-01-03T00:00:00",
          "2024-01-04T00:00:00",
          "2024-01-05T00:00:00",
          "2024-01-06T00:00:00",
          "2024-01-07T00:00:00",
          "2024-01-08T00:00:00",
          "2024-01-09T00:00:00",
          "2024-01-10T00:00:00",
          "2024-01-11T00:00:00",
          "2024-01-12T00:00:00",
          "2024-01-13T00:00:00",
          "2024-01-14T00:00:00",
          "2024-01-15T00:00:00",
          "2024-01-16T00:00:00",
          "2024-01-17T00:00:00",
          "2024-01-18T00:00:00",
          "2024-01-19T00:00:00",
          "2024-01-20T00:00:00",
          "2024-01-21T00:00:00",
          "2024-01-22T00:00:00",
          "2024-01-23T00:00:00",
          "2024-01-24T00:00:00",
          "2024-01-25T00:00:00",
          "2024-01-26T00:00:00",
          "2024-01-27T00:00:00",
          "2024-01-28T00:00:00",
          "2024-01-29T00:00:00",
          "2024-01-30T00:00:00",
          "2024-01-31T00:00:00",
          "2024-02-01T00:00:00",
          "2024-02-02T00:00:00",
          "2024-02-03T00:00:00",
          "2024-02-04T00:00:00",
          "2024-02-05T00:00:00",
          "2024-02-06T00:00:00",
          "2024-02-07T00:00:00",
          "2024-02-08T00:00:00",
          "2024-02-09T00:00:00",
          "2024-02-10T00:00:00",
          "2024-02-11T00:00:00",
          "2024-02-12T00:00:00",
          "2024-02-13T00:00:00",
          "2024-02-14T00:00:00",
          "2024-02-15T00:00:00",
          "2024-02-16T00:00:00",
          "2024-02-17T00:00:00",
          "2024-02-18T00:00:00",
          "2024-02-19T00:00:00",
          "2024-02-20T00:00:00",
          "2024-02-21T00:00:00",
          "2024-02-22T00:00:00",
          "2024-02-23T00:00:00",
          "2024-02-24T00:00:00",
          "2024-02-25T00:00:00",
          "2024-02-26T00:00:00",
          "2024-02-27T00:00:00",
          "2024-02-28T00:00:00",
          "2024-02-29T00:00:00",
          "2024-03-01T00:00:00",
          "2024-03-02T00:00:00",
          "2024-03-03T00:00:00",
          "2024-03-04T00:00:00",
          "2024-03-05T00:00:00",
          "2024-03-06T00:00:00",
          "2024-03-07T00:00:00",
          "2024-03-08T00:00:00",
          "2024-03-09T00:00:00",
          "2024-03-10T00:00:00",
          "2024-03-11T00:00:00",
          "2024-03-12T00:00:00",
          "2024-03-13T00:00:00",
          "2024-03-14T00:00:00",
          "2024-03-15T00:00:00",
          "2024-03-16T00:00:00",
          "2024-03-17T00:00:00",
          "2024-03-18T00:00:00",
          "2024-03-19T00:00:00",
          "2024-03-20T00:00:00",
          "2024-03-21T00:00:00",
          "2024-03-22T00:00:00",
          "2024-03-23T00:00:00",
          "2024-03-24T00:00:00",
          "2024-03-25T00:00:00",
          "2024-03-26T00:00:00",
          "2024-03-27T00:00:00",
          "2024-03-28T00:00:00",
          "2024-03-29T00:00:00",
          "2024-03-30T00:00:00",
          "2024-03-31T00:00:00",
          "2024-04-01T00:00:00",
          "2024-04-02T00:00:00",
          "2024-04-03T00:00:00",
          "2024-04-04T00:00:00",
          "2024-04-05T00:00:00",
          "2024-04-06T00:00:00",
          "2024-04-07T00:00:00"
         ],
         "y": [
          16625.080078125,
          16241.637397265818,
          17005.11822915538,
          17193.735998643777,
          17346.84649479222,
          17330.18182163687,
          17542.00590880312,
          17925.992127313933,
          17906.575411828868,
          17788.771426713298,
          17873.74208660771,
          17869.15655549573,
          17511.62598810163,
          17345.16713512075,
          17262.229492917984,
          16185.18528194173,
          15990.234258594444,
          15589.594890502127,
          15663.259295510117,
          17145.720603224763,
          17092.090484541568,
          17191.40444721627,
          17092.753028194526,
          16708.48954575226,
          16633.93685497408,
          16490.34965507272,
          16465.304839647466,
          16307.99889557654,
          17115.47132625254,
          16761.531806494175,
          17015.043286203614,
          17252.323233222574,
          17134.08429326271,
          17541.93388932119,
          17572.28055996559,
          18060.19624599209,
          18230.31479419783,
          17941.912834164094,
          17987.998830208802,
          18153.150674709,
          17599.08120610304,
          17677.522538489633,
          17881.681347167225,
          18129.029990930303,
          18047.03092625878,
          16541.302711531513,
          16682.89648490911,
          16203.954360077118,
          15552.205362773166,
          15220.585670765482,
          15162.553953532015,
          15168.844361005853,
          14971.771558676626,
          14982.17215894302,
          16014.350681890388,
          16123.954608558004,
          15896.904219056903,
          15945.875568004856,
          16224.827601232644,
          16835.988332317993,
          17386.31661022068,
          17364.38647053887,
          17661.725873562526,
          17730.524171991892,
          17925.45621952636,
          17968.804520803784,
          17969.733816585747,
          18365.999634210304,
          17885.72059958375,
          18126.59835443567,
          18213.50443259894,
          18398.31420912743,
          18347.168686111057,
          18353.61344807116,
          19183.065079960976,
          18901.38652984815,
          19051.323622565582,
          19044.02218526132,
          18953.56421245401,
          19036.29941973535,
          19177.20397770207,
          19561.604048116675,
          20217.61869302424,
          20071.507408175516,
          19994.626129822238,
          20327.508957813854,
          20281.972332575417,
          20395.122097629308,
          20837.581319007775,
          21244.911286081835,
          21163.12348490168,
          19937.284308569735,
          19782.699974715644,
          19672.733209882157,
          19688.18598989118,
          19851.494049925528,
          19720.705168867353,
          19710.52688572269,
          20111.77160936109,
          19864.15374963332,
          19970.802152453292,
          19881.269731912333,
          19952.41000755277,
          19879.35232271673,
          19957.241892775557,
          20152.165648058908,
          20459.39096091218,
          20324.750693084974,
          20160.198093412346,
          20521.084570744682,
          21104.284589983796,
          21039.09789861146,
          20666.976626120646,
          20748.523760754793,
          20534.708508509866,
          19925.430276731808,
          19647.165858163906,
          20329.963786346463,
          20124.046624086313,
          20497.699071661435,
          20422.26017203502,
          20827.000532001806,
          20807.504732575355,
          21427.564240378782,
          21675.726329460977,
          21632.261234736798,
          21544.339234882336,
          21032.477419666986,
          21005.48749057525,
          21265.623584217377,
          22330.387512603844,
          22102.900711863054,
          22335.079464060625,
          23219.952066247813,
          23083.602559025956,
          22724.51067135864,
          22555.16159616724,
          22755.79343939076,
          22479.63172561172,
          22989.22912606288,
          22774.00305221049,
          22932.4874055123,
          22827.487775325368,
          23735.644992622438,
          23882.035308542603,
          23927.918194880443,
          23878.52664184207,
          23549.131150255853,
          23133.491556349294,
          23150.25032066321,
          23249.044306021136,
          23278.916666591573,
          23319.963455013756,
          23150.85648907138,
          23126.54095518277,
          23210.77969184119,
          22679.916797587044,
          22317.856086802072,
          22241.682403194118,
          22507.156193453608,
          23107.06557108477,
          22980.723177996573,
          22991.047300610287,
          22816.73770836867,
          22837.575472118126,
          24932.96593090722,
          25547.35049891692,
          25598.318329509228,
          25537.69057453801,
          25833.751326901347,
          26270.8556359609,
          26312.5321894277,
          26503.305144486156,
          26683.233143992507,
          25931.988777143426,
          24091.357697891275,
          24198.42293591634,
          24096.361697843055,
          23623.735409157558,
          23539.2863997375,
          24224.46388368287,
          24186.393164665787,
          24503.170017460532,
          24191.29308517784,
          25332.02367009724,
          26652.222247657446,
          27190.243572631483,
          26676.33908509994,
          26632.927959394416,
          26730.82244034039,
          26078.11671909333,
          24727.030219037133,
          24695.960424862005,
          24787.738830333506,
          24576.439118817434,
          24916.05701698331,
          24994.391735585858,
          25163.61053429038,
          26608.056425015442,
          25040.54516713749,
          24951.89692401688,
          24857.57879072248,
          24485.797797550083,
          23284.417440385343,
          23135.342855443556,
          23573.163097018652,
          23752.427451199703,
          22178.020966721677,
          22155.011818838702,
          21940.531493911767,
          22049.551136751485,
          20944.621840975047,
          21374.811832236264,
          21322.43796223082,
          21740.99031390973,
          22268.036110894926,
          22106.925749502214,
          22120.649652774042,
          22682.070167762275,
          22985.893487355348,
          23501.10873370394,
          22781.12281157076,
          23146.043463647504,
          22546.097163056165,
          23350.56297633822,
          23439.597541839026,
          23687.53185388058,
          23658.94810837899,
          23701.31554585116,
          23581.812085439662,
          23543.166441479014,
          23441.47799834412,
          23473.494723282372,
          23903.959272473894,
          24271.250931437236,
          23729.04272979221,
          23728.452675524448,
          23482.31777613438,
          22952.12185548598,
          22966.599748400495,
          23665.555703042915,
          24520.765876489128,
          24413.25818364689,
          25755.671317407352,
          25431.675409871572,
          25368.12593637289,
          26188.750873675257,
          26270.544423659037,
          26767.285006804796,
          27242.04179589932,
          27123.921552083095,
          27084.534643307787,
          27042.719647483475,
          28316.08635228975,
          27389.498275613852,
          27460.727874907276,
          27051.524699304686,
          26123.426855003192,
          26149.63681442117,
          25607.669064540623,
          25682.824092981224,
          25565.896425189272,
          27493.341417376305,
          27897.891277920076,
          27560.40089843531,
          27462.796532547323,
          27520.142565909333,
          27420.058128598932,
          27321.773830913124,
          27693.273406541783,
          27698.352980086802,
          27636.05358637344,
          27806.21552367178,
          28247.529165041695,
          28529.618558339997,
          30102.011841080213,
          30224.41175054511,
          29455.72401811987,
          29883.497023988697,
          30295.43622560692,
          30254.887689663195,
          31373.728815949755,
          32454.930054717053,
          32404.006090210238,
          30927.702512973054,
          29974.51045302325,
          30582.955217394745,
          31570.216809025005,
          31842.863718815985,
          31537.250772334904,
          31575.992461555954,
          34541.69370232532,
          35017.56073329163,
          35192.79411704326,
          34756.51268031307,
          34756.18777814122,
          34592.32855436395,
          31969.723380576084,
          35265.76686109073,
          35177.192275051646,
          33958.66398611626,
          33413.18007011871,
          33412.95664020456,
          35085.858074506046,
          36965.70481747994,
          36859.41757305636,
          37049.87336965211,
          36791.098521057116,
          37365.14897009881,
          38194.21619133097,
          38006.48704855622,
          38689.80901342223,
          39434.125326571004,
          37684.12599159762,
          36203.001504592314,
          36021.63449484342,
          35678.26524252221,
          35328.71382967473,
          35421.92728122731,
          36906.13851444445,
          36850.59004670881,
          35822.01710624284,
          36433.68686537238,
          35134.20424094886,
          34893.14179882926,
          35042.72088602044,
          35622.35919709903,
          37759.901067797015,
          37129.21274627937,
          37929.94365770906,
          35614.396988711014,
          36129.90355912852,
          34819.07689128199,
          34815.47006121286,
          34871.96858135329,
          35001.063905525916,
          34987.41325354995,
          35762.45396731628,
          34643.37479655319,
          35380.10613170996,
          35368.00866361814,
          37993.36781560074,
          37364.980321612595,
          37246.3347090968,
          37288.55810471508,
          36710.11157971946,
          36671.72349879997,
          38648.855738941624,
          38416.88175923165,
          37927.09795664095,
          38708.95184130169,
          40645.824873313555,
          40973.505904620266,
          44944.864865144664,
          45887.18038629672,
          46138.27173319994,
          46124.428406395535,
          49165.34027483666,
          49425.99123778633,
          49045.75345994986,
          48756.68906243133,
          48565.145140918474,
          48703.54857268187,
          48436.42707871485,
          47652.400683985106,
          47755.26300614351,
          47560.64599981928,
          47160.91156723222,
          46339.17019708088,
          45955.385310219805,
          45884.58627915815,
          45839.58419953798,
          46422.57040917585,
          46027.1019478288,
          47862.70716832727,
          48002.012726552864,
          47854.35953375431,
          48916.51637840615,
          49409.26990045561,
          47918.637386600036,
          49290.58870971025,
          47675.02807270631,
          47839.02918810087,
          47412.787959803725,
          45187.79493970807,
          45216.10613886793,
          44942.48860397699,
          44557.839437310446,
          46373.172041532736,
          47215.84716014068,
          48683.34300732981,
          49080.44477032141,
          51289.30991758201,
          50105.455046671945,
          50041.23072983063,
          51510.72577611005,
          51456.74607238629,
          50081.12008062675,
          49578.648830932136,
          50336.68457515256,
          51116.19836923505,
          50967.59107474206,
          50911.55592508372,
          52974.7284114399,
          54361.75552451689,
          53819.344536555334,
          54140.82334160728,
          53600.70079502747,
          54344.62834435904,
          53937.6691369242,
          56004.27165307698,
          57453.65928887018,
          56811.96138634432,
          56864.03526429425,
          57354.608964038816,
          58109.87924887862,
          57970.78284368698,
          57529.72064260551,
          57653.889057284556,
          58214.90330073229,
          58261.235480786396,
          59032.42789945658,
          57472.26941856177,
          54665.32589643562,
          54651.56789185402,
          55709.449791918436,
          55032.03161151323,
          56573.26699977222,
          55511.93684301075,
          56142.4761525402,
          56119.0525872093,
          58642.96809098501,
          58790.924733146036,
          58137.907453920314,
          63657.24829877287,
          68860.33182984404,
          68833.81293183057,
          69386.21201162654,
          68788.50281868668,
          67835.74402036253,
          68009.10739565577,
          68080.36678274235,
          68291.84316940604,
          68238.56478798184,
          69048.60702757946,
          67605.42910269398,
          66887.59621635384,
          67023.27083965928,
          66478.4705306995,
          66212.2571440507,
          64834.97084500808,
          65544.29643913991,
          68513.83497638715,
          71089.3919210024,
          75504.17998977256,
          74286.81877941897,
          76163.26540723008,
          74653.61624996508,
          78131.44591004428,
          74222.21262169328,
          70703.92171189525,
          70383.61103277329,
          69362.55468750001
         ]
        },
        {
         "line": {
          "color": "blue",
          "width": 1
         },
         "mode": "lines",
         "name": "Scenario 3",
         "type": "scatter",
         "x": [
          "2023-01-01T00:00:00",
          "2023-01-02T00:00:00",
          "2023-01-03T00:00:00",
          "2023-01-04T00:00:00",
          "2023-01-05T00:00:00",
          "2023-01-06T00:00:00",
          "2023-01-07T00:00:00",
          "2023-01-08T00:00:00",
          "2023-01-09T00:00:00",
          "2023-01-10T00:00:00",
          "2023-01-11T00:00:00",
          "2023-01-12T00:00:00",
          "2023-01-13T00:00:00",
          "2023-01-14T00:00:00",
          "2023-01-15T00:00:00",
          "2023-01-16T00:00:00",
          "2023-01-17T00:00:00",
          "2023-01-18T00:00:00",
          "2023-01-19T00:00:00",
          "2023-01-20T00:00:00",
          "2023-01-21T00:00:00",
          "2023-01-22T00:00:00",
          "2023-01-23T00:00:00",
          "2023-01-24T00:00:00",
          "2023-01-25T00:00:00",
          "2023-01-26T00:00:00",
          "2023-01-27T00:00:00",
          "2023-01-28T00:00:00",
          "2023-01-29T00:00:00",
          "2023-01-30T00:00:00",
          "2023-01-31T00:00:00",
          "2023-02-01T00:00:00",
          "2023-02-02T00:00:00",
          "2023-02-03T00:00:00",
          "2023-02-04T00:00:00",
          "2023-02-05T00:00:00",
          "2023-02-06T00:00:00",
          "2023-02-07T00:00:00",
          "2023-02-08T00:00:00",
          "2023-02-09T00:00:00",
          "2023-02-10T00:00:00",
          "2023-02-11T00:00:00",
          "2023-02-12T00:00:00",
          "2023-02-13T00:00:00",
          "2023-02-14T00:00:00",
          "2023-02-15T00:00:00",
          "2023-02-16T00:00:00",
          "2023-02-17T00:00:00",
          "2023-02-18T00:00:00",
          "2023-02-19T00:00:00",
          "2023-02-20T00:00:00",
          "2023-02-21T00:00:00",
          "2023-02-22T00:00:00",
          "2023-02-23T00:00:00",
          "2023-02-24T00:00:00",
          "2023-02-25T00:00:00",
          "2023-02-26T00:00:00",
          "2023-02-27T00:00:00",
          "2023-02-28T00:00:00",
          "2023-03-01T00:00:00",
          "2023-03-02T00:00:00",
          "2023-03-03T00:00:00",
          "2023-03-04T00:00:00",
          "2023-03-05T00:00:00",
          "2023-03-06T00:00:00",
          "2023-03-07T00:00:00",
          "2023-03-08T00:00:00",
          "2023-03-09T00:00:00",
          "2023-03-10T00:00:00",
          "2023-03-11T00:00:00",
          "2023-03-12T00:00:00",
          "2023-03-13T00:00:00",
          "2023-03-14T00:00:00",
          "2023-03-15T00:00:00",
          "2023-03-16T00:00:00",
          "2023-03-17T00:00:00",
          "2023-03-18T00:00:00",
          "2023-03-19T00:00:00",
          "2023-03-20T00:00:00",
          "2023-03-21T00:00:00",
          "2023-03-22T00:00:00",
          "2023-03-23T00:00:00",
          "2023-03-24T00:00:00",
          "2023-03-25T00:00:00",
          "2023-03-26T00:00:00",
          "2023-03-27T00:00:00",
          "2023-03-28T00:00:00",
          "2023-03-29T00:00:00",
          "2023-03-30T00:00:00",
          "2023-03-31T00:00:00",
          "2023-04-01T00:00:00",
          "2023-04-02T00:00:00",
          "2023-04-03T00:00:00",
          "2023-04-04T00:00:00",
          "2023-04-05T00:00:00",
          "2023-04-06T00:00:00",
          "2023-04-07T00:00:00",
          "2023-04-08T00:00:00",
          "2023-04-09T00:00:00",
          "2023-04-10T00:00:00",
          "2023-04-11T00:00:00",
          "2023-04-12T00:00:00",
          "2023-04-13T00:00:00",
          "2023-04-14T00:00:00",
          "2023-04-15T00:00:00",
          "2023-04-16T00:00:00",
          "2023-04-17T00:00:00",
          "2023-04-18T00:00:00",
          "2023-04-19T00:00:00",
          "2023-04-20T00:00:00",
          "2023-04-21T00:00:00",
          "2023-04-22T00:00:00",
          "2023-04-23T00:00:00",
          "2023-04-24T00:00:00",
          "2023-04-25T00:00:00",
          "2023-04-26T00:00:00",
          "2023-04-27T00:00:00",
          "2023-04-28T00:00:00",
          "2023-04-29T00:00:00",
          "2023-04-30T00:00:00",
          "2023-05-01T00:00:00",
          "2023-05-02T00:00:00",
          "2023-05-03T00:00:00",
          "2023-05-04T00:00:00",
          "2023-05-05T00:00:00",
          "2023-05-06T00:00:00",
          "2023-05-07T00:00:00",
          "2023-05-08T00:00:00",
          "2023-05-09T00:00:00",
          "2023-05-10T00:00:00",
          "2023-05-11T00:00:00",
          "2023-05-12T00:00:00",
          "2023-05-13T00:00:00",
          "2023-05-14T00:00:00",
          "2023-05-15T00:00:00",
          "2023-05-16T00:00:00",
          "2023-05-17T00:00:00",
          "2023-05-18T00:00:00",
          "2023-05-19T00:00:00",
          "2023-05-20T00:00:00",
          "2023-05-21T00:00:00",
          "2023-05-22T00:00:00",
          "2023-05-23T00:00:00",
          "2023-05-24T00:00:00",
          "2023-05-25T00:00:00",
          "2023-05-26T00:00:00",
          "2023-05-27T00:00:00",
          "2023-05-28T00:00:00",
          "2023-05-29T00:00:00",
          "2023-05-30T00:00:00",
          "2023-05-31T00:00:00",
          "2023-06-01T00:00:00",
          "2023-06-02T00:00:00",
          "2023-06-03T00:00:00",
          "2023-06-04T00:00:00",
          "2023-06-05T00:00:00",
          "2023-06-06T00:00:00",
          "2023-06-07T00:00:00",
          "2023-06-08T00:00:00",
          "2023-06-09T00:00:00",
          "2023-06-10T00:00:00",
          "2023-06-11T00:00:00",
          "2023-06-12T00:00:00",
          "2023-06-13T00:00:00",
          "2023-06-14T00:00:00",
          "2023-06-15T00:00:00",
          "2023-06-16T00:00:00",
          "2023-06-17T00:00:00",
          "2023-06-18T00:00:00",
          "2023-06-19T00:00:00",
          "2023-06-20T00:00:00",
          "2023-06-21T00:00:00",
          "2023-06-22T00:00:00",
          "2023-06-23T00:00:00",
          "2023-06-24T00:00:00",
          "2023-06-25T00:00:00",
          "2023-06-26T00:00:00",
          "2023-06-27T00:00:00",
          "2023-06-28T00:00:00",
          "2023-06-29T00:00:00",
          "2023-06-30T00:00:00",
          "2023-07-01T00:00:00",
          "2023-07-02T00:00:00",
          "2023-07-03T00:00:00",
          "2023-07-04T00:00:00",
          "2023-07-05T00:00:00",
          "2023-07-06T00:00:00",
          "2023-07-07T00:00:00",
          "2023-07-08T00:00:00",
          "2023-07-09T00:00:00",
          "2023-07-10T00:00:00",
          "2023-07-11T00:00:00",
          "2023-07-12T00:00:00",
          "2023-07-13T00:00:00",
          "2023-07-14T00:00:00",
          "2023-07-15T00:00:00",
          "2023-07-16T00:00:00",
          "2023-07-17T00:00:00",
          "2023-07-18T00:00:00",
          "2023-07-19T00:00:00",
          "2023-07-20T00:00:00",
          "2023-07-21T00:00:00",
          "2023-07-22T00:00:00",
          "2023-07-23T00:00:00",
          "2023-07-24T00:00:00",
          "2023-07-25T00:00:00",
          "2023-07-26T00:00:00",
          "2023-07-27T00:00:00",
          "2023-07-28T00:00:00",
          "2023-07-29T00:00:00",
          "2023-07-30T00:00:00",
          "2023-07-31T00:00:00",
          "2023-08-01T00:00:00",
          "2023-08-02T00:00:00",
          "2023-08-03T00:00:00",
          "2023-08-04T00:00:00",
          "2023-08-05T00:00:00",
          "2023-08-06T00:00:00",
          "2023-08-07T00:00:00",
          "2023-08-08T00:00:00",
          "2023-08-09T00:00:00",
          "2023-08-10T00:00:00",
          "2023-08-11T00:00:00",
          "2023-08-12T00:00:00",
          "2023-08-13T00:00:00",
          "2023-08-14T00:00:00",
          "2023-08-15T00:00:00",
          "2023-08-16T00:00:00",
          "2023-08-17T00:00:00",
          "2023-08-18T00:00:00",
          "2023-08-19T00:00:00",
          "2023-08-20T00:00:00",
          "2023-08-21T00:00:00",
          "2023-08-22T00:00:00",
          "2023-08-23T00:00:00",
          "2023-08-24T00:00:00",
          "2023-08-25T00:00:00",
          "2023-08-26T00:00:00",
          "2023-08-27T00:00:00",
          "2023-08-28T00:00:00",
          "2023-08-29T00:00:00",
          "2023-08-30T00:00:00",
          "2023-08-31T00:00:00",
          "2023-09-01T00:00:00",
          "2023-09-02T00:00:00",
          "2023-09-03T00:00:00",
          "2023-09-04T00:00:00",
          "2023-09-05T00:00:00",
          "2023-09-06T00:00:00",
          "2023-09-07T00:00:00",
          "2023-09-08T00:00:00",
          "2023-09-09T00:00:00",
          "2023-09-10T00:00:00",
          "2023-09-11T00:00:00",
          "2023-09-12T00:00:00",
          "2023-09-13T00:00:00",
          "2023-09-14T00:00:00",
          "2023-09-15T00:00:00",
          "2023-09-16T00:00:00",
          "2023-09-17T00:00:00",
          "2023-09-18T00:00:00",
          "2023-09-19T00:00:00",
          "2023-09-20T00:00:00",
          "2023-09-21T00:00:00",
          "2023-09-22T00:00:00",
          "2023-09-23T00:00:00",
          "2023-09-24T00:00:00",
          "2023-09-25T00:00:00",
          "2023-09-26T00:00:00",
          "2023-09-27T00:00:00",
          "2023-09-28T00:00:00",
          "2023-09-29T00:00:00",
          "2023-09-30T00:00:00",
          "2023-10-01T00:00:00",
          "2023-10-02T00:00:00",
          "2023-10-03T00:00:00",
          "2023-10-04T00:00:00",
          "2023-10-05T00:00:00",
          "2023-10-06T00:00:00",
          "2023-10-07T00:00:00",
          "2023-10-08T00:00:00",
          "2023-10-09T00:00:00",
          "2023-10-10T00:00:00",
          "2023-10-11T00:00:00",
          "2023-10-12T00:00:00",
          "2023-10-13T00:00:00",
          "2023-10-14T00:00:00",
          "2023-10-15T00:00:00",
          "2023-10-16T00:00:00",
          "2023-10-17T00:00:00",
          "2023-10-18T00:00:00",
          "2023-10-19T00:00:00",
          "2023-10-20T00:00:00",
          "2023-10-21T00:00:00",
          "2023-10-22T00:00:00",
          "2023-10-23T00:00:00",
          "2023-10-24T00:00:00",
          "2023-10-25T00:00:00",
          "2023-10-26T00:00:00",
          "2023-10-27T00:00:00",
          "2023-10-28T00:00:00",
          "2023-10-29T00:00:00",
          "2023-10-30T00:00:00",
          "2023-10-31T00:00:00",
          "2023-11-01T00:00:00",
          "2023-11-02T00:00:00",
          "2023-11-03T00:00:00",
          "2023-11-04T00:00:00",
          "2023-11-05T00:00:00",
          "2023-11-06T00:00:00",
          "2023-11-07T00:00:00",
          "2023-11-08T00:00:00",
          "2023-11-09T00:00:00",
          "2023-11-10T00:00:00",
          "2023-11-11T00:00:00",
          "2023-11-12T00:00:00",
          "2023-11-13T00:00:00",
          "2023-11-14T00:00:00",
          "2023-11-15T00:00:00",
          "2023-11-16T00:00:00",
          "2023-11-17T00:00:00",
          "2023-11-18T00:00:00",
          "2023-11-19T00:00:00",
          "2023-11-20T00:00:00",
          "2023-11-21T00:00:00",
          "2023-11-22T00:00:00",
          "2023-11-23T00:00:00",
          "2023-11-24T00:00:00",
          "2023-11-25T00:00:00",
          "2023-11-26T00:00:00",
          "2023-11-27T00:00:00",
          "2023-11-28T00:00:00",
          "2023-11-29T00:00:00",
          "2023-11-30T00:00:00",
          "2023-12-01T00:00:00",
          "2023-12-02T00:00:00",
          "2023-12-03T00:00:00",
          "2023-12-04T00:00:00",
          "2023-12-05T00:00:00",
          "2023-12-06T00:00:00",
          "2023-12-07T00:00:00",
          "2023-12-08T00:00:00",
          "2023-12-09T00:00:00",
          "2023-12-10T00:00:00",
          "2023-12-11T00:00:00",
          "2023-12-12T00:00:00",
          "2023-12-13T00:00:00",
          "2023-12-14T00:00:00",
          "2023-12-15T00:00:00",
          "2023-12-16T00:00:00",
          "2023-12-17T00:00:00",
          "2023-12-18T00:00:00",
          "2023-12-19T00:00:00",
          "2023-12-20T00:00:00",
          "2023-12-21T00:00:00",
          "2023-12-22T00:00:00",
          "2023-12-23T00:00:00",
          "2023-12-24T00:00:00",
          "2023-12-25T00:00:00",
          "2023-12-26T00:00:00",
          "2023-12-27T00:00:00",
          "2023-12-28T00:00:00",
          "2023-12-29T00:00:00",
          "2023-12-30T00:00:00",
          "2023-12-31T00:00:00",
          "2024-01-01T00:00:00",
          "2024-01-02T00:00:00",
          "2024-01-03T00:00:00",
          "2024-01-04T00:00:00",
          "2024-01-05T00:00:00",
          "2024-01-06T00:00:00",
          "2024-01-07T00:00:00",
          "2024-01-08T00:00:00",
          "2024-01-09T00:00:00",
          "2024-01-10T00:00:00",
          "2024-01-11T00:00:00",
          "2024-01-12T00:00:00",
          "2024-01-13T00:00:00",
          "2024-01-14T00:00:00",
          "2024-01-15T00:00:00",
          "2024-01-16T00:00:00",
          "2024-01-17T00:00:00",
          "2024-01-18T00:00:00",
          "2024-01-19T00:00:00",
          "2024-01-20T00:00:00",
          "2024-01-21T00:00:00",
          "2024-01-22T00:00:00",
          "2024-01-23T00:00:00",
          "2024-01-24T00:00:00",
          "2024-01-25T00:00:00",
          "2024-01-26T00:00:00",
          "2024-01-27T00:00:00",
          "2024-01-28T00:00:00",
          "2024-01-29T00:00:00",
          "2024-01-30T00:00:00",
          "2024-01-31T00:00:00",
          "2024-02-01T00:00:00",
          "2024-02-02T00:00:00",
          "2024-02-03T00:00:00",
          "2024-02-04T00:00:00",
          "2024-02-05T00:00:00",
          "2024-02-06T00:00:00",
          "2024-02-07T00:00:00",
          "2024-02-08T00:00:00",
          "2024-02-09T00:00:00",
          "2024-02-10T00:00:00",
          "2024-02-11T00:00:00",
          "2024-02-12T00:00:00",
          "2024-02-13T00:00:00",
          "2024-02-14T00:00:00",
          "2024-02-15T00:00:00",
          "2024-02-16T00:00:00",
          "2024-02-17T00:00:00",
          "2024-02-18T00:00:00",
          "2024-02-19T00:00:00",
          "2024-02-20T00:00:00",
          "2024-02-21T00:00:00",
          "2024-02-22T00:00:00",
          "2024-02-23T00:00:00",
          "2024-02-24T00:00:00",
          "2024-02-25T00:00:00",
          "2024-02-26T00:00:00",
          "2024-02-27T00:00:00",
          "2024-02-28T00:00:00",
          "2024-02-29T00:00:00",
          "2024-03-01T00:00:00",
          "2024-03-02T00:00:00",
          "2024-03-03T00:00:00",
          "2024-03-04T00:00:00",
          "2024-03-05T00:00:00",
          "2024-03-06T00:00:00",
          "2024-03-07T00:00:00",
          "2024-03-08T00:00:00",
          "2024-03-09T00:00:00",
          "2024-03-10T00:00:00",
          "2024-03-11T00:00:00",
          "2024-03-12T00:00:00",
          "2024-03-13T00:00:00",
          "2024-03-14T00:00:00",
          "2024-03-15T00:00:00",
          "2024-03-16T00:00:00",
          "2024-03-17T00:00:00",
          "2024-03-18T00:00:00",
          "2024-03-19T00:00:00",
          "2024-03-20T00:00:00",
          "2024-03-21T00:00:00",
          "2024-03-22T00:00:00",
          "2024-03-23T00:00:00",
          "2024-03-24T00:00:00",
          "2024-03-25T00:00:00",
          "2024-03-26T00:00:00",
          "2024-03-27T00:00:00",
          "2024-03-28T00:00:00",
          "2024-03-29T00:00:00",
          "2024-03-30T00:00:00",
          "2024-03-31T00:00:00",
          "2024-04-01T00:00:00",
          "2024-04-02T00:00:00",
          "2024-04-03T00:00:00",
          "2024-04-04T00:00:00",
          "2024-04-05T00:00:00",
          "2024-04-06T00:00:00",
          "2024-04-07T00:00:00"
         ],
         "y": [
          16625.080078125,
          16054.698143895463,
          16811.750904155368,
          16514.399270097627,
          16524.816333307965,
          16576.42717176494,
          16582.249929984406,
          16880.383656197508,
          16831.8476016981,
          16768.223242775715,
          16420.691218339718,
          16468.48403433268,
          17283.9027081933,
          17884.570155358946,
          18028.7530920136,
          17920.542861102444,
          18020.518602175474,
          18234.435487628314,
          18114.437327251857,
          18132.6117677593,
          19077.607263381913,
          18907.62758589011,
          19949.710449627393,
          20058.873828700955,
          19019.639518638756,
          18455.314374691865,
          18279.885179007804,
          18415.190843414413,
          19186.804225561416,
          19409.23857912553,
          19276.068110271914,
          19511.676459545833,
          19344.68192222581,
          19275.529470355526,
          20314.75716749083,
          20263.994010858743,
          20323.46607926012,
          20510.060371449545,
          20389.62357568188,
          20198.73511198185,
          20363.49276475768,
          20502.862684401625,
          20293.99346368301,
          20588.71453656181,
          20555.20996638782,
          20152.039864553128,
          19907.47700718842,
          20181.898376882582,
          20125.794663454482,
          19825.892230957907,
          19028.463091437574,
          18404.78143621821,
          19909.11311474597,
          19818.918661763775,
          20811.201320631346,
          21197.61248612354,
          21111.45706937371,
          20743.606722941222,
          21064.842174104342,
          21348.535070957845,
          21348.33550590153,
          21342.858563458427,
          21434.350619988567,
          21226.846939865773,
          21313.15891653303,
          21910.058463866404,
          22105.167887572137,
          21859.635832135158,
          21952.92210387806,
          22105.692552478682,
          22184.79238275169,
          22400.66653657136,
          22713.050635723008,
          22759.12172757615,
          22667.98270431218,
          22665.634578832585,
          22714.560546307635,
          22779.293661414868,
          23284.894047974005,
          23277.907648488217,
          23454.926704612262,
          24106.18119686381,
          24048.478734034365,
          23699.60700885218,
          23164.505019480664,
          25356.92753869322,
          25150.81312821631,
          24746.811249894145,
          25731.325860650926,
          25632.2664418916,
          25278.678754856464,
          26192.182900446936,
          26272.869461229555,
          25413.14162737694,
          25334.971332274952,
          25231.723732625815,
          25295.383558192996,
          25122.021437777854,
          25095.635573224245,
          25115.608731986435,
          23888.96332633736,
          24857.054970108707,
          25091.19672840348,
          23637.830359650194,
          23508.58590643896,
          23979.806950356007,
          25107.040769902487,
          25590.05116712225,
          25873.891497262444,
          26182.718856633182,
          25957.17474198765,
          25709.743002464467,
          26081.882995336367,
          27254.89761024448,
          27057.256089457802,
          26414.415477559494,
          26505.280523180623,
          25759.04626523512,
          25103.92473544378,
          25486.64097871933,
          25837.76018776469,
          25918.01939349765,
          25514.834904213065,
          26020.502904553465,
          25863.044280418508,
          26699.67916406342,
          27619.80333407279,
          27677.477218870747,
          28020.240547206566,
          28687.217760172258,
          29748.0856555697,
          32542.10502476767,
          31897.080666061458,
          31759.309713222876,
          31798.32418901428,
          31758.21553881849,
          31403.509144979245,
          34447.29572563306,
          34284.892783893345,
          34420.173082426794,
          33686.231694039016,
          33618.68261959384,
          31069.894068527763,
          31083.852262683537,
          30773.7518909973,
          30893.625893206634,
          30752.974708887814,
          31656.056893997367,
          31271.124202325973,
          31192.582683801564,
          31147.287632852753,
          31488.053858514893,
          30538.088053027346,
          29685.70954334548,
          29592.855579207924,
          30343.920149193003,
          29970.32319766456,
          29954.854864619127,
          29881.457648913794,
          29843.11226491506,
          30501.208005387463,
          29055.38580374848,
          29200.783526033552,
          29101.117534965004,
          28750.593735257815,
          27754.68105649219,
          29241.734520469945,
          29054.519210154464,
          29223.34112453518,
          29092.328036167455,
          29221.99622433363,
          30201.980147402664,
          29976.906988253937,
          29594.725956835726,
          29126.540022090965,
          28543.768902033684,
          28172.92980627355,
          28789.621924433923,
          29647.546938977546,
          29711.536279815904,
          29827.949468186107,
          31009.67507190703,
          31696.600982297226,
          33665.02091185176,
          33466.607016645125,
          36916.97756127043,
          36149.064646195155,
          36328.68463934854,
          36355.00249379876,
          33945.24661570805,
          34301.82266448177,
          34851.28827237471,
          33586.85096211531,
          34246.14965397146,
          34192.32903911064,
          36072.464465143516,
          37877.41604087167,
          37837.72310964421,
          36062.069885314835,
          35987.63124744808,
          35108.89536635935,
          34818.12055579003,
          34525.483620955936,
          33467.75215630048,
          34075.91503962864,
          33296.551350753754,
          31630.589772652183,
          31617.392969860986,
          32522.62580793886,
          32958.26206431969,
          33290.26239703333,
          32456.166443548078,
          32209.228460170187,
          33658.80461007593,
          32692.5084148177,
          32648.751548513585,
          33206.23701719422,
          33724.352975590926,
          34455.98139574179,
          34412.68706396864,
          34280.873776643166,
          34411.58508774878,
          34435.49015066188,
          36159.66567852857,
          36353.80284841382,
          36298.59029674639,
          35942.96136029582,
          35942.72101403862,
          35705.91726255323,
          36858.555405488376,
          39397.88073647528,
          38786.712904771855,
          38889.050153777396,
          38913.19234200797,
          40376.00846970173,
          40083.88601742287,
          40296.391482264604,
          40342.072500083756,
          40149.17286708136,
          40214.32691635498,
          41230.120018977286,
          41666.23507701312,
          40795.37332809737,
          40120.64234514335,
          43145.38788448937,
          42017.11685898242,
          42752.15082611686,
          42828.70955850973,
          46758.324130805966,
          46962.43136867041,
          47084.5626736901,
          46298.128309131156,
          45963.53504589624,
          46548.09765801162,
          46187.185582060236,
          46189.57425275296,
          46021.59338064729,
          47525.92943336908,
          49221.69900258077,
          49158.607469148636,
          49657.4126987762,
          47395.056130904355,
          47348.572632575975,
          50189.75325062325,
          49151.85386569255,
          51973.27701723397,
          51955.50587042048,
          51771.573600371514,
          50997.25494233602,
          49821.04862876295,
          49830.186937437575,
          48680.011401462536,
          46519.700075331646,
          46048.513568096496,
          46036.92421688973,
          44843.645442575435,
          45148.08397848888,
          46030.632066910235,
          46964.99585329185,
          46613.29895017706,
          47227.123021360196,
          47746.34510980011,
          47079.55353861703,
          49207.21154022727,
          49388.08216924236,
          49960.067370611454,
          51291.71107828839,
          52397.871309617876,
          53202.980658244436,
          53338.94803703231,
          53258.666085212055,
          54356.57489484934,
          56010.84031127729,
          58156.875640043036,
          57942.837435625224,
          58923.22404699108,
          58469.92336017633,
          61118.95157652397,
          57387.762676987884,
          56579.653612882044,
          56296.20522015431,
          58589.77102407795,
          60123.8157166378,
          60954.657150772284,
          63824.84298749518,
          64025.5047981448,
          64872.997706497976,
          65113.15623524385,
          66344.35824907143,
          65541.76774432337,
          64975.99915995013,
          65969.45362151966,
          65508.68995837617,
          66776.73148174163,
          66626.53663483275,
          67735.77617701204,
          66639.35681676528,
          65463.17944407212,
          65801.43335066193,
          66386.74783859433,
          66313.76045049095,
          66060.92514714634,
          66974.71395277615,
          66684.31466476042,
          73015.01141252226,
          66923.10836034195,
          66212.52033990079,
          66186.6970085286,
          65926.67813233372,
          67551.20743129043,
          65437.394177162474,
          65334.71851177425,
          65447.74431593194,
          66356.09773885485,
          66929.16269763319,
          67250.04756147083,
          67146.44189754131,
          67909.13319457116,
          68986.92196546152,
          70454.00845534434,
          71061.82468627363,
          71034.5901765906,
          72610.72333575985,
          72212.47956371664,
          72811.46211873088,
          73259.78008905632,
          72528.80829992729,
          72416.83326117751,
          72762.7428218808,
          72829.43719568074,
          72875.06652333213,
          73829.53435420302,
          75332.47292505177,
          77525.23753913732,
          77586.13301451731,
          76841.4975154611,
          76994.79890880885,
          77192.56946040901,
          77099.42118419008,
          77180.20532779532,
          79051.21038511526,
          77568.18778522624,
          78990.65833680764,
          79129.93942477737,
          80923.7593556787,
          81027.73712295243,
          80661.24213343252,
          80576.89397547717,
          82662.21979815947,
          83261.54318630995,
          82038.95489465182,
          87447.6556684713,
          87365.79741180077,
          86253.80345902618,
          87558.35781586563,
          87350.98221427297,
          87387.22104798473,
          81934.86041393987,
          84481.44328027427,
          84342.99591386909,
          86739.98602762642,
          85538.58926119054,
          91888.09907669661,
          91500.54435129966,
          92234.84649653379,
          92577.62187334556,
          90827.87457157447,
          88055.63116874779,
          87740.00507393385,
          88491.06069580618,
          89090.1691336288,
          92643.17100939638,
          94546.0062684687,
          98107.38810452886,
          99730.17307405805,
          98695.67341866935,
          99134.29028282138,
          98289.77682957386,
          98478.61411250134,
          98129.85493735726,
          97692.00298723215,
          94681.13460704898,
          95246.69292583829,
          94794.27679888482,
          94703.21035402262,
          94666.73906917415,
          94189.42366941275,
          91700.10663846302,
          93755.51044766964,
          92576.1041212097,
          94328.04237964327,
          94116.7336194685,
          93772.1160690089,
          93342.76720096044,
          94998.33714129096,
          94696.6874200521,
          94846.91593225132,
          99265.47505860007,
          98958.86490751994,
          98671.16727645246,
          96033.32806773535,
          96795.12181189889,
          91092.80967288924,
          90586.44898440267,
          90141.20574836762,
          89457.78856372512,
          89783.63976246116,
          91321.05163091703,
          90797.01350723674,
          92133.04315145192,
          92355.84422625996,
          94220.2071006944,
          93600.35011410702,
          93728.19088694306,
          94306.2623688358,
          93137.15736676936,
          93134.84138724093,
          92175.07914903919,
          92075.2388013508,
          92994.73332065954,
          92241.83232055114,
          90168.136663925,
          91209.49408954298,
          91138.33633496962,
          89683.40988494358,
          90107.18452916395,
          83711.45122333775,
          84849.69242236057,
          81514.7880334503,
          79693.78643975637,
          80472.16113747499,
          80119.34277831379,
          76188.33732614732,
          77552.18010904267,
          73665.94790311866,
          75210.43059981315,
          72527.89539273923,
          71834.97964247873,
          71760.45262889874,
          71148.74040123101,
          70434.89461571246,
          69299.26598466017,
          69362.55468749999
         ]
        },
        {
         "line": {
          "color": "blue",
          "width": 1
         },
         "mode": "lines",
         "name": "Scenario 4",
         "type": "scatter",
         "x": [
          "2023-01-01T00:00:00",
          "2023-01-02T00:00:00",
          "2023-01-03T00:00:00",
          "2023-01-04T00:00:00",
          "2023-01-05T00:00:00",
          "2023-01-06T00:00:00",
          "2023-01-07T00:00:00",
          "2023-01-08T00:00:00",
          "2023-01-09T00:00:00",
          "2023-01-10T00:00:00",
          "2023-01-11T00:00:00",
          "2023-01-12T00:00:00",
          "2023-01-13T00:00:00",
          "2023-01-14T00:00:00",
          "2023-01-15T00:00:00",
          "2023-01-16T00:00:00",
          "2023-01-17T00:00:00",
          "2023-01-18T00:00:00",
          "2023-01-19T00:00:00",
          "2023-01-20T00:00:00",
          "2023-01-21T00:00:00",
          "2023-01-22T00:00:00",
          "2023-01-23T00:00:00",
          "2023-01-24T00:00:00",
          "2023-01-25T00:00:00",
          "2023-01-26T00:00:00",
          "2023-01-27T00:00:00",
          "2023-01-28T00:00:00",
          "2023-01-29T00:00:00",
          "2023-01-30T00:00:00",
          "2023-01-31T00:00:00",
          "2023-02-01T00:00:00",
          "2023-02-02T00:00:00",
          "2023-02-03T00:00:00",
          "2023-02-04T00:00:00",
          "2023-02-05T00:00:00",
          "2023-02-06T00:00:00",
          "2023-02-07T00:00:00",
          "2023-02-08T00:00:00",
          "2023-02-09T00:00:00",
          "2023-02-10T00:00:00",
          "2023-02-11T00:00:00",
          "2023-02-12T00:00:00",
          "2023-02-13T00:00:00",
          "2023-02-14T00:00:00",
          "2023-02-15T00:00:00",
          "2023-02-16T00:00:00",
          "2023-02-17T00:00:00",
          "2023-02-18T00:00:00",
          "2023-02-19T00:00:00",
          "2023-02-20T00:00:00",
          "2023-02-21T00:00:00",
          "2023-02-22T00:00:00",
          "2023-02-23T00:00:00",
          "2023-02-24T00:00:00",
          "2023-02-25T00:00:00",
          "2023-02-26T00:00:00",
          "2023-02-27T00:00:00",
          "2023-02-28T00:00:00",
          "2023-03-01T00:00:00",
          "2023-03-02T00:00:00",
          "2023-03-03T00:00:00",
          "2023-03-04T00:00:00",
          "2023-03-05T00:00:00",
          "2023-03-06T00:00:00",
          "2023-03-07T00:00:00",
          "2023-03-08T00:00:00",
          "2023-03-09T00:00:00",
          "2023-03-10T00:00:00",
          "2023-03-11T00:00:00",
          "2023-03-12T00:00:00",
          "2023-03-13T00:00:00",
          "2023-03-14T00:00:00",
          "2023-03-15T00:00:00",
          "2023-03-16T00:00:00",
          "2023-03-17T00:00:00",
          "2023-03-18T00:00:00",
          "2023-03-19T00:00:00",
          "2023-03-20T00:00:00",
          "2023-03-21T00:00:00",
          "2023-03-22T00:00:00",
          "2023-03-23T00:00:00",
          "2023-03-24T00:00:00",
          "2023-03-25T00:00:00",
          "2023-03-26T00:00:00",
          "2023-03-27T00:00:00",
          "2023-03-28T00:00:00",
          "2023-03-29T00:00:00",
          "2023-03-30T00:00:00",
          "2023-03-31T00:00:00",
          "2023-04-01T00:00:00",
          "2023-04-02T00:00:00",
          "2023-04-03T00:00:00",
          "2023-04-04T00:00:00",
          "2023-04-05T00:00:00",
          "2023-04-06T00:00:00",
          "2023-04-07T00:00:00",
          "2023-04-08T00:00:00",
          "2023-04-09T00:00:00",
          "2023-04-10T00:00:00",
          "2023-04-11T00:00:00",
          "2023-04-12T00:00:00",
          "2023-04-13T00:00:00",
          "2023-04-14T00:00:00",
          "2023-04-15T00:00:00",
          "2023-04-16T00:00:00",
          "2023-04-17T00:00:00",
          "2023-04-18T00:00:00",
          "2023-04-19T00:00:00",
          "2023-04-20T00:00:00",
          "2023-04-21T00:00:00",
          "2023-04-22T00:00:00",
          "2023-04-23T00:00:00",
          "2023-04-24T00:00:00",
          "2023-04-25T00:00:00",
          "2023-04-26T00:00:00",
          "2023-04-27T00:00:00",
          "2023-04-28T00:00:00",
          "2023-04-29T00:00:00",
          "2023-04-30T00:00:00",
          "2023-05-01T00:00:00",
          "2023-05-02T00:00:00",
          "2023-05-03T00:00:00",
          "2023-05-04T00:00:00",
          "2023-05-05T00:00:00",
          "2023-05-06T00:00:00",
          "2023-05-07T00:00:00",
          "2023-05-08T00:00:00",
          "2023-05-09T00:00:00",
          "2023-05-10T00:00:00",
          "2023-05-11T00:00:00",
          "2023-05-12T00:00:00",
          "2023-05-13T00:00:00",
          "2023-05-14T00:00:00",
          "2023-05-15T00:00:00",
          "2023-05-16T00:00:00",
          "2023-05-17T00:00:00",
          "2023-05-18T00:00:00",
          "2023-05-19T00:00:00",
          "2023-05-20T00:00:00",
          "2023-05-21T00:00:00",
          "2023-05-22T00:00:00",
          "2023-05-23T00:00:00",
          "2023-05-24T00:00:00",
          "2023-05-25T00:00:00",
          "2023-05-26T00:00:00",
          "2023-05-27T00:00:00",
          "2023-05-28T00:00:00",
          "2023-05-29T00:00:00",
          "2023-05-30T00:00:00",
          "2023-05-31T00:00:00",
          "2023-06-01T00:00:00",
          "2023-06-02T00:00:00",
          "2023-06-03T00:00:00",
          "2023-06-04T00:00:00",
          "2023-06-05T00:00:00",
          "2023-06-06T00:00:00",
          "2023-06-07T00:00:00",
          "2023-06-08T00:00:00",
          "2023-06-09T00:00:00",
          "2023-06-10T00:00:00",
          "2023-06-11T00:00:00",
          "2023-06-12T00:00:00",
          "2023-06-13T00:00:00",
          "2023-06-14T00:00:00",
          "2023-06-15T00:00:00",
          "2023-06-16T00:00:00",
          "2023-06-17T00:00:00",
          "2023-06-18T00:00:00",
          "2023-06-19T00:00:00",
          "2023-06-20T00:00:00",
          "2023-06-21T00:00:00",
          "2023-06-22T00:00:00",
          "2023-06-23T00:00:00",
          "2023-06-24T00:00:00",
          "2023-06-25T00:00:00",
          "2023-06-26T00:00:00",
          "2023-06-27T00:00:00",
          "2023-06-28T00:00:00",
          "2023-06-29T00:00:00",
          "2023-06-30T00:00:00",
          "2023-07-01T00:00:00",
          "2023-07-02T00:00:00",
          "2023-07-03T00:00:00",
          "2023-07-04T00:00:00",
          "2023-07-05T00:00:00",
          "2023-07-06T00:00:00",
          "2023-07-07T00:00:00",
          "2023-07-08T00:00:00",
          "2023-07-09T00:00:00",
          "2023-07-10T00:00:00",
          "2023-07-11T00:00:00",
          "2023-07-12T00:00:00",
          "2023-07-13T00:00:00",
          "2023-07-14T00:00:00",
          "2023-07-15T00:00:00",
          "2023-07-16T00:00:00",
          "2023-07-17T00:00:00",
          "2023-07-18T00:00:00",
          "2023-07-19T00:00:00",
          "2023-07-20T00:00:00",
          "2023-07-21T00:00:00",
          "2023-07-22T00:00:00",
          "2023-07-23T00:00:00",
          "2023-07-24T00:00:00",
          "2023-07-25T00:00:00",
          "2023-07-26T00:00:00",
          "2023-07-27T00:00:00",
          "2023-07-28T00:00:00",
          "2023-07-29T00:00:00",
          "2023-07-30T00:00:00",
          "2023-07-31T00:00:00",
          "2023-08-01T00:00:00",
          "2023-08-02T00:00:00",
          "2023-08-03T00:00:00",
          "2023-08-04T00:00:00",
          "2023-08-05T00:00:00",
          "2023-08-06T00:00:00",
          "2023-08-07T00:00:00",
          "2023-08-08T00:00:00",
          "2023-08-09T00:00:00",
          "2023-08-10T00:00:00",
          "2023-08-11T00:00:00",
          "2023-08-12T00:00:00",
          "2023-08-13T00:00:00",
          "2023-08-14T00:00:00",
          "2023-08-15T00:00:00",
          "2023-08-16T00:00:00",
          "2023-08-17T00:00:00",
          "2023-08-18T00:00:00",
          "2023-08-19T00:00:00",
          "2023-08-20T00:00:00",
          "2023-08-21T00:00:00",
          "2023-08-22T00:00:00",
          "2023-08-23T00:00:00",
          "2023-08-24T00:00:00",
          "2023-08-25T00:00:00",
          "2023-08-26T00:00:00",
          "2023-08-27T00:00:00",
          "2023-08-28T00:00:00",
          "2023-08-29T00:00:00",
          "2023-08-30T00:00:00",
          "2023-08-31T00:00:00",
          "2023-09-01T00:00:00",
          "2023-09-02T00:00:00",
          "2023-09-03T00:00:00",
          "2023-09-04T00:00:00",
          "2023-09-05T00:00:00",
          "2023-09-06T00:00:00",
          "2023-09-07T00:00:00",
          "2023-09-08T00:00:00",
          "2023-09-09T00:00:00",
          "2023-09-10T00:00:00",
          "2023-09-11T00:00:00",
          "2023-09-12T00:00:00",
          "2023-09-13T00:00:00",
          "2023-09-14T00:00:00",
          "2023-09-15T00:00:00",
          "2023-09-16T00:00:00",
          "2023-09-17T00:00:00",
          "2023-09-18T00:00:00",
          "2023-09-19T00:00:00",
          "2023-09-20T00:00:00",
          "2023-09-21T00:00:00",
          "2023-09-22T00:00:00",
          "2023-09-23T00:00:00",
          "2023-09-24T00:00:00",
          "2023-09-25T00:00:00",
          "2023-09-26T00:00:00",
          "2023-09-27T00:00:00",
          "2023-09-28T00:00:00",
          "2023-09-29T00:00:00",
          "2023-09-30T00:00:00",
          "2023-10-01T00:00:00",
          "2023-10-02T00:00:00",
          "2023-10-03T00:00:00",
          "2023-10-04T00:00:00",
          "2023-10-05T00:00:00",
          "2023-10-06T00:00:00",
          "2023-10-07T00:00:00",
          "2023-10-08T00:00:00",
          "2023-10-09T00:00:00",
          "2023-10-10T00:00:00",
          "2023-10-11T00:00:00",
          "2023-10-12T00:00:00",
          "2023-10-13T00:00:00",
          "2023-10-14T00:00:00",
          "2023-10-15T00:00:00",
          "2023-10-16T00:00:00",
          "2023-10-17T00:00:00",
          "2023-10-18T00:00:00",
          "2023-10-19T00:00:00",
          "2023-10-20T00:00:00",
          "2023-10-21T00:00:00",
          "2023-10-22T00:00:00",
          "2023-10-23T00:00:00",
          "2023-10-24T00:00:00",
          "2023-10-25T00:00:00",
          "2023-10-26T00:00:00",
          "2023-10-27T00:00:00",
          "2023-10-28T00:00:00",
          "2023-10-29T00:00:00",
          "2023-10-30T00:00:00",
          "2023-10-31T00:00:00",
          "2023-11-01T00:00:00",
          "2023-11-02T00:00:00",
          "2023-11-03T00:00:00",
          "2023-11-04T00:00:00",
          "2023-11-05T00:00:00",
          "2023-11-06T00:00:00",
          "2023-11-07T00:00:00",
          "2023-11-08T00:00:00",
          "2023-11-09T00:00:00",
          "2023-11-10T00:00:00",
          "2023-11-11T00:00:00",
          "2023-11-12T00:00:00",
          "2023-11-13T00:00:00",
          "2023-11-14T00:00:00",
          "2023-11-15T00:00:00",
          "2023-11-16T00:00:00",
          "2023-11-17T00:00:00",
          "2023-11-18T00:00:00",
          "2023-11-19T00:00:00",
          "2023-11-20T00:00:00",
          "2023-11-21T00:00:00",
          "2023-11-22T00:00:00",
          "2023-11-23T00:00:00",
          "2023-11-24T00:00:00",
          "2023-11-25T00:00:00",
          "2023-11-26T00:00:00",
          "2023-11-27T00:00:00",
          "2023-11-28T00:00:00",
          "2023-11-29T00:00:00",
          "2023-11-30T00:00:00",
          "2023-12-01T00:00:00",
          "2023-12-02T00:00:00",
          "2023-12-03T00:00:00",
          "2023-12-04T00:00:00",
          "2023-12-05T00:00:00",
          "2023-12-06T00:00:00",
          "2023-12-07T00:00:00",
          "2023-12-08T00:00:00",
          "2023-12-09T00:00:00",
          "2023-12-10T00:00:00",
          "2023-12-11T00:00:00",
          "2023-12-12T00:00:00",
          "2023-12-13T00:00:00",
          "2023-12-14T00:00:00",
          "2023-12-15T00:00:00",
          "2023-12-16T00:00:00",
          "2023-12-17T00:00:00",
          "2023-12-18T00:00:00",
          "2023-12-19T00:00:00",
          "2023-12-20T00:00:00",
          "2023-12-21T00:00:00",
          "2023-12-22T00:00:00",
          "2023-12-23T00:00:00",
          "2023-12-24T00:00:00",
          "2023-12-25T00:00:00",
          "2023-12-26T00:00:00",
          "2023-12-27T00:00:00",
          "2023-12-28T00:00:00",
          "2023-12-29T00:00:00",
          "2023-12-30T00:00:00",
          "2023-12-31T00:00:00",
          "2024-01-01T00:00:00",
          "2024-01-02T00:00:00",
          "2024-01-03T00:00:00",
          "2024-01-04T00:00:00",
          "2024-01-05T00:00:00",
          "2024-01-06T00:00:00",
          "2024-01-07T00:00:00",
          "2024-01-08T00:00:00",
          "2024-01-09T00:00:00",
          "2024-01-10T00:00:00",
          "2024-01-11T00:00:00",
          "2024-01-12T00:00:00",
          "2024-01-13T00:00:00",
          "2024-01-14T00:00:00",
          "2024-01-15T00:00:00",
          "2024-01-16T00:00:00",
          "2024-01-17T00:00:00",
          "2024-01-18T00:00:00",
          "2024-01-19T00:00:00",
          "2024-01-20T00:00:00",
          "2024-01-21T00:00:00",
          "2024-01-22T00:00:00",
          "2024-01-23T00:00:00",
          "2024-01-24T00:00:00",
          "2024-01-25T00:00:00",
          "2024-01-26T00:00:00",
          "2024-01-27T00:00:00",
          "2024-01-28T00:00:00",
          "2024-01-29T00:00:00",
          "2024-01-30T00:00:00",
          "2024-01-31T00:00:00",
          "2024-02-01T00:00:00",
          "2024-02-02T00:00:00",
          "2024-02-03T00:00:00",
          "2024-02-04T00:00:00",
          "2024-02-05T00:00:00",
          "2024-02-06T00:00:00",
          "2024-02-07T00:00:00",
          "2024-02-08T00:00:00",
          "2024-02-09T00:00:00",
          "2024-02-10T00:00:00",
          "2024-02-11T00:00:00",
          "2024-02-12T00:00:00",
          "2024-02-13T00:00:00",
          "2024-02-14T00:00:00",
          "2024-02-15T00:00:00",
          "2024-02-16T00:00:00",
          "2024-02-17T00:00:00",
          "2024-02-18T00:00:00",
          "2024-02-19T00:00:00",
          "2024-02-20T00:00:00",
          "2024-02-21T00:00:00",
          "2024-02-22T00:00:00",
          "2024-02-23T00:00:00",
          "2024-02-24T00:00:00",
          "2024-02-25T00:00:00",
          "2024-02-26T00:00:00",
          "2024-02-27T00:00:00",
          "2024-02-28T00:00:00",
          "2024-02-29T00:00:00",
          "2024-03-01T00:00:00",
          "2024-03-02T00:00:00",
          "2024-03-03T00:00:00",
          "2024-03-04T00:00:00",
          "2024-03-05T00:00:00",
          "2024-03-06T00:00:00",
          "2024-03-07T00:00:00",
          "2024-03-08T00:00:00",
          "2024-03-09T00:00:00",
          "2024-03-10T00:00:00",
          "2024-03-11T00:00:00",
          "2024-03-12T00:00:00",
          "2024-03-13T00:00:00",
          "2024-03-14T00:00:00",
          "2024-03-15T00:00:00",
          "2024-03-16T00:00:00",
          "2024-03-17T00:00:00",
          "2024-03-18T00:00:00",
          "2024-03-19T00:00:00",
          "2024-03-20T00:00:00",
          "2024-03-21T00:00:00",
          "2024-03-22T00:00:00",
          "2024-03-23T00:00:00",
          "2024-03-24T00:00:00",
          "2024-03-25T00:00:00",
          "2024-03-26T00:00:00",
          "2024-03-27T00:00:00",
          "2024-03-28T00:00:00",
          "2024-03-29T00:00:00",
          "2024-03-30T00:00:00",
          "2024-03-31T00:00:00",
          "2024-04-01T00:00:00",
          "2024-04-02T00:00:00",
          "2024-04-03T00:00:00",
          "2024-04-04T00:00:00",
          "2024-04-05T00:00:00",
          "2024-04-06T00:00:00",
          "2024-04-07T00:00:00"
         ],
         "y": [
          16625.080078125,
          16901.864631937635,
          16638.93676094088,
          16345.261343609007,
          16664.776102207015,
          16946.742331254132,
          16990.052012502547,
          17840.73924735743,
          18265.409639476402,
          18248.311701526763,
          18223.887484049537,
          18950.673694517784,
          18930.856811267942,
          19140.834533158966,
          18550.913846675157,
          18504.3208001922,
          18602.421799968426,
          18751.708324230214,
          18676.61700912334,
          18654.079934737012,
          18014.086013237196,
          17962.290231914747,
          17816.864509436316,
          17834.740391430663,
          17898.557660877268,
          17773.545181008547,
          17403.83628843959,
          17867.720952786,
          19599.5506350001,
          19532.654873905405,
          19448.288768379378,
          19331.558354039993,
          19391.110357173315,
          19475.755520311654,
          18927.431726646566,
          19312.735080350627,
          19443.48752532182,
          19041.40577682889,
          18848.540099141755,
          19205.235585830964,
          19149.401267325997,
          18662.380710599486,
          18174.351179398567,
          18203.183293934486,
          17931.930454465488,
          18777.50334071147,
          18750.236346531132,
          19033.826188795378,
          18598.496045066255,
          18923.852170204973,
          18677.99451030088,
          18893.707832086042,
          18756.698286035535,
          19218.890630327358,
          18775.28206310814,
          19182.59988366532,
          18613.439599107,
          19326.606885074114,
          19529.622205519412,
          19926.04890945923,
          19426.796708737307,
          19862.23689980763,
          20237.80502588362,
          20045.43215235673,
          21147.671402472595,
          20696.739581963433,
          20019.47960033597,
          19017.823798916375,
          17916.24758414252,
          17972.575285269573,
          18613.853564568777,
          18899.86112831592,
          18810.75709326603,
          19057.127537594894,
          18794.241473156242,
          18834.81066365632,
          19096.220203668112,
          19088.901559707843,
          18193.09528972745,
          18543.094887970918,
          18837.393143708443,
          18732.68108799523,
          18763.080469588345,
          18113.132510098138,
          17960.896505012635,
          17744.556988788892,
          17704.645765803594,
          18097.480850703185,
          18053.13729732176,
          18218.887192672035,
          18216.999939016292,
          18528.059696810305,
          16982.19753457253,
          17012.14156844356,
          16900.187146072647,
          16731.560376789927,
          16621.48659415667,
          16309.662902364998,
          17117.217724486738,
          16762.452568848348,
          16652.01541939467,
          17519.84845778497,
          17527.719274654,
          17500.21710617842,
          17799.882407682966,
          17648.247286105696,
          17479.639766987486,
          17866.848514979443,
          18362.943237606316,
          18549.269347922207,
          18893.68218009512,
          18808.08794396659,
          18320.58161050181,
          18030.751637455574,
          18007.613673322518,
          18531.776182712987,
          18480.25964839828,
          18504.00466657562,
          18688.791924232235,
          18839.458385810918,
          19687.32810696813,
          19694.24362322301,
          19965.563302011065,
          20038.28813502844,
          20359.27254098679,
          20276.30240485004,
          20682.733503003597,
          20004.831067918403,
          18584.9047323319,
          19130.663200727366,
          19025.738375236837,
          19251.587962949583,
          19108.120028055808,
          19183.51627322134,
          19462.110356133082,
          20091.683590310153,
          21001.95392565509,
          20605.010134383258,
          20604.49776334893,
          21840.88349653889,
          21773.421606242748,
          21165.682293055317,
          21130.996179065518,
          21246.623468590435,
          21324.719544976906,
          21015.36144465959,
          21076.52715864783,
          20985.140303527685,
          21362.433982021976,
          21816.73078775175,
          21737.388349041077,
          21377.864995997017,
          21105.314712644205,
          20881.21896799208,
          22857.538110384037,
          22742.289026619284,
          22422.042182281242,
          23173.98399667084,
          22941.476004028824,
          24170.645285099472,
          23476.7405892406,
          23587.673563392927,
          22660.5914038115,
          22556.836687842682,
          22743.93941238493,
          22924.357930732738,
          22106.713399803702,
          22739.647396941116,
          22652.947659081314,
          22287.711988896284,
          22038.781316552744,
          21908.889805180326,
          22087.596899422315,
          22063.67250061086,
          22145.66844837375,
          22538.454135910946,
          24678.149490284784,
          24556.85343263379,
          23284.582374333084,
          23419.877945516262,
          23186.235319937656,
          22726.655751969593,
          22785.75908296904,
          22763.869385159807,
          22904.03209337279,
          23018.647473805664,
          23074.312403806518,
          25453.2487511924,
          25641.65084999452,
          25065.198944620664,
          24883.850969422605,
          24450.26966001334,
          23804.077441133144,
          23796.935265864846,
          23784.653152064297,
          23858.534841372748,
          24064.582073673704,
          24397.12670085054,
          24523.188763313905,
          24429.255903011923,
          24833.337899914663,
          24774.521945447144,
          25423.18848291325,
          24973.52522764317,
          25070.80541723192,
          25772.942179944293,
          25394.49979051759,
          24121.95112972588,
          24014.319834951057,
          22948.61739086297,
          22940.770603586418,
          23042.722477613275,
          22969.554556772528,
          23325.2610315246,
          23560.22470794618,
          23920.45018588107,
          24240.861441462337,
          24575.017818834036,
          25211.01800104618,
          25022.22554414835,
          24983.67621393225,
          24407.44994974764,
          24382.12782446952,
          24415.42930315702,
          22797.076387642115,
          22716.370446275352,
          23022.305467512946,
          23048.404140560688,
          24567.949598818122,
          24617.7831628234,
          25620.737188052175,
          25600.748982361372,
          26547.477693405006,
          26837.919798061645,
          27165.955471384343,
          27295.717617835857,
          26992.531788828757,
          27044.39065479377,
          27590.328579144018,
          27423.37042336052,
          27412.80937109548,
          28191.869118035596,
          27309.688786011797,
          27212.972309848046,
          27447.74229134936,
          26451.912548576925,
          26418.006938678842,
          26384.68472355596,
          26240.421307736386,
          26597.21751871708,
          25298.21039448072,
          27365.98280668588,
          27265.779605851367,
          27030.905750504444,
          27030.65306692637,
          27133.719637674818,
          27122.399003136423,
          27481.41281935157,
          27593.156926649597,
          27207.810479320262,
          26600.00093409476,
          26379.697499536516,
          27566.106115407707,
          27835.34617129437,
          27824.49019776624,
          26972.052065594467,
          27155.162335965902,
          27094.330757775577,
          27695.706037813194,
          27776.989170991317,
          27879.819024522614,
          28391.088175938265,
          28256.232195557364,
          28257.693528021806,
          29381.88330195657,
          29400.12347379002,
          28217.603419187504,
          28106.748672515,
          27765.64837632747,
          27884.138631125963,
          28216.960035385517,
          29531.48149406139,
          30116.75375822665,
          29943.93131642442,
          29812.64655204673,
          29945.525291006248,
          29214.323857649248,
          29232.627307555536,
          28659.258251839008,
          28679.167284503616,
          28697.25772143301,
          28650.557900352807,
          28929.34865198539,
          28840.36257720596,
          28546.556578040476,
          28572.722368955994,
          30693.66898152456,
          30646.281952092526,
          32757.620261621807,
          32723.2925248296,
          34202.15054166226,
          34150.205824577424,
          35012.82236424727,
          34578.77201876319,
          35948.71601318307,
          36861.0918689598,
          37754.67966148049,
          37664.30707272356,
          37273.61575548045,
          37264.234844127095,
          39015.938094398625,
          38698.79607996255,
          39852.01251597087,
          39701.371967880375,
          39329.68615065073,
          41772.13536106619,
          42089.79552561203,
          44409.550050932696,
          45939.99167646739,
          45495.25147851674,
          44944.879784352466,
          44372.82028270554,
          43814.62818589537,
          43082.81021161449,
          43231.014192077,
          44793.26794218471,
          44985.28665376221,
          45253.997027753256,
          46076.33493637619,
          46220.242029267596,
          45580.066121236436,
          46062.193099586024,
          45620.10966516719,
          45656.41787861858,
          45480.65164557713,
          44400.09825033584,
          45406.61717041087,
          45394.968045414236,
          44181.39542948319,
          45625.57980298813,
          45575.41780516564,
          46286.52973462717,
          45809.543220074695,
          45714.98403338782,
          46244.42946231372,
          45791.357948186065,
          47382.74494829608,
          49937.354978194206,
          49781.155869613045,
          51798.51930042878,
          52520.8653860971,
          52116.81851431297,
          51867.61676185857,
          54040.91746418796,
          53670.1324750372,
          53562.51082691203,
          51023.53377015417,
          50767.91999886119,
          50877.49418195122,
          51022.48746414717,
          48697.939056361975,
          48411.98067134417,
          48961.874236610856,
          49971.20618222738,
          50629.24862744226,
          53013.239599206194,
          51952.53740129108,
          52704.53312899401,
          53155.68464045485,
          51533.2697511676,
          51532.925154394354,
          51586.92093234093,
          53190.27228132176,
          53972.93877889394,
          53492.04499592302,
          53748.507005652005,
          53505.39817389657,
          53597.95984391114,
          53405.84362679939,
          53777.49504751479,
          52943.2604534646,
          53206.32861783466,
          52351.666122803195,
          51169.64311800139,
          51119.457630009354,
          50750.02096447032,
          51732.38122744468,
          51239.25232555084,
          51056.08467541538,
          50620.86401907001,
          50630.14903200159,
          50828.52373134279,
          50764.657114261434,
          50558.329623714824,
          49501.615109504775,
          50131.17489866041,
          49946.67415747415,
          49626.89893705855,
          48823.60271968876,
          45122.058520535225,
          46068.089089718356,
          46602.16060554452,
          48354.018729134485,
          49396.82450454506,
          46973.20019968324,
          47007.2293383154,
          47348.04442921662,
          48876.507109539336,
          50363.994419832816,
          50812.486601767334,
          53356.538079517704,
          56026.32981429325,
          56077.496788263896,
          52773.90684824191,
          52884.10590314064,
          53210.27024258549,
          56264.65530754017,
          57505.39486809101,
          57826.207943464615,
          58221.97668743679,
          58534.56391873788,
          58388.295902236416,
          59195.9529408931,
          59345.30476791979,
          58893.78471832226,
          59448.53645070423,
          57655.02844070769,
          57564.41886527074,
          62846.06245319404,
          62559.9395764436,
          63334.69418793287,
          62323.623265597234,
          61896.487798114715,
          61972.52405477703,
          61442.119965587735,
          62378.82199843423,
          62115.72800178935,
          62164.51942643134,
          64506.147582612226,
          70564.73662477524,
          70017.61081586848,
          70046.65864671058,
          69184.23816819306,
          69799.64325702463,
          69694.58584957181,
          69873.60491166897,
          71308.766917198,
          71436.46362246749,
          66979.32037635552,
          66908.97144843503,
          66609.00742475917,
          67916.52004362643,
          67330.25216097587,
          66323.23099331903,
          67052.39856282901,
          62958.984674803585,
          63084.58998425848,
          64213.863384643024,
          64383.28919143764,
          65792.60896253074,
          70752.79625887002,
          69892.45334255535,
          69362.55468750001
         ]
        },
        {
         "line": {
          "color": "blue",
          "width": 1
         },
         "mode": "lines",
         "name": "Scenario 5",
         "type": "scatter",
         "x": [
          "2023-01-01T00:00:00",
          "2023-01-02T00:00:00",
          "2023-01-03T00:00:00",
          "2023-01-04T00:00:00",
          "2023-01-05T00:00:00",
          "2023-01-06T00:00:00",
          "2023-01-07T00:00:00",
          "2023-01-08T00:00:00",
          "2023-01-09T00:00:00",
          "2023-01-10T00:00:00",
          "2023-01-11T00:00:00",
          "2023-01-12T00:00:00",
          "2023-01-13T00:00:00",
          "2023-01-14T00:00:00",
          "2023-01-15T00:00:00",
          "2023-01-16T00:00:00",
          "2023-01-17T00:00:00",
          "2023-01-18T00:00:00",
          "2023-01-19T00:00:00",
          "2023-01-20T00:00:00",
          "2023-01-21T00:00:00",
          "2023-01-22T00:00:00",
          "2023-01-23T00:00:00",
          "2023-01-24T00:00:00",
          "2023-01-25T00:00:00",
          "2023-01-26T00:00:00",
          "2023-01-27T00:00:00",
          "2023-01-28T00:00:00",
          "2023-01-29T00:00:00",
          "2023-01-30T00:00:00",
          "2023-01-31T00:00:00",
          "2023-02-01T00:00:00",
          "2023-02-02T00:00:00",
          "2023-02-03T00:00:00",
          "2023-02-04T00:00:00",
          "2023-02-05T00:00:00",
          "2023-02-06T00:00:00",
          "2023-02-07T00:00:00",
          "2023-02-08T00:00:00",
          "2023-02-09T00:00:00",
          "2023-02-10T00:00:00",
          "2023-02-11T00:00:00",
          "2023-02-12T00:00:00",
          "2023-02-13T00:00:00",
          "2023-02-14T00:00:00",
          "2023-02-15T00:00:00",
          "2023-02-16T00:00:00",
          "2023-02-17T00:00:00",
          "2023-02-18T00:00:00",
          "2023-02-19T00:00:00",
          "2023-02-20T00:00:00",
          "2023-02-21T00:00:00",
          "2023-02-22T00:00:00",
          "2023-02-23T00:00:00",
          "2023-02-24T00:00:00",
          "2023-02-25T00:00:00",
          "2023-02-26T00:00:00",
          "2023-02-27T00:00:00",
          "2023-02-28T00:00:00",
          "2023-03-01T00:00:00",
          "2023-03-02T00:00:00",
          "2023-03-03T00:00:00",
          "2023-03-04T00:00:00",
          "2023-03-05T00:00:00",
          "2023-03-06T00:00:00",
          "2023-03-07T00:00:00",
          "2023-03-08T00:00:00",
          "2023-03-09T00:00:00",
          "2023-03-10T00:00:00",
          "2023-03-11T00:00:00",
          "2023-03-12T00:00:00",
          "2023-03-13T00:00:00",
          "2023-03-14T00:00:00",
          "2023-03-15T00:00:00",
          "2023-03-16T00:00:00",
          "2023-03-17T00:00:00",
          "2023-03-18T00:00:00",
          "2023-03-19T00:00:00",
          "2023-03-20T00:00:00",
          "2023-03-21T00:00:00",
          "2023-03-22T00:00:00",
          "2023-03-23T00:00:00",
          "2023-03-24T00:00:00",
          "2023-03-25T00:00:00",
          "2023-03-26T00:00:00",
          "2023-03-27T00:00:00",
          "2023-03-28T00:00:00",
          "2023-03-29T00:00:00",
          "2023-03-30T00:00:00",
          "2023-03-31T00:00:00",
          "2023-04-01T00:00:00",
          "2023-04-02T00:00:00",
          "2023-04-03T00:00:00",
          "2023-04-04T00:00:00",
          "2023-04-05T00:00:00",
          "2023-04-06T00:00:00",
          "2023-04-07T00:00:00",
          "2023-04-08T00:00:00",
          "2023-04-09T00:00:00",
          "2023-04-10T00:00:00",
          "2023-04-11T00:00:00",
          "2023-04-12T00:00:00",
          "2023-04-13T00:00:00",
          "2023-04-14T00:00:00",
          "2023-04-15T00:00:00",
          "2023-04-16T00:00:00",
          "2023-04-17T00:00:00",
          "2023-04-18T00:00:00",
          "2023-04-19T00:00:00",
          "2023-04-20T00:00:00",
          "2023-04-21T00:00:00",
          "2023-04-22T00:00:00",
          "2023-04-23T00:00:00",
          "2023-04-24T00:00:00",
          "2023-04-25T00:00:00",
          "2023-04-26T00:00:00",
          "2023-04-27T00:00:00",
          "2023-04-28T00:00:00",
          "2023-04-29T00:00:00",
          "2023-04-30T00:00:00",
          "2023-05-01T00:00:00",
          "2023-05-02T00:00:00",
          "2023-05-03T00:00:00",
          "2023-05-04T00:00:00",
          "2023-05-05T00:00:00",
          "2023-05-06T00:00:00",
          "2023-05-07T00:00:00",
          "2023-05-08T00:00:00",
          "2023-05-09T00:00:00",
          "2023-05-10T00:00:00",
          "2023-05-11T00:00:00",
          "2023-05-12T00:00:00",
          "2023-05-13T00:00:00",
          "2023-05-14T00:00:00",
          "2023-05-15T00:00:00",
          "2023-05-16T00:00:00",
          "2023-05-17T00:00:00",
          "2023-05-18T00:00:00",
          "2023-05-19T00:00:00",
          "2023-05-20T00:00:00",
          "2023-05-21T00:00:00",
          "2023-05-22T00:00:00",
          "2023-05-23T00:00:00",
          "2023-05-24T00:00:00",
          "2023-05-25T00:00:00",
          "2023-05-26T00:00:00",
          "2023-05-27T00:00:00",
          "2023-05-28T00:00:00",
          "2023-05-29T00:00:00",
          "2023-05-30T00:00:00",
          "2023-05-31T00:00:00",
          "2023-06-01T00:00:00",
          "2023-06-02T00:00:00",
          "2023-06-03T00:00:00",
          "2023-06-04T00:00:00",
          "2023-06-05T00:00:00",
          "2023-06-06T00:00:00",
          "2023-06-07T00:00:00",
          "2023-06-08T00:00:00",
          "2023-06-09T00:00:00",
          "2023-06-10T00:00:00",
          "2023-06-11T00:00:00",
          "2023-06-12T00:00:00",
          "2023-06-13T00:00:00",
          "2023-06-14T00:00:00",
          "2023-06-15T00:00:00",
          "2023-06-16T00:00:00",
          "2023-06-17T00:00:00",
          "2023-06-18T00:00:00",
          "2023-06-19T00:00:00",
          "2023-06-20T00:00:00",
          "2023-06-21T00:00:00",
          "2023-06-22T00:00:00",
          "2023-06-23T00:00:00",
          "2023-06-24T00:00:00",
          "2023-06-25T00:00:00",
          "2023-06-26T00:00:00",
          "2023-06-27T00:00:00",
          "2023-06-28T00:00:00",
          "2023-06-29T00:00:00",
          "2023-06-30T00:00:00",
          "2023-07-01T00:00:00",
          "2023-07-02T00:00:00",
          "2023-07-03T00:00:00",
          "2023-07-04T00:00:00",
          "2023-07-05T00:00:00",
          "2023-07-06T00:00:00",
          "2023-07-07T00:00:00",
          "2023-07-08T00:00:00",
          "2023-07-09T00:00:00",
          "2023-07-10T00:00:00",
          "2023-07-11T00:00:00",
          "2023-07-12T00:00:00",
          "2023-07-13T00:00:00",
          "2023-07-14T00:00:00",
          "2023-07-15T00:00:00",
          "2023-07-16T00:00:00",
          "2023-07-17T00:00:00",
          "2023-07-18T00:00:00",
          "2023-07-19T00:00:00",
          "2023-07-20T00:00:00",
          "2023-07-21T00:00:00",
          "2023-07-22T00:00:00",
          "2023-07-23T00:00:00",
          "2023-07-24T00:00:00",
          "2023-07-25T00:00:00",
          "2023-07-26T00:00:00",
          "2023-07-27T00:00:00",
          "2023-07-28T00:00:00",
          "2023-07-29T00:00:00",
          "2023-07-30T00:00:00",
          "2023-07-31T00:00:00",
          "2023-08-01T00:00:00",
          "2023-08-02T00:00:00",
          "2023-08-03T00:00:00",
          "2023-08-04T00:00:00",
          "2023-08-05T00:00:00",
          "2023-08-06T00:00:00",
          "2023-08-07T00:00:00",
          "2023-08-08T00:00:00",
          "2023-08-09T00:00:00",
          "2023-08-10T00:00:00",
          "2023-08-11T00:00:00",
          "2023-08-12T00:00:00",
          "2023-08-13T00:00:00",
          "2023-08-14T00:00:00",
          "2023-08-15T00:00:00",
          "2023-08-16T00:00:00",
          "2023-08-17T00:00:00",
          "2023-08-18T00:00:00",
          "2023-08-19T00:00:00",
          "2023-08-20T00:00:00",
          "2023-08-21T00:00:00",
          "2023-08-22T00:00:00",
          "2023-08-23T00:00:00",
          "2023-08-24T00:00:00",
          "2023-08-25T00:00:00",
          "2023-08-26T00:00:00",
          "2023-08-27T00:00:00",
          "2023-08-28T00:00:00",
          "2023-08-29T00:00:00",
          "2023-08-30T00:00:00",
          "2023-08-31T00:00:00",
          "2023-09-01T00:00:00",
          "2023-09-02T00:00:00",
          "2023-09-03T00:00:00",
          "2023-09-04T00:00:00",
          "2023-09-05T00:00:00",
          "2023-09-06T00:00:00",
          "2023-09-07T00:00:00",
          "2023-09-08T00:00:00",
          "2023-09-09T00:00:00",
          "2023-09-10T00:00:00",
          "2023-09-11T00:00:00",
          "2023-09-12T00:00:00",
          "2023-09-13T00:00:00",
          "2023-09-14T00:00:00",
          "2023-09-15T00:00:00",
          "2023-09-16T00:00:00",
          "2023-09-17T00:00:00",
          "2023-09-18T00:00:00",
          "2023-09-19T00:00:00",
          "2023-09-20T00:00:00",
          "2023-09-21T00:00:00",
          "2023-09-22T00:00:00",
          "2023-09-23T00:00:00",
          "2023-09-24T00:00:00",
          "2023-09-25T00:00:00",
          "2023-09-26T00:00:00",
          "2023-09-27T00:00:00",
          "2023-09-28T00:00:00",
          "2023-09-29T00:00:00",
          "2023-09-30T00:00:00",
          "2023-10-01T00:00:00",
          "2023-10-02T00:00:00",
          "2023-10-03T00:00:00",
          "2023-10-04T00:00:00",
          "2023-10-05T00:00:00",
          "2023-10-06T00:00:00",
          "2023-10-07T00:00:00",
          "2023-10-08T00:00:00",
          "2023-10-09T00:00:00",
          "2023-10-10T00:00:00",
          "2023-10-11T00:00:00",
          "2023-10-12T00:00:00",
          "2023-10-13T00:00:00",
          "2023-10-14T00:00:00",
          "2023-10-15T00:00:00",
          "2023-10-16T00:00:00",
          "2023-10-17T00:00:00",
          "2023-10-18T00:00:00",
          "2023-10-19T00:00:00",
          "2023-10-20T00:00:00",
          "2023-10-21T00:00:00",
          "2023-10-22T00:00:00",
          "2023-10-23T00:00:00",
          "2023-10-24T00:00:00",
          "2023-10-25T00:00:00",
          "2023-10-26T00:00:00",
          "2023-10-27T00:00:00",
          "2023-10-28T00:00:00",
          "2023-10-29T00:00:00",
          "2023-10-30T00:00:00",
          "2023-10-31T00:00:00",
          "2023-11-01T00:00:00",
          "2023-11-02T00:00:00",
          "2023-11-03T00:00:00",
          "2023-11-04T00:00:00",
          "2023-11-05T00:00:00",
          "2023-11-06T00:00:00",
          "2023-11-07T00:00:00",
          "2023-11-08T00:00:00",
          "2023-11-09T00:00:00",
          "2023-11-10T00:00:00",
          "2023-11-11T00:00:00",
          "2023-11-12T00:00:00",
          "2023-11-13T00:00:00",
          "2023-11-14T00:00:00",
          "2023-11-15T00:00:00",
          "2023-11-16T00:00:00",
          "2023-11-17T00:00:00",
          "2023-11-18T00:00:00",
          "2023-11-19T00:00:00",
          "2023-11-20T00:00:00",
          "2023-11-21T00:00:00",
          "2023-11-22T00:00:00",
          "2023-11-23T00:00:00",
          "2023-11-24T00:00:00",
          "2023-11-25T00:00:00",
          "2023-11-26T00:00:00",
          "2023-11-27T00:00:00",
          "2023-11-28T00:00:00",
          "2023-11-29T00:00:00",
          "2023-11-30T00:00:00",
          "2023-12-01T00:00:00",
          "2023-12-02T00:00:00",
          "2023-12-03T00:00:00",
          "2023-12-04T00:00:00",
          "2023-12-05T00:00:00",
          "2023-12-06T00:00:00",
          "2023-12-07T00:00:00",
          "2023-12-08T00:00:00",
          "2023-12-09T00:00:00",
          "2023-12-10T00:00:00",
          "2023-12-11T00:00:00",
          "2023-12-12T00:00:00",
          "2023-12-13T00:00:00",
          "2023-12-14T00:00:00",
          "2023-12-15T00:00:00",
          "2023-12-16T00:00:00",
          "2023-12-17T00:00:00",
          "2023-12-18T00:00:00",
          "2023-12-19T00:00:00",
          "2023-12-20T00:00:00",
          "2023-12-21T00:00:00",
          "2023-12-22T00:00:00",
          "2023-12-23T00:00:00",
          "2023-12-24T00:00:00",
          "2023-12-25T00:00:00",
          "2023-12-26T00:00:00",
          "2023-12-27T00:00:00",
          "2023-12-28T00:00:00",
          "2023-12-29T00:00:00",
          "2023-12-30T00:00:00",
          "2023-12-31T00:00:00",
          "2024-01-01T00:00:00",
          "2024-01-02T00:00:00",
          "2024-01-03T00:00:00",
          "2024-01-04T00:00:00",
          "2024-01-05T00:00:00",
          "2024-01-06T00:00:00",
          "2024-01-07T00:00:00",
          "2024-01-08T00:00:00",
          "2024-01-09T00:00:00",
          "2024-01-10T00:00:00",
          "2024-01-11T00:00:00",
          "2024-01-12T00:00:00",
          "2024-01-13T00:00:00",
          "2024-01-14T00:00:00",
          "2024-01-15T00:00:00",
          "2024-01-16T00:00:00",
          "2024-01-17T00:00:00",
          "2024-01-18T00:00:00",
          "2024-01-19T00:00:00",
          "2024-01-20T00:00:00",
          "2024-01-21T00:00:00",
          "2024-01-22T00:00:00",
          "2024-01-23T00:00:00",
          "2024-01-24T00:00:00",
          "2024-01-25T00:00:00",
          "2024-01-26T00:00:00",
          "2024-01-27T00:00:00",
          "2024-01-28T00:00:00",
          "2024-01-29T00:00:00",
          "2024-01-30T00:00:00",
          "2024-01-31T00:00:00",
          "2024-02-01T00:00:00",
          "2024-02-02T00:00:00",
          "2024-02-03T00:00:00",
          "2024-02-04T00:00:00",
          "2024-02-05T00:00:00",
          "2024-02-06T00:00:00",
          "2024-02-07T00:00:00",
          "2024-02-08T00:00:00",
          "2024-02-09T00:00:00",
          "2024-02-10T00:00:00",
          "2024-02-11T00:00:00",
          "2024-02-12T00:00:00",
          "2024-02-13T00:00:00",
          "2024-02-14T00:00:00",
          "2024-02-15T00:00:00",
          "2024-02-16T00:00:00",
          "2024-02-17T00:00:00",
          "2024-02-18T00:00:00",
          "2024-02-19T00:00:00",
          "2024-02-20T00:00:00",
          "2024-02-21T00:00:00",
          "2024-02-22T00:00:00",
          "2024-02-23T00:00:00",
          "2024-02-24T00:00:00",
          "2024-02-25T00:00:00",
          "2024-02-26T00:00:00",
          "2024-02-27T00:00:00",
          "2024-02-28T00:00:00",
          "2024-02-29T00:00:00",
          "2024-03-01T00:00:00",
          "2024-03-02T00:00:00",
          "2024-03-03T00:00:00",
          "2024-03-04T00:00:00",
          "2024-03-05T00:00:00",
          "2024-03-06T00:00:00",
          "2024-03-07T00:00:00",
          "2024-03-08T00:00:00",
          "2024-03-09T00:00:00",
          "2024-03-10T00:00:00",
          "2024-03-11T00:00:00",
          "2024-03-12T00:00:00",
          "2024-03-13T00:00:00",
          "2024-03-14T00:00:00",
          "2024-03-15T00:00:00",
          "2024-03-16T00:00:00",
          "2024-03-17T00:00:00",
          "2024-03-18T00:00:00",
          "2024-03-19T00:00:00",
          "2024-03-20T00:00:00",
          "2024-03-21T00:00:00",
          "2024-03-22T00:00:00",
          "2024-03-23T00:00:00",
          "2024-03-24T00:00:00",
          "2024-03-25T00:00:00",
          "2024-03-26T00:00:00",
          "2024-03-27T00:00:00",
          "2024-03-28T00:00:00",
          "2024-03-29T00:00:00",
          "2024-03-30T00:00:00",
          "2024-03-31T00:00:00",
          "2024-04-01T00:00:00",
          "2024-04-02T00:00:00",
          "2024-04-03T00:00:00",
          "2024-04-04T00:00:00",
          "2024-04-05T00:00:00",
          "2024-04-06T00:00:00",
          "2024-04-07T00:00:00"
         ],
         "y": [
          16625.080078125,
          16704.492196654686,
          15963.183748879468,
          16034.33367924969,
          16084.14073977668,
          16060.784803474093,
          15698.156094230233,
          15697.765738660273,
          15989.233389241588,
          16021.665907970642,
          15620.239011944679,
          15791.970267266845,
          16068.229930522077,
          15935.151505083815,
          14727.033620893155,
          14387.367692899896,
          14381.826953748752,
          13980.401684293365,
          13294.462018056987,
          13373.873757463634,
          14003.612399842428,
          14124.55048746545,
          14396.279234952077,
          14347.142901457057,
          13982.256635523263,
          14184.645157422447,
          14037.508036580713,
          14133.58224102394,
          14271.112268534764,
          14134.144792604764,
          14111.931832287879,
          14401.782462091764,
          14476.19771691178,
          14274.033413063626,
          13843.398871160036,
          13672.957755060695,
          14288.309143713614,
          13992.1749063178,
          13786.717878251215,
          13286.522868671063,
          13314.266925354763,
          13368.405003396141,
          13636.369813626638,
          13660.789244396748,
          13555.695790210024,
          14039.375682104768,
          14090.514296964006,
          14085.114094397388,
          14192.225680199715,
          14141.982529975814,
          14355.874372236327,
          14576.456780947163,
          14574.946838487083,
          14664.83826856488,
          14727.703147132273,
          14721.558506915415,
          14678.759334632881,
          14809.47392305895,
          14916.846603226093,
          15057.356277284132,
          15656.390516672045,
          15482.487935889396,
          15605.304281953433,
          15528.60234412822,
          16306.079818328493,
          15883.425627796198,
          15812.554343106769,
          15708.494229301054,
          15448.685165493225,
          15301.09178484954,
          15217.430077697112,
          15255.823766316744,
          15057.62093227636,
          15076.968251499518,
          14836.280514840751,
          14927.631120556458,
          14912.990595301619,
          15274.51180018918,
          15339.695972033338,
          15223.396087341936,
          15230.235219713251,
          14928.353313239673,
          14983.617776037068,
          15035.161112816406,
          15526.624646758311,
          14790.629579715947,
          14774.368361075556,
          14830.70231194904,
          14900.780775779165,
          15137.271707737013,
          15663.33729068136,
          15928.35928215964,
          15879.159934218387,
          15774.693933460772,
          15949.664053867826,
          16739.39393332812,
          16765.949606121252,
          16744.43469934181,
          16773.959495456544,
          16673.280650888984,
          16725.35517788305,
          16918.517346416083,
          17415.34120682786,
          17427.43930768955,
          18387.94245801167,
          18097.04684234375,
          18068.65136068583,
          17766.858001156164,
          17600.523972672076,
          17949.34150551587,
          18049.47790945718,
          17730.2344361947,
          17598.1040309191,
          17470.489680890296,
          17314.82926915294,
          17253.50930006024,
          18033.24411823388,
          18088.796587960594,
          18498.856851893306,
          18713.315769446865,
          18716.74821538154,
          18810.40976844027,
          19147.133767235122,
          19276.76504648379,
          19009.771192152137,
          19201.263399729338,
          18769.598335061255,
          18993.629787418537,
          19533.420226820304,
          19381.96726527744,
          20049.9084953397,
          19797.68877181161,
          19712.17792288316,
          19785.434934435194,
          21014.148526204808,
          20991.386843604687,
          21281.750538475822,
          21010.875910139337,
          20810.59380598021,
          21046.973550510284,
          21169.267447064445,
          21010.741598885972,
          20967.37162622036,
          21180.12449203876,
          21386.99222584378,
          21054.293055934468,
          21147.861169685086,
          21155.2897235691,
          21570.5610110238,
          21746.508414736523,
          20871.829016164145,
          19662.86259360515,
          19466.67038784131,
          18957.60832492748,
          18889.83956540298,
          18859.099620266024,
          19026.854389045555,
          19034.747958124964,
          19014.99987819751,
          19026.994286981993,
          19665.080349358584,
          21571.11917446315,
          20723.29500498312,
          20676.683976685454,
          20669.614028287855,
          20361.607928180656,
          20281.615986441604,
          20444.378232647276,
          21408.424571862204,
          19622.24328573106,
          18663.89364619729,
          18578.438374989862,
          18011.38829853672,
          18029.45934867062,
          18407.46558883195,
          20096.385142153944,
          20263.079101310635,
          20360.22831274975,
          20271.94729657357,
          20223.422759409914,
          20425.38070848523,
          20414.83872702928,
          20274.92546097783,
          20201.19021409775,
          21253.991322015423,
          21172.16856487976,
          20947.362967567133,
          21405.89084262919,
          21419.302128567095,
          21475.005533295796,
          21407.83383942973,
          21822.221949632418,
          20798.146091404582,
          20770.309080969415,
          20823.6601584716,
          20724.74901112892,
          20218.697905474986,
          19595.557460498887,
          19071.696932517592,
          19409.961257642986,
          19193.172082135232,
          20154.168933388577,
          19536.720707061995,
          19809.166211685228,
          19240.473349198386,
          19468.871999889936,
          19463.8772361836,
          19495.46320236777,
          19179.895794736756,
          19542.56177029119,
          18563.26070059619,
          18375.238035827388,
          18376.188351201985,
          18857.328552245897,
          18774.651367690098,
          19191.228003085544,
          20054.340184429137,
          20573.34546472913,
          22505.64881974828,
          23711.467145253595,
          23652.21618248072,
          24340.680807042354,
          26644.423394654135,
          26665.629205403005,
          26769.500702957288,
          27363.66618080686,
          27239.700291992995,
          27198.701052470657,
          27801.20631699132,
          27641.671448149835,
          26013.268738480172,
          26286.523744916445,
          26845.53700066742,
          26804.17867029663,
          26434.424885144916,
          26162.015951866608,
          26784.76108696787,
          27534.89915100875,
          27381.839973873033,
          27415.476981176755,
          26937.784102281734,
          26321.679420612756,
          26227.33214521192,
          25960.145922925683,
          26936.033991927517,
          27683.94565081297,
          27553.428751940442,
          28151.182890088392,
          28070.239981751445,
          28574.917288919703,
          28928.79469181367,
          29296.71007894632,
          29084.98484975539,
          29229.504350625222,
          30119.06294183718,
          28746.859756827296,
          28994.862792162356,
          27185.78308254772,
          27872.48190513593,
          27599.406256326234,
          28055.92540851258,
          28029.662735995364,
          30142.85416001897,
          30613.17224405372,
          32370.434811352032,
          31978.838535499577,
          31945.32690848273,
          31920.40452781819,
          33122.79004754349,
          33207.43979620767,
          33713.6963573445,
          33658.446680122805,
          34412.8809120377,
          34360.61614696474,
          34158.10257332786,
          33647.218814032036,
          33505.30556542996,
          33753.30808767135,
          31516.00298548777,
          31849.366154567735,
          32318.012596651148,
          31642.537096659835,
          30890.756951549072,
          29345.16702970902,
          28734.755933086755,
          30073.39954446402,
          31044.211949248016,
          30776.232606426125,
          31181.507341740347,
          32334.615333790996,
          32100.672765349922,
          31710.33361434935,
          31702.352853089884,
          31627.268136350012,
          32532.78370883916,
          31466.481070789927,
          31307.825178138828,
          32079.295555979035,
          31948.562814222558,
          32607.171283928947,
          32573.073683133458,
          31998.16248867952,
          33338.91483766802,
          33297.02411270619,
          33528.73820009254,
          33453.62886971154,
          33050.67894549243,
          32120.164406854943,
          33428.773227145255,
          33142.66646795328,
          32610.290061775122,
          32329.377333017244,
          32752.805428915748,
          32648.804928225625,
          33154.40425437638,
          32885.98062187834,
          32846.29710793251,
          33348.502550400364,
          33222.445260315544,
          32819.26145380685,
          32736.831586087552,
          32839.75439158953,
          33141.26352898152,
          33106.45498888147,
          33055.34293193277,
          32824.467882047364,
          32676.000166675116,
          32460.71876324482,
          32058.306582722198,
          32316.756226583904,
          32307.05990721829,
          32899.51723590358,
          32886.68620136198,
          32907.10214274943,
          31877.372678105312,
          33978.99830818315,
          34448.54867434549,
          35693.42750400125,
          36165.894324525805,
          39894.55843545021,
          38589.08769663998,
          38727.16933692101,
          38550.85392961393,
          38222.44370258898,
          37911.75162687419,
          35220.8069055492,
          36816.5146803071,
          36507.081780560075,
          36613.33651848668,
          37797.728974605554,
          38304.02453780621,
          38120.87003388621,
          38890.405902760984,
          41569.7131017224,
          41732.587979555414,
          40244.109112400176,
          40684.39891641198,
          41454.32281480495,
          42207.61453191008,
          41552.860119423145,
          41324.95758667158,
          40232.78697222092,
          38839.134270065624,
          39485.75205469536,
          39149.161126605446,
          39005.81267526046,
          39671.846527373455,
          40218.71655306316,
          40802.79594155508,
          40647.22661146266,
          41910.5659316228,
          43159.49247122084,
          44038.08484621882,
          44636.87941691974,
          44714.09899184265,
          44624.4363656106,
          44200.25345436153,
          44023.25330575873,
          45807.279806814455,
          45601.91816894968,
          45653.61366722725,
          46287.24308680269,
          48782.78984279812,
          48721.25792552634,
          48720.80248160247,
          48899.88521998856,
          48527.837613422416,
          48408.931740530585,
          49355.22240018473,
          49400.296874779735,
          48683.64585556888,
          48875.74032080612,
          49549.081750823396,
          49656.0252725558,
          49701.54001516321,
          50497.686831172636,
          54625.16154505418,
          54743.07524686461,
          55377.07898913063,
          54231.908262048724,
          54024.18004563057,
          54751.756165622646,
          55042.02361598461,
          55041.65555659652,
          54489.414524282176,
          54437.06793300139,
          55888.042337011204,
          56023.19380358259,
          55817.00831518586,
          55857.44423834876,
          55785.847119963786,
          55944.82847712493,
          60097.60023324594,
          59796.52790237842,
          58521.48647233266,
          57577.93887518904,
          55602.524862730075,
          55221.02538889815,
          54886.8647958861,
          53810.31325954423,
          53968.239215757814,
          52722.549558932995,
          52861.65597652673,
          54955.932433216316,
          55250.98464099502,
          56469.37089127536,
          53022.02952826935,
          50275.000320873565,
          49634.03521114055,
          49905.62907784779,
          49702.793014391165,
          51607.137765415,
          51661.211302729076,
          52011.933537223995,
          54871.916509075556,
          54981.387843295845,
          57732.48190063066,
          57393.471921825054,
          56837.85179365113,
          55700.625795427055,
          56177.423900353206,
          58417.83375067419,
          61163.917487075,
          60016.46545580086,
          60098.43685139291,
          58962.55675862871,
          58585.058859082645,
          57760.0900002743,
          57582.421164730775,
          58568.4348521609,
          59757.300224927516,
          59161.14628447907,
          59419.39373841346,
          60700.83607951258,
          59344.808272705464,
          60850.97528612146,
          60898.77325727264,
          64553.042111036935,
          62637.71113192866,
          62463.58439075138,
          68393.58475956447,
          68524.98457684211,
          69362.55468750006
         ]
        }
       ],
       "layout": {
        "template": {
         "data": {
          "bar": [
           {
            "error_x": {
             "color": "#f2f5fa"
            },
            "error_y": {
             "color": "#f2f5fa"
            },
            "marker": {
             "line": {
              "color": "rgb(17,17,17)",
              "width": 0.5
             },
             "pattern": {
              "fillmode": "overlay",
              "size": 10,
              "solidity": 0.2
             }
            },
            "type": "bar"
           }
          ],
          "barpolar": [
           {
            "marker": {
             "line": {
              "color": "rgb(17,17,17)",
              "width": 0.5
             },
             "pattern": {
              "fillmode": "overlay",
              "size": 10,
              "solidity": 0.2
             }
            },
            "type": "barpolar"
           }
          ],
          "carpet": [
           {
            "aaxis": {
             "endlinecolor": "#A2B1C6",
             "gridcolor": "#506784",
             "linecolor": "#506784",
             "minorgridcolor": "#506784",
             "startlinecolor": "#A2B1C6"
            },
            "baxis": {
             "endlinecolor": "#A2B1C6",
             "gridcolor": "#506784",
             "linecolor": "#506784",
             "minorgridcolor": "#506784",
             "startlinecolor": "#A2B1C6"
            },
            "type": "carpet"
           }
          ],
          "choropleth": [
           {
            "colorbar": {
             "outlinewidth": 0,
             "ticks": ""
            },
            "type": "choropleth"
           }
          ],
          "contour": [
           {
            "colorbar": {
             "outlinewidth": 0,
             "ticks": ""
            },
            "colorscale": [
             [
              0,
              "#0d0887"
             ],
             [
              0.1111111111111111,
              "#46039f"
             ],
             [
              0.2222222222222222,
              "#7201a8"
             ],
             [
              0.3333333333333333,
              "#9c179e"
             ],
             [
              0.4444444444444444,
              "#bd3786"
             ],
             [
              0.5555555555555556,
              "#d8576b"
             ],
             [
              0.6666666666666666,
              "#ed7953"
             ],
             [
              0.7777777777777778,
              "#fb9f3a"
             ],
             [
              0.8888888888888888,
              "#fdca26"
             ],
             [
              1,
              "#f0f921"
             ]
            ],
            "type": "contour"
           }
          ],
          "contourcarpet": [
           {
            "colorbar": {
             "outlinewidth": 0,
             "ticks": ""
            },
            "type": "contourcarpet"
           }
          ],
          "heatmap": [
           {
            "colorbar": {
             "outlinewidth": 0,
             "ticks": ""
            },
            "colorscale": [
             [
              0,
              "#0d0887"
             ],
             [
              0.1111111111111111,
              "#46039f"
             ],
             [
              0.2222222222222222,
              "#7201a8"
             ],
             [
              0.3333333333333333,
              "#9c179e"
             ],
             [
              0.4444444444444444,
              "#bd3786"
             ],
             [
              0.5555555555555556,
              "#d8576b"
             ],
             [
              0.6666666666666666,
              "#ed7953"
             ],
             [
              0.7777777777777778,
              "#fb9f3a"
             ],
             [
              0.8888888888888888,
              "#fdca26"
             ],
             [
              1,
              "#f0f921"
             ]
            ],
            "type": "heatmap"
           }
          ],
          "heatmapgl": [
           {
            "colorbar": {
             "outlinewidth": 0,
             "ticks": ""
            },
            "colorscale": [
             [
              0,
              "#0d0887"
             ],
             [
              0.1111111111111111,
              "#46039f"
             ],
             [
              0.2222222222222222,
              "#7201a8"
             ],
             [
              0.3333333333333333,
              "#9c179e"
             ],
             [
              0.4444444444444444,
              "#bd3786"
             ],
             [
              0.5555555555555556,
              "#d8576b"
             ],
             [
              0.6666666666666666,
              "#ed7953"
             ],
             [
              0.7777777777777778,
              "#fb9f3a"
             ],
             [
              0.8888888888888888,
              "#fdca26"
             ],
             [
              1,
              "#f0f921"
             ]
            ],
            "type": "heatmapgl"
           }
          ],
          "histogram": [
           {
            "marker": {
             "pattern": {
              "fillmode": "overlay",
              "size": 10,
              "solidity": 0.2
             }
            },
            "type": "histogram"
           }
          ],
          "histogram2d": [
           {
            "colorbar": {
             "outlinewidth": 0,
             "ticks": ""
            },
            "colorscale": [
             [
              0,
              "#0d0887"
             ],
             [
              0.1111111111111111,
              "#46039f"
             ],
             [
              0.2222222222222222,
              "#7201a8"
             ],
             [
              0.3333333333333333,
              "#9c179e"
             ],
             [
              0.4444444444444444,
              "#bd3786"
             ],
             [
              0.5555555555555556,
              "#d8576b"
             ],
             [
              0.6666666666666666,
              "#ed7953"
             ],
             [
              0.7777777777777778,
              "#fb9f3a"
             ],
             [
              0.8888888888888888,
              "#fdca26"
             ],
             [
              1,
              "#f0f921"
             ]
            ],
            "type": "histogram2d"
           }
          ],
          "histogram2dcontour": [
           {
            "colorbar": {
             "outlinewidth": 0,
             "ticks": ""
            },
            "colorscale": [
             [
              0,
              "#0d0887"
             ],
             [
              0.1111111111111111,
              "#46039f"
             ],
             [
              0.2222222222222222,
              "#7201a8"
             ],
             [
              0.3333333333333333,
              "#9c179e"
             ],
             [
              0.4444444444444444,
              "#bd3786"
             ],
             [
              0.5555555555555556,
              "#d8576b"
             ],
             [
              0.6666666666666666,
              "#ed7953"
             ],
             [
              0.7777777777777778,
              "#fb9f3a"
             ],
             [
              0.8888888888888888,
              "#fdca26"
             ],
             [
              1,
              "#f0f921"
             ]
            ],
            "type": "histogram2dcontour"
           }
          ],
          "mesh3d": [
           {
            "colorbar": {
             "outlinewidth": 0,
             "ticks": ""
            },
            "type": "mesh3d"
           }
          ],
          "parcoords": [
           {
            "line": {
             "colorbar": {
              "outlinewidth": 0,
              "ticks": ""
             }
            },
            "type": "parcoords"
           }
          ],
          "pie": [
           {
            "automargin": true,
            "type": "pie"
           }
          ],
          "scatter": [
           {
            "marker": {
             "line": {
              "color": "#283442"
             }
            },
            "type": "scatter"
           }
          ],
          "scatter3d": [
           {
            "line": {
             "colorbar": {
              "outlinewidth": 0,
              "ticks": ""
             }
            },
            "marker": {
             "colorbar": {
              "outlinewidth": 0,
              "ticks": ""
             }
            },
            "type": "scatter3d"
           }
          ],
          "scattercarpet": [
           {
            "marker": {
             "colorbar": {
              "outlinewidth": 0,
              "ticks": ""
             }
            },
            "type": "scattercarpet"
           }
          ],
          "scattergeo": [
           {
            "marker": {
             "colorbar": {
              "outlinewidth": 0,
              "ticks": ""
             }
            },
            "type": "scattergeo"
           }
          ],
          "scattergl": [
           {
            "marker": {
             "line": {
              "color": "#283442"
             }
            },
            "type": "scattergl"
           }
          ],
          "scattermapbox": [
           {
            "marker": {
             "colorbar": {
              "outlinewidth": 0,
              "ticks": ""
             }
            },
            "type": "scattermapbox"
           }
          ],
          "scatterpolar": [
           {
            "marker": {
             "colorbar": {
              "outlinewidth": 0,
              "ticks": ""
             }
            },
            "type": "scatterpolar"
           }
          ],
          "scatterpolargl": [
           {
            "marker": {
             "colorbar": {
              "outlinewidth": 0,
              "ticks": ""
             }
            },
            "type": "scatterpolargl"
           }
          ],
          "scatterternary": [
           {
            "marker": {
             "colorbar": {
              "outlinewidth": 0,
              "ticks": ""
             }
            },
            "type": "scatterternary"
           }
          ],
          "surface": [
           {
            "colorbar": {
             "outlinewidth": 0,
             "ticks": ""
            },
            "colorscale": [
             [
              0,
              "#0d0887"
             ],
             [
              0.1111111111111111,
              "#46039f"
             ],
             [
              0.2222222222222222,
              "#7201a8"
             ],
             [
              0.3333333333333333,
              "#9c179e"
             ],
             [
              0.4444444444444444,
              "#bd3786"
             ],
             [
              0.5555555555555556,
              "#d8576b"
             ],
             [
              0.6666666666666666,
              "#ed7953"
             ],
             [
              0.7777777777777778,
              "#fb9f3a"
             ],
             [
              0.8888888888888888,
              "#fdca26"
             ],
             [
              1,
              "#f0f921"
             ]
            ],
            "type": "surface"
           }
          ],
          "table": [
           {
            "cells": {
             "fill": {
              "color": "#506784"
             },
             "line": {
              "color": "rgb(17,17,17)"
             }
            },
            "header": {
             "fill": {
              "color": "#2a3f5f"
             },
             "line": {
              "color": "rgb(17,17,17)"
             }
            },
            "type": "table"
           }
          ]
         },
         "layout": {
          "annotationdefaults": {
           "arrowcolor": "#f2f5fa",
           "arrowhead": 0,
           "arrowwidth": 1
          },
          "autotypenumbers": "strict",
          "coloraxis": {
           "colorbar": {
            "outlinewidth": 0,
            "ticks": ""
           }
          },
          "colorscale": {
           "diverging": [
            [
             0,
             "#8e0152"
            ],
            [
             0.1,
             "#c51b7d"
            ],
            [
             0.2,
             "#de77ae"
            ],
            [
             0.3,
             "#f1b6da"
            ],
            [
             0.4,
             "#fde0ef"
            ],
            [
             0.5,
             "#f7f7f7"
            ],
            [
             0.6,
             "#e6f5d0"
            ],
            [
             0.7,
             "#b8e186"
            ],
            [
             0.8,
             "#7fbc41"
            ],
            [
             0.9,
             "#4d9221"
            ],
            [
             1,
             "#276419"
            ]
           ],
           "sequential": [
            [
             0,
             "#0d0887"
            ],
            [
             0.1111111111111111,
             "#46039f"
            ],
            [
             0.2222222222222222,
             "#7201a8"
            ],
            [
             0.3333333333333333,
             "#9c179e"
            ],
            [
             0.4444444444444444,
             "#bd3786"
            ],
            [
             0.5555555555555556,
             "#d8576b"
            ],
            [
             0.6666666666666666,
             "#ed7953"
            ],
            [
             0.7777777777777778,
             "#fb9f3a"
            ],
            [
             0.8888888888888888,
             "#fdca26"
            ],
            [
             1,
             "#f0f921"
            ]
           ],
           "sequentialminus": [
            [
             0,
             "#0d0887"
            ],
            [
             0.1111111111111111,
             "#46039f"
            ],
            [
             0.2222222222222222,
             "#7201a8"
            ],
            [
             0.3333333333333333,
             "#9c179e"
            ],
            [
             0.4444444444444444,
             "#bd3786"
            ],
            [
             0.5555555555555556,
             "#d8576b"
            ],
            [
             0.6666666666666666,
             "#ed7953"
            ],
            [
             0.7777777777777778,
             "#fb9f3a"
            ],
            [
             0.8888888888888888,
             "#fdca26"
            ],
            [
             1,
             "#f0f921"
            ]
           ]
          },
          "colorway": [
           "#636efa",
           "#EF553B",
           "#00cc96",
           "#ab63fa",
           "#FFA15A",
           "#19d3f3",
           "#FF6692",
           "#B6E880",
           "#FF97FF",
           "#FECB52"
          ],
          "font": {
           "color": "#f2f5fa"
          },
          "geo": {
           "bgcolor": "rgb(17,17,17)",
           "lakecolor": "rgb(17,17,17)",
           "landcolor": "rgb(17,17,17)",
           "showlakes": true,
           "showland": true,
           "subunitcolor": "#506784"
          },
          "hoverlabel": {
           "align": "left"
          },
          "hovermode": "closest",
          "mapbox": {
           "style": "dark"
          },
          "paper_bgcolor": "rgb(17,17,17)",
          "plot_bgcolor": "rgb(17,17,17)",
          "polar": {
           "angularaxis": {
            "gridcolor": "#506784",
            "linecolor": "#506784",
            "ticks": ""
           },
           "bgcolor": "rgb(17,17,17)",
           "radialaxis": {
            "gridcolor": "#506784",
            "linecolor": "#506784",
            "ticks": ""
           }
          },
          "scene": {
           "xaxis": {
            "backgroundcolor": "rgb(17,17,17)",
            "gridcolor": "#506784",
            "gridwidth": 2,
            "linecolor": "#506784",
            "showbackground": true,
            "ticks": "",
            "zerolinecolor": "#C8D4E3"
           },
           "yaxis": {
            "backgroundcolor": "rgb(17,17,17)",
            "gridcolor": "#506784",
            "gridwidth": 2,
            "linecolor": "#506784",
            "showbackground": true,
            "ticks": "",
            "zerolinecolor": "#C8D4E3"
           },
           "zaxis": {
            "backgroundcolor": "rgb(17,17,17)",
            "gridcolor": "#506784",
            "gridwidth": 2,
            "linecolor": "#506784",
            "showbackground": true,
            "ticks": "",
            "zerolinecolor": "#C8D4E3"
           }
          },
          "shapedefaults": {
           "line": {
            "color": "#f2f5fa"
           }
          },
          "sliderdefaults": {
           "bgcolor": "#C8D4E3",
           "bordercolor": "rgb(17,17,17)",
           "borderwidth": 1,
           "tickwidth": 0
          },
          "ternary": {
           "aaxis": {
            "gridcolor": "#506784",
            "linecolor": "#506784",
            "ticks": ""
           },
           "baxis": {
            "gridcolor": "#506784",
            "linecolor": "#506784",
            "ticks": ""
           },
           "bgcolor": "rgb(17,17,17)",
           "caxis": {
            "gridcolor": "#506784",
            "linecolor": "#506784",
            "ticks": ""
           }
          },
          "title": {
           "x": 0.05
          },
          "updatemenudefaults": {
           "bgcolor": "#506784",
           "borderwidth": 0
          },
          "xaxis": {
           "automargin": true,
           "gridcolor": "#283442",
           "linecolor": "#506784",
           "ticks": "",
           "title": {
            "standoff": 15
           },
           "zerolinecolor": "#283442",
           "zerolinewidth": 2
          },
          "yaxis": {
           "automargin": true,
           "gridcolor": "#283442",
           "linecolor": "#506784",
           "ticks": "",
           "title": {
            "standoff": 15
           },
           "zerolinecolor": "#283442",
           "zerolinewidth": 2
          }
         }
        },
        "title": {
         "text": "Original vs Generated Scenarios"
        },
        "xaxis": {
         "title": {
          "text": "Date"
         }
        },
        "yaxis": {
         "title": {
          "text": "Close Price"
         }
        }
       }
      }
     },
     "metadata": {},
     "output_type": "display_data"
    }
   ],
   "source": [
    "fig = go.Figure()\n",
    "\n",
    "# Добавляем оригинальную цену\n",
    "fig.add_trace(go.Scatter(x=train_df['date'], y=train_df['close'],\n",
    "                         mode='lines', name='Original Close',\n",
    "                         line=dict(color='red')))\n",
    "\n",
    "# Добавляем сгенерированные сценарии\n",
    "for i, scenario_df in enumerate(scenarios):\n",
    "    fig.add_trace(go.Scatter(x=scenario_df['date'], y=scenario_df['close'],\n",
    "                             mode='lines', name=f'Scenario {i+1}',\n",
    "                             line=dict(width=1, color='blue')))\n",
    "\n",
    "# Настройка осей и названий\n",
    "fig.update_layout(title='Original vs Generated Scenarios',\n",
    "                  xaxis_title='Date',\n",
    "                  yaxis_title='Close Price',\n",
    "                  template='plotly_dark')\n",
    "\n",
    "# Отображаем график\n",
    "fig.show()"
   ]
  },
  {
   "cell_type": "code",
   "execution_count": 11,
   "metadata": {},
   "outputs": [],
   "source": [
    "stats_list = [\n",
    "    'Return [%]',\n",
    "    'Max. Drawdown [%]',\n",
    "    'Sharpe Ratio',\n",
    "    #'Avg Win [%]',\n",
    "    #'Avg Loss [%]'\n",
    "]\n",
    "all_stats = []\n",
    "for scenario_df in scenarios:\n",
    "    scenario_df['tema'] = talib.TEMA(df['close'], timeperiod=24)\n",
    "    scenario_df['macd'], scenario_df['macd_signal'], scenario_df['macd_hist'] = talib.MACD(scenario_df['close'], fastperiod=12, slowperiod=26, signalperiod=9)\n",
    "    # Создаем сигналы для покупки и продажи\n",
    "    scenario_df['signal'] = 0\n",
    "    scenario_df.loc[(scenario_df['macd'] > scenario_df['macd_signal']) & (scenario_df['close'] > scenario_df['tema']), 'signal'] = 1  # Сигнал на покупку\n",
    "    scenario_df.loc[(scenario_df['macd'] < scenario_df['macd_signal']) & (scenario_df['close'] < scenario_df['tema']), 'signal'] = -1  # Сигнал на продажу\n",
    "\n",
    "    # бектестим\n",
    "    bt_df = scenario_df.copy()\n",
    "    bt_df.columns = bt_df.columns.str.capitalize()\n",
    "    bt_df.rename(columns={'Date': 'Datetime'}, inplace=True)\n",
    "    bt_df[\"Datetime\"] = pd.to_datetime(bt_df[\"Datetime\"])\n",
    "    bt_df.set_index('Datetime', inplace=True)\n",
    "\n",
    "    # Создаем объект класса Backtest\n",
    "    bt = Backtest(bt_df, TemaMacdStrategy, cash=500000, commission=0.002, exclusive_orders=True, margin=0.1)\n",
    "\n",
    "    # Запускаем бэктест\n",
    "    stats = bt.run()\n",
    "    all_stats.append(stats)\n",
    "\n",
    "    \n",
    "    "
   ]
  },
  {
   "cell_type": "code",
   "execution_count": 223,
   "metadata": {},
   "outputs": [
    {
     "data": {
      "application/vnd.plotly.v1+json": {
       "config": {
        "plotlyServerURL": "https://plot.ly"
       },
       "data": [
        {
         "name": "Return [%]",
         "nbinsx": 20,
         "type": "histogram",
         "x": [
          58.768266209375,
          166.24925826484375,
          121.7626643453124,
          -24.552761759375013,
          132.9378136734375,
          -6.316326226562552,
          22.816930431249947,
          -18.967751860937476,
          43.09416251562499,
          2.5217548976561988,
          46.11920020546876,
          27.96977149140623,
          83.21136753281255,
          17.730736081249965,
          84.47217276875021,
          14.7166531828125,
          94.72382988671868,
          66.51551830624994,
          54.06799856796872,
          91.93916825546874,
          50.86907615937505,
          63.69262204843762,
          7.7832270609375085,
          14.31078282499998,
          -39.03378529453128,
          -27.298673082031215,
          -35.537918235156226,
          124.66729544609376,
          -11.159653361718764,
          122.33371600859384,
          -37.65873341406244,
          49.311080183593695,
          31.29463265312498,
          74.69914563359376,
          -18.032780096875026,
          60.11503772109374,
          69.16872567499998,
          -0.28033412890621695,
          31.693567746093755,
          35.656210904687505,
          58.79399748359353,
          89.34345405468754,
          -59.417348875781265,
          -20.130012073437488,
          -13.133652728124998,
          53.27478053124969,
          23.036024260937495,
          64.12964076015626,
          -27.76656646250002,
          24.00318283125027,
          -24.78590640390633,
          20.566399756250064,
          39.49386113359372,
          -15.651212690624991,
          -3.446927029687364,
          30.242626807812485,
          13.381775635156293,
          -13.613898050000007,
          145.9389650570313,
          2.0758125218749512,
          -12.63852900546873,
          -29.440693560937504,
          -40.53682455234374,
          67.34613022343751,
          -7.329582129687455,
          45.05908177343754,
          32.3591565359375,
          77.92780338828119,
          83.11998043906252,
          7.591683184374985,
          44.57001495078124,
          87.71003821796874,
          80.22000898281252,
          -5.90268222968753,
          106.47746355546883,
          100.8501744898438,
          104.70912358125003,
          18.245119870312536,
          83.66940209453126,
          -17.509429915624995,
          58.296139275000016,
          44.402616745312464,
          -71.62780236875001,
          -21.28321769765627,
          28.59928917499995,
          49.930238196093775,
          19.27068204453129,
          61.01097587890622,
          -12.741262767187564,
          -11.665544427343784,
          5.211353233593749,
          84.01584465703124,
          60.21192139687501,
          63.864998032812615,
          51.319024323437525,
          69.82837893906218,
          -28.485459791406242,
          -37.143861950000016,
          8.128691211718717,
          83.0945367398438
         ]
        }
       ],
       "layout": {
        "showlegend": false,
        "template": {
         "data": {
          "bar": [
           {
            "error_x": {
             "color": "#2a3f5f"
            },
            "error_y": {
             "color": "#2a3f5f"
            },
            "marker": {
             "line": {
              "color": "#E5ECF6",
              "width": 0.5
             },
             "pattern": {
              "fillmode": "overlay",
              "size": 10,
              "solidity": 0.2
             }
            },
            "type": "bar"
           }
          ],
          "barpolar": [
           {
            "marker": {
             "line": {
              "color": "#E5ECF6",
              "width": 0.5
             },
             "pattern": {
              "fillmode": "overlay",
              "size": 10,
              "solidity": 0.2
             }
            },
            "type": "barpolar"
           }
          ],
          "carpet": [
           {
            "aaxis": {
             "endlinecolor": "#2a3f5f",
             "gridcolor": "white",
             "linecolor": "white",
             "minorgridcolor": "white",
             "startlinecolor": "#2a3f5f"
            },
            "baxis": {
             "endlinecolor": "#2a3f5f",
             "gridcolor": "white",
             "linecolor": "white",
             "minorgridcolor": "white",
             "startlinecolor": "#2a3f5f"
            },
            "type": "carpet"
           }
          ],
          "choropleth": [
           {
            "colorbar": {
             "outlinewidth": 0,
             "ticks": ""
            },
            "type": "choropleth"
           }
          ],
          "contour": [
           {
            "colorbar": {
             "outlinewidth": 0,
             "ticks": ""
            },
            "colorscale": [
             [
              0,
              "#0d0887"
             ],
             [
              0.1111111111111111,
              "#46039f"
             ],
             [
              0.2222222222222222,
              "#7201a8"
             ],
             [
              0.3333333333333333,
              "#9c179e"
             ],
             [
              0.4444444444444444,
              "#bd3786"
             ],
             [
              0.5555555555555556,
              "#d8576b"
             ],
             [
              0.6666666666666666,
              "#ed7953"
             ],
             [
              0.7777777777777778,
              "#fb9f3a"
             ],
             [
              0.8888888888888888,
              "#fdca26"
             ],
             [
              1,
              "#f0f921"
             ]
            ],
            "type": "contour"
           }
          ],
          "contourcarpet": [
           {
            "colorbar": {
             "outlinewidth": 0,
             "ticks": ""
            },
            "type": "contourcarpet"
           }
          ],
          "heatmap": [
           {
            "colorbar": {
             "outlinewidth": 0,
             "ticks": ""
            },
            "colorscale": [
             [
              0,
              "#0d0887"
             ],
             [
              0.1111111111111111,
              "#46039f"
             ],
             [
              0.2222222222222222,
              "#7201a8"
             ],
             [
              0.3333333333333333,
              "#9c179e"
             ],
             [
              0.4444444444444444,
              "#bd3786"
             ],
             [
              0.5555555555555556,
              "#d8576b"
             ],
             [
              0.6666666666666666,
              "#ed7953"
             ],
             [
              0.7777777777777778,
              "#fb9f3a"
             ],
             [
              0.8888888888888888,
              "#fdca26"
             ],
             [
              1,
              "#f0f921"
             ]
            ],
            "type": "heatmap"
           }
          ],
          "heatmapgl": [
           {
            "colorbar": {
             "outlinewidth": 0,
             "ticks": ""
            },
            "colorscale": [
             [
              0,
              "#0d0887"
             ],
             [
              0.1111111111111111,
              "#46039f"
             ],
             [
              0.2222222222222222,
              "#7201a8"
             ],
             [
              0.3333333333333333,
              "#9c179e"
             ],
             [
              0.4444444444444444,
              "#bd3786"
             ],
             [
              0.5555555555555556,
              "#d8576b"
             ],
             [
              0.6666666666666666,
              "#ed7953"
             ],
             [
              0.7777777777777778,
              "#fb9f3a"
             ],
             [
              0.8888888888888888,
              "#fdca26"
             ],
             [
              1,
              "#f0f921"
             ]
            ],
            "type": "heatmapgl"
           }
          ],
          "histogram": [
           {
            "marker": {
             "pattern": {
              "fillmode": "overlay",
              "size": 10,
              "solidity": 0.2
             }
            },
            "type": "histogram"
           }
          ],
          "histogram2d": [
           {
            "colorbar": {
             "outlinewidth": 0,
             "ticks": ""
            },
            "colorscale": [
             [
              0,
              "#0d0887"
             ],
             [
              0.1111111111111111,
              "#46039f"
             ],
             [
              0.2222222222222222,
              "#7201a8"
             ],
             [
              0.3333333333333333,
              "#9c179e"
             ],
             [
              0.4444444444444444,
              "#bd3786"
             ],
             [
              0.5555555555555556,
              "#d8576b"
             ],
             [
              0.6666666666666666,
              "#ed7953"
             ],
             [
              0.7777777777777778,
              "#fb9f3a"
             ],
             [
              0.8888888888888888,
              "#fdca26"
             ],
             [
              1,
              "#f0f921"
             ]
            ],
            "type": "histogram2d"
           }
          ],
          "histogram2dcontour": [
           {
            "colorbar": {
             "outlinewidth": 0,
             "ticks": ""
            },
            "colorscale": [
             [
              0,
              "#0d0887"
             ],
             [
              0.1111111111111111,
              "#46039f"
             ],
             [
              0.2222222222222222,
              "#7201a8"
             ],
             [
              0.3333333333333333,
              "#9c179e"
             ],
             [
              0.4444444444444444,
              "#bd3786"
             ],
             [
              0.5555555555555556,
              "#d8576b"
             ],
             [
              0.6666666666666666,
              "#ed7953"
             ],
             [
              0.7777777777777778,
              "#fb9f3a"
             ],
             [
              0.8888888888888888,
              "#fdca26"
             ],
             [
              1,
              "#f0f921"
             ]
            ],
            "type": "histogram2dcontour"
           }
          ],
          "mesh3d": [
           {
            "colorbar": {
             "outlinewidth": 0,
             "ticks": ""
            },
            "type": "mesh3d"
           }
          ],
          "parcoords": [
           {
            "line": {
             "colorbar": {
              "outlinewidth": 0,
              "ticks": ""
             }
            },
            "type": "parcoords"
           }
          ],
          "pie": [
           {
            "automargin": true,
            "type": "pie"
           }
          ],
          "scatter": [
           {
            "fillpattern": {
             "fillmode": "overlay",
             "size": 10,
             "solidity": 0.2
            },
            "type": "scatter"
           }
          ],
          "scatter3d": [
           {
            "line": {
             "colorbar": {
              "outlinewidth": 0,
              "ticks": ""
             }
            },
            "marker": {
             "colorbar": {
              "outlinewidth": 0,
              "ticks": ""
             }
            },
            "type": "scatter3d"
           }
          ],
          "scattercarpet": [
           {
            "marker": {
             "colorbar": {
              "outlinewidth": 0,
              "ticks": ""
             }
            },
            "type": "scattercarpet"
           }
          ],
          "scattergeo": [
           {
            "marker": {
             "colorbar": {
              "outlinewidth": 0,
              "ticks": ""
             }
            },
            "type": "scattergeo"
           }
          ],
          "scattergl": [
           {
            "marker": {
             "colorbar": {
              "outlinewidth": 0,
              "ticks": ""
             }
            },
            "type": "scattergl"
           }
          ],
          "scattermapbox": [
           {
            "marker": {
             "colorbar": {
              "outlinewidth": 0,
              "ticks": ""
             }
            },
            "type": "scattermapbox"
           }
          ],
          "scatterpolar": [
           {
            "marker": {
             "colorbar": {
              "outlinewidth": 0,
              "ticks": ""
             }
            },
            "type": "scatterpolar"
           }
          ],
          "scatterpolargl": [
           {
            "marker": {
             "colorbar": {
              "outlinewidth": 0,
              "ticks": ""
             }
            },
            "type": "scatterpolargl"
           }
          ],
          "scatterternary": [
           {
            "marker": {
             "colorbar": {
              "outlinewidth": 0,
              "ticks": ""
             }
            },
            "type": "scatterternary"
           }
          ],
          "surface": [
           {
            "colorbar": {
             "outlinewidth": 0,
             "ticks": ""
            },
            "colorscale": [
             [
              0,
              "#0d0887"
             ],
             [
              0.1111111111111111,
              "#46039f"
             ],
             [
              0.2222222222222222,
              "#7201a8"
             ],
             [
              0.3333333333333333,
              "#9c179e"
             ],
             [
              0.4444444444444444,
              "#bd3786"
             ],
             [
              0.5555555555555556,
              "#d8576b"
             ],
             [
              0.6666666666666666,
              "#ed7953"
             ],
             [
              0.7777777777777778,
              "#fb9f3a"
             ],
             [
              0.8888888888888888,
              "#fdca26"
             ],
             [
              1,
              "#f0f921"
             ]
            ],
            "type": "surface"
           }
          ],
          "table": [
           {
            "cells": {
             "fill": {
              "color": "#EBF0F8"
             },
             "line": {
              "color": "white"
             }
            },
            "header": {
             "fill": {
              "color": "#C8D4E3"
             },
             "line": {
              "color": "white"
             }
            },
            "type": "table"
           }
          ]
         },
         "layout": {
          "annotationdefaults": {
           "arrowcolor": "#2a3f5f",
           "arrowhead": 0,
           "arrowwidth": 1
          },
          "autotypenumbers": "strict",
          "coloraxis": {
           "colorbar": {
            "outlinewidth": 0,
            "ticks": ""
           }
          },
          "colorscale": {
           "diverging": [
            [
             0,
             "#8e0152"
            ],
            [
             0.1,
             "#c51b7d"
            ],
            [
             0.2,
             "#de77ae"
            ],
            [
             0.3,
             "#f1b6da"
            ],
            [
             0.4,
             "#fde0ef"
            ],
            [
             0.5,
             "#f7f7f7"
            ],
            [
             0.6,
             "#e6f5d0"
            ],
            [
             0.7,
             "#b8e186"
            ],
            [
             0.8,
             "#7fbc41"
            ],
            [
             0.9,
             "#4d9221"
            ],
            [
             1,
             "#276419"
            ]
           ],
           "sequential": [
            [
             0,
             "#0d0887"
            ],
            [
             0.1111111111111111,
             "#46039f"
            ],
            [
             0.2222222222222222,
             "#7201a8"
            ],
            [
             0.3333333333333333,
             "#9c179e"
            ],
            [
             0.4444444444444444,
             "#bd3786"
            ],
            [
             0.5555555555555556,
             "#d8576b"
            ],
            [
             0.6666666666666666,
             "#ed7953"
            ],
            [
             0.7777777777777778,
             "#fb9f3a"
            ],
            [
             0.8888888888888888,
             "#fdca26"
            ],
            [
             1,
             "#f0f921"
            ]
           ],
           "sequentialminus": [
            [
             0,
             "#0d0887"
            ],
            [
             0.1111111111111111,
             "#46039f"
            ],
            [
             0.2222222222222222,
             "#7201a8"
            ],
            [
             0.3333333333333333,
             "#9c179e"
            ],
            [
             0.4444444444444444,
             "#bd3786"
            ],
            [
             0.5555555555555556,
             "#d8576b"
            ],
            [
             0.6666666666666666,
             "#ed7953"
            ],
            [
             0.7777777777777778,
             "#fb9f3a"
            ],
            [
             0.8888888888888888,
             "#fdca26"
            ],
            [
             1,
             "#f0f921"
            ]
           ]
          },
          "colorway": [
           "#636efa",
           "#EF553B",
           "#00cc96",
           "#ab63fa",
           "#FFA15A",
           "#19d3f3",
           "#FF6692",
           "#B6E880",
           "#FF97FF",
           "#FECB52"
          ],
          "font": {
           "color": "#2a3f5f"
          },
          "geo": {
           "bgcolor": "white",
           "lakecolor": "white",
           "landcolor": "#E5ECF6",
           "showlakes": true,
           "showland": true,
           "subunitcolor": "white"
          },
          "hoverlabel": {
           "align": "left"
          },
          "hovermode": "closest",
          "mapbox": {
           "style": "light"
          },
          "paper_bgcolor": "white",
          "plot_bgcolor": "#E5ECF6",
          "polar": {
           "angularaxis": {
            "gridcolor": "white",
            "linecolor": "white",
            "ticks": ""
           },
           "bgcolor": "#E5ECF6",
           "radialaxis": {
            "gridcolor": "white",
            "linecolor": "white",
            "ticks": ""
           }
          },
          "scene": {
           "xaxis": {
            "backgroundcolor": "#E5ECF6",
            "gridcolor": "white",
            "gridwidth": 2,
            "linecolor": "white",
            "showbackground": true,
            "ticks": "",
            "zerolinecolor": "white"
           },
           "yaxis": {
            "backgroundcolor": "#E5ECF6",
            "gridcolor": "white",
            "gridwidth": 2,
            "linecolor": "white",
            "showbackground": true,
            "ticks": "",
            "zerolinecolor": "white"
           },
           "zaxis": {
            "backgroundcolor": "#E5ECF6",
            "gridcolor": "white",
            "gridwidth": 2,
            "linecolor": "white",
            "showbackground": true,
            "ticks": "",
            "zerolinecolor": "white"
           }
          },
          "shapedefaults": {
           "line": {
            "color": "#2a3f5f"
           }
          },
          "ternary": {
           "aaxis": {
            "gridcolor": "white",
            "linecolor": "white",
            "ticks": ""
           },
           "baxis": {
            "gridcolor": "white",
            "linecolor": "white",
            "ticks": ""
           },
           "bgcolor": "#E5ECF6",
           "caxis": {
            "gridcolor": "white",
            "linecolor": "white",
            "ticks": ""
           }
          },
          "title": {
           "x": 0.05
          },
          "xaxis": {
           "automargin": true,
           "gridcolor": "white",
           "linecolor": "white",
           "ticks": "",
           "title": {
            "standoff": 15
           },
           "zerolinecolor": "white",
           "zerolinewidth": 2
          },
          "yaxis": {
           "automargin": true,
           "gridcolor": "white",
           "linecolor": "white",
           "ticks": "",
           "title": {
            "standoff": 15
           },
           "zerolinecolor": "white",
           "zerolinewidth": 2
          }
         }
        },
        "title": {
         "text": "Distributions of Backtest Return [%]"
        }
       }
      }
     },
     "metadata": {},
     "output_type": "display_data"
    },
    {
     "data": {
      "application/vnd.plotly.v1+json": {
       "config": {
        "plotlyServerURL": "https://plot.ly"
       },
       "data": [
        {
         "name": "Max. Drawdown [%]",
         "nbinsx": 20,
         "type": "histogram",
         "x": [
          -58.555118239165594,
          -41.19407028361635,
          -57.03555632196302,
          -51.70800535730295,
          -59.58738498101641,
          -38.29215086247587,
          -47.386208956550746,
          -43.877856582932765,
          -43.70968884968307,
          -40.5751817204861,
          -48.78185630229351,
          -35.17714707245908,
          -44.35540690358022,
          -36.28390408630109,
          -43.236372468023056,
          -38.406095960895236,
          -47.58498602038208,
          -38.692330292127885,
          -51.238808478783824,
          -61.26135160176347,
          -45.93458718396563,
          -39.38178647172962,
          -48.207837459180425,
          -44.76360819619972,
          -48.71704914086822,
          -50.56716225536271,
          -55.722540742267924,
          -58.20499153746306,
          -55.58167656663232,
          -55.822113114965234,
          -56.500620312737595,
          -37.59500931932027,
          -44.962452839321244,
          -45.432121075817,
          -46.80091907893602,
          -47.924176675609054,
          -45.22538268673103,
          -48.09243671062093,
          -35.727142230162166,
          -46.94896485173244,
          -60.394786558314586,
          -31.71690281232231,
          -67.07167961510461,
          -57.60465094362783,
          -44.85986303002538,
          -25.103455130581974,
          -35.40368497831792,
          -53.516212372054284,
          -61.628924188978516,
          -44.065766964325725,
          -43.81819941300683,
          -43.431502985530514,
          -54.592679196192485,
          -49.47333595339123,
          -38.80152912363351,
          -42.49049838178072,
          -35.5107246085029,
          -34.70521359230284,
          -57.02386647053114,
          -46.906301307613674,
          -45.112875893615765,
          -56.28245572985333,
          -49.1762279604402,
          -43.888539275540225,
          -48.685742449222026,
          -37.995706470306125,
          -50.52235235950007,
          -45.468645557223695,
          -32.320983206723696,
          -31.50948019804043,
          -47.63182801838871,
          -58.9195232924497,
          -32.11748939082143,
          -49.30670987655855,
          -45.50362895718325,
          -39.58014329057524,
          -52.00997407629575,
          -52.145720916416764,
          -58.65520150242107,
          -40.35513946484512,
          -43.70932044799943,
          -26.115415728885736,
          -76.51265943910353,
          -42.63459726634302,
          -42.46564727648834,
          -33.1257975258898,
          -59.3318959477372,
          -53.88257996749483,
          -38.56737451565366,
          -48.765658852026505,
          -45.48736803967922,
          -61.34407886328681,
          -57.32827689569015,
          -46.07486277348616,
          -49.03081170503383,
          -37.13312305129902,
          -48.786901651605554,
          -55.65747604802957,
          -54.79146556579104,
          -48.22291588252045
         ]
        }
       ],
       "layout": {
        "showlegend": false,
        "template": {
         "data": {
          "bar": [
           {
            "error_x": {
             "color": "#2a3f5f"
            },
            "error_y": {
             "color": "#2a3f5f"
            },
            "marker": {
             "line": {
              "color": "#E5ECF6",
              "width": 0.5
             },
             "pattern": {
              "fillmode": "overlay",
              "size": 10,
              "solidity": 0.2
             }
            },
            "type": "bar"
           }
          ],
          "barpolar": [
           {
            "marker": {
             "line": {
              "color": "#E5ECF6",
              "width": 0.5
             },
             "pattern": {
              "fillmode": "overlay",
              "size": 10,
              "solidity": 0.2
             }
            },
            "type": "barpolar"
           }
          ],
          "carpet": [
           {
            "aaxis": {
             "endlinecolor": "#2a3f5f",
             "gridcolor": "white",
             "linecolor": "white",
             "minorgridcolor": "white",
             "startlinecolor": "#2a3f5f"
            },
            "baxis": {
             "endlinecolor": "#2a3f5f",
             "gridcolor": "white",
             "linecolor": "white",
             "minorgridcolor": "white",
             "startlinecolor": "#2a3f5f"
            },
            "type": "carpet"
           }
          ],
          "choropleth": [
           {
            "colorbar": {
             "outlinewidth": 0,
             "ticks": ""
            },
            "type": "choropleth"
           }
          ],
          "contour": [
           {
            "colorbar": {
             "outlinewidth": 0,
             "ticks": ""
            },
            "colorscale": [
             [
              0,
              "#0d0887"
             ],
             [
              0.1111111111111111,
              "#46039f"
             ],
             [
              0.2222222222222222,
              "#7201a8"
             ],
             [
              0.3333333333333333,
              "#9c179e"
             ],
             [
              0.4444444444444444,
              "#bd3786"
             ],
             [
              0.5555555555555556,
              "#d8576b"
             ],
             [
              0.6666666666666666,
              "#ed7953"
             ],
             [
              0.7777777777777778,
              "#fb9f3a"
             ],
             [
              0.8888888888888888,
              "#fdca26"
             ],
             [
              1,
              "#f0f921"
             ]
            ],
            "type": "contour"
           }
          ],
          "contourcarpet": [
           {
            "colorbar": {
             "outlinewidth": 0,
             "ticks": ""
            },
            "type": "contourcarpet"
           }
          ],
          "heatmap": [
           {
            "colorbar": {
             "outlinewidth": 0,
             "ticks": ""
            },
            "colorscale": [
             [
              0,
              "#0d0887"
             ],
             [
              0.1111111111111111,
              "#46039f"
             ],
             [
              0.2222222222222222,
              "#7201a8"
             ],
             [
              0.3333333333333333,
              "#9c179e"
             ],
             [
              0.4444444444444444,
              "#bd3786"
             ],
             [
              0.5555555555555556,
              "#d8576b"
             ],
             [
              0.6666666666666666,
              "#ed7953"
             ],
             [
              0.7777777777777778,
              "#fb9f3a"
             ],
             [
              0.8888888888888888,
              "#fdca26"
             ],
             [
              1,
              "#f0f921"
             ]
            ],
            "type": "heatmap"
           }
          ],
          "heatmapgl": [
           {
            "colorbar": {
             "outlinewidth": 0,
             "ticks": ""
            },
            "colorscale": [
             [
              0,
              "#0d0887"
             ],
             [
              0.1111111111111111,
              "#46039f"
             ],
             [
              0.2222222222222222,
              "#7201a8"
             ],
             [
              0.3333333333333333,
              "#9c179e"
             ],
             [
              0.4444444444444444,
              "#bd3786"
             ],
             [
              0.5555555555555556,
              "#d8576b"
             ],
             [
              0.6666666666666666,
              "#ed7953"
             ],
             [
              0.7777777777777778,
              "#fb9f3a"
             ],
             [
              0.8888888888888888,
              "#fdca26"
             ],
             [
              1,
              "#f0f921"
             ]
            ],
            "type": "heatmapgl"
           }
          ],
          "histogram": [
           {
            "marker": {
             "pattern": {
              "fillmode": "overlay",
              "size": 10,
              "solidity": 0.2
             }
            },
            "type": "histogram"
           }
          ],
          "histogram2d": [
           {
            "colorbar": {
             "outlinewidth": 0,
             "ticks": ""
            },
            "colorscale": [
             [
              0,
              "#0d0887"
             ],
             [
              0.1111111111111111,
              "#46039f"
             ],
             [
              0.2222222222222222,
              "#7201a8"
             ],
             [
              0.3333333333333333,
              "#9c179e"
             ],
             [
              0.4444444444444444,
              "#bd3786"
             ],
             [
              0.5555555555555556,
              "#d8576b"
             ],
             [
              0.6666666666666666,
              "#ed7953"
             ],
             [
              0.7777777777777778,
              "#fb9f3a"
             ],
             [
              0.8888888888888888,
              "#fdca26"
             ],
             [
              1,
              "#f0f921"
             ]
            ],
            "type": "histogram2d"
           }
          ],
          "histogram2dcontour": [
           {
            "colorbar": {
             "outlinewidth": 0,
             "ticks": ""
            },
            "colorscale": [
             [
              0,
              "#0d0887"
             ],
             [
              0.1111111111111111,
              "#46039f"
             ],
             [
              0.2222222222222222,
              "#7201a8"
             ],
             [
              0.3333333333333333,
              "#9c179e"
             ],
             [
              0.4444444444444444,
              "#bd3786"
             ],
             [
              0.5555555555555556,
              "#d8576b"
             ],
             [
              0.6666666666666666,
              "#ed7953"
             ],
             [
              0.7777777777777778,
              "#fb9f3a"
             ],
             [
              0.8888888888888888,
              "#fdca26"
             ],
             [
              1,
              "#f0f921"
             ]
            ],
            "type": "histogram2dcontour"
           }
          ],
          "mesh3d": [
           {
            "colorbar": {
             "outlinewidth": 0,
             "ticks": ""
            },
            "type": "mesh3d"
           }
          ],
          "parcoords": [
           {
            "line": {
             "colorbar": {
              "outlinewidth": 0,
              "ticks": ""
             }
            },
            "type": "parcoords"
           }
          ],
          "pie": [
           {
            "automargin": true,
            "type": "pie"
           }
          ],
          "scatter": [
           {
            "fillpattern": {
             "fillmode": "overlay",
             "size": 10,
             "solidity": 0.2
            },
            "type": "scatter"
           }
          ],
          "scatter3d": [
           {
            "line": {
             "colorbar": {
              "outlinewidth": 0,
              "ticks": ""
             }
            },
            "marker": {
             "colorbar": {
              "outlinewidth": 0,
              "ticks": ""
             }
            },
            "type": "scatter3d"
           }
          ],
          "scattercarpet": [
           {
            "marker": {
             "colorbar": {
              "outlinewidth": 0,
              "ticks": ""
             }
            },
            "type": "scattercarpet"
           }
          ],
          "scattergeo": [
           {
            "marker": {
             "colorbar": {
              "outlinewidth": 0,
              "ticks": ""
             }
            },
            "type": "scattergeo"
           }
          ],
          "scattergl": [
           {
            "marker": {
             "colorbar": {
              "outlinewidth": 0,
              "ticks": ""
             }
            },
            "type": "scattergl"
           }
          ],
          "scattermapbox": [
           {
            "marker": {
             "colorbar": {
              "outlinewidth": 0,
              "ticks": ""
             }
            },
            "type": "scattermapbox"
           }
          ],
          "scatterpolar": [
           {
            "marker": {
             "colorbar": {
              "outlinewidth": 0,
              "ticks": ""
             }
            },
            "type": "scatterpolar"
           }
          ],
          "scatterpolargl": [
           {
            "marker": {
             "colorbar": {
              "outlinewidth": 0,
              "ticks": ""
             }
            },
            "type": "scatterpolargl"
           }
          ],
          "scatterternary": [
           {
            "marker": {
             "colorbar": {
              "outlinewidth": 0,
              "ticks": ""
             }
            },
            "type": "scatterternary"
           }
          ],
          "surface": [
           {
            "colorbar": {
             "outlinewidth": 0,
             "ticks": ""
            },
            "colorscale": [
             [
              0,
              "#0d0887"
             ],
             [
              0.1111111111111111,
              "#46039f"
             ],
             [
              0.2222222222222222,
              "#7201a8"
             ],
             [
              0.3333333333333333,
              "#9c179e"
             ],
             [
              0.4444444444444444,
              "#bd3786"
             ],
             [
              0.5555555555555556,
              "#d8576b"
             ],
             [
              0.6666666666666666,
              "#ed7953"
             ],
             [
              0.7777777777777778,
              "#fb9f3a"
             ],
             [
              0.8888888888888888,
              "#fdca26"
             ],
             [
              1,
              "#f0f921"
             ]
            ],
            "type": "surface"
           }
          ],
          "table": [
           {
            "cells": {
             "fill": {
              "color": "#EBF0F8"
             },
             "line": {
              "color": "white"
             }
            },
            "header": {
             "fill": {
              "color": "#C8D4E3"
             },
             "line": {
              "color": "white"
             }
            },
            "type": "table"
           }
          ]
         },
         "layout": {
          "annotationdefaults": {
           "arrowcolor": "#2a3f5f",
           "arrowhead": 0,
           "arrowwidth": 1
          },
          "autotypenumbers": "strict",
          "coloraxis": {
           "colorbar": {
            "outlinewidth": 0,
            "ticks": ""
           }
          },
          "colorscale": {
           "diverging": [
            [
             0,
             "#8e0152"
            ],
            [
             0.1,
             "#c51b7d"
            ],
            [
             0.2,
             "#de77ae"
            ],
            [
             0.3,
             "#f1b6da"
            ],
            [
             0.4,
             "#fde0ef"
            ],
            [
             0.5,
             "#f7f7f7"
            ],
            [
             0.6,
             "#e6f5d0"
            ],
            [
             0.7,
             "#b8e186"
            ],
            [
             0.8,
             "#7fbc41"
            ],
            [
             0.9,
             "#4d9221"
            ],
            [
             1,
             "#276419"
            ]
           ],
           "sequential": [
            [
             0,
             "#0d0887"
            ],
            [
             0.1111111111111111,
             "#46039f"
            ],
            [
             0.2222222222222222,
             "#7201a8"
            ],
            [
             0.3333333333333333,
             "#9c179e"
            ],
            [
             0.4444444444444444,
             "#bd3786"
            ],
            [
             0.5555555555555556,
             "#d8576b"
            ],
            [
             0.6666666666666666,
             "#ed7953"
            ],
            [
             0.7777777777777778,
             "#fb9f3a"
            ],
            [
             0.8888888888888888,
             "#fdca26"
            ],
            [
             1,
             "#f0f921"
            ]
           ],
           "sequentialminus": [
            [
             0,
             "#0d0887"
            ],
            [
             0.1111111111111111,
             "#46039f"
            ],
            [
             0.2222222222222222,
             "#7201a8"
            ],
            [
             0.3333333333333333,
             "#9c179e"
            ],
            [
             0.4444444444444444,
             "#bd3786"
            ],
            [
             0.5555555555555556,
             "#d8576b"
            ],
            [
             0.6666666666666666,
             "#ed7953"
            ],
            [
             0.7777777777777778,
             "#fb9f3a"
            ],
            [
             0.8888888888888888,
             "#fdca26"
            ],
            [
             1,
             "#f0f921"
            ]
           ]
          },
          "colorway": [
           "#636efa",
           "#EF553B",
           "#00cc96",
           "#ab63fa",
           "#FFA15A",
           "#19d3f3",
           "#FF6692",
           "#B6E880",
           "#FF97FF",
           "#FECB52"
          ],
          "font": {
           "color": "#2a3f5f"
          },
          "geo": {
           "bgcolor": "white",
           "lakecolor": "white",
           "landcolor": "#E5ECF6",
           "showlakes": true,
           "showland": true,
           "subunitcolor": "white"
          },
          "hoverlabel": {
           "align": "left"
          },
          "hovermode": "closest",
          "mapbox": {
           "style": "light"
          },
          "paper_bgcolor": "white",
          "plot_bgcolor": "#E5ECF6",
          "polar": {
           "angularaxis": {
            "gridcolor": "white",
            "linecolor": "white",
            "ticks": ""
           },
           "bgcolor": "#E5ECF6",
           "radialaxis": {
            "gridcolor": "white",
            "linecolor": "white",
            "ticks": ""
           }
          },
          "scene": {
           "xaxis": {
            "backgroundcolor": "#E5ECF6",
            "gridcolor": "white",
            "gridwidth": 2,
            "linecolor": "white",
            "showbackground": true,
            "ticks": "",
            "zerolinecolor": "white"
           },
           "yaxis": {
            "backgroundcolor": "#E5ECF6",
            "gridcolor": "white",
            "gridwidth": 2,
            "linecolor": "white",
            "showbackground": true,
            "ticks": "",
            "zerolinecolor": "white"
           },
           "zaxis": {
            "backgroundcolor": "#E5ECF6",
            "gridcolor": "white",
            "gridwidth": 2,
            "linecolor": "white",
            "showbackground": true,
            "ticks": "",
            "zerolinecolor": "white"
           }
          },
          "shapedefaults": {
           "line": {
            "color": "#2a3f5f"
           }
          },
          "ternary": {
           "aaxis": {
            "gridcolor": "white",
            "linecolor": "white",
            "ticks": ""
           },
           "baxis": {
            "gridcolor": "white",
            "linecolor": "white",
            "ticks": ""
           },
           "bgcolor": "#E5ECF6",
           "caxis": {
            "gridcolor": "white",
            "linecolor": "white",
            "ticks": ""
           }
          },
          "title": {
           "x": 0.05
          },
          "xaxis": {
           "automargin": true,
           "gridcolor": "white",
           "linecolor": "white",
           "ticks": "",
           "title": {
            "standoff": 15
           },
           "zerolinecolor": "white",
           "zerolinewidth": 2
          },
          "yaxis": {
           "automargin": true,
           "gridcolor": "white",
           "linecolor": "white",
           "ticks": "",
           "title": {
            "standoff": 15
           },
           "zerolinecolor": "white",
           "zerolinewidth": 2
          }
         }
        },
        "title": {
         "text": "Distributions of Backtest Max. Drawdown [%]"
        }
       }
      }
     },
     "metadata": {},
     "output_type": "display_data"
    },
    {
     "data": {
      "application/vnd.plotly.v1+json": {
       "config": {
        "plotlyServerURL": "https://plot.ly"
       },
       "data": [
        {
         "name": "Sharpe Ratio",
         "nbinsx": 20,
         "type": "histogram",
         "x": [
          0.008023554525886137,
          0.22670086736499515,
          0.010951386765747268,
          0,
          0.023817440197173224,
          0,
          0.09121015990164724,
          0,
          0.03279588281656252,
          0.012574978718329518,
          0.1304839751289778,
          0.16992371342770832,
          0.1556460521358742,
          0.08855745412316374,
          0.18564850787122641,
          0.0804809996411135,
          0.06524203679641331,
          0.1502802460243395,
          0.04391880601969838,
          0.011015569297333192,
          0.08414959176950201,
          0.14777762377080517,
          0.06598271292528175,
          0.05484328300344436,
          0,
          0,
          0,
          0.067976585102068,
          0,
          0.002081982302143496,
          0,
          0.13953824622438588,
          0.09496641457047755,
          0.2399415184889846,
          0,
          0.16805634218389873,
          0.08919452700633686,
          0,
          0.1615230323691444,
          0.07019334363782778,
          0.01236419324289398,
          0.25310909256864655,
          0,
          0,
          0,
          0.39516674373563976,
          0.11256721175995843,
          0.013374963888450345,
          0,
          0.036433789045578716,
          0,
          0.15517727316812682,
          0.012597658275214797,
          0,
          0,
          0.16714253149142816,
          0.08439623075998466,
          0,
          0.002991587811988346,
          0.009918049031198431,
          0,
          0,
          0,
          0.11070017295397462,
          0,
          0.1540526855861113,
          0.043704820622141954,
          0.23139618662610625,
          0.47775396804984577,
          0.09377789351235133,
          0.05996474309873807,
          0.017705940592075555,
          0.4660327107458513,
          0,
          0.07628364480594339,
          0.22995275056867082,
          0.0610241872637018,
          0.06384990361317555,
          0.037726992040545713,
          0,
          0.12527265154068318,
          0.17753310322556426,
          0,
          0,
          0.10255296336840732,
          0.29558172671355243,
          0.018970710404740833,
          0.02242967231849231,
          0,
          0,
          0.015074354294270209,
          0.025238279018513464,
          0.010073694431736276,
          0.13639873182974147,
          0.061950029505018454,
          0.1969221733561914,
          0,
          0,
          0.003458200536620214,
          0.05652851757565808
         ]
        }
       ],
       "layout": {
        "showlegend": false,
        "template": {
         "data": {
          "bar": [
           {
            "error_x": {
             "color": "#2a3f5f"
            },
            "error_y": {
             "color": "#2a3f5f"
            },
            "marker": {
             "line": {
              "color": "#E5ECF6",
              "width": 0.5
             },
             "pattern": {
              "fillmode": "overlay",
              "size": 10,
              "solidity": 0.2
             }
            },
            "type": "bar"
           }
          ],
          "barpolar": [
           {
            "marker": {
             "line": {
              "color": "#E5ECF6",
              "width": 0.5
             },
             "pattern": {
              "fillmode": "overlay",
              "size": 10,
              "solidity": 0.2
             }
            },
            "type": "barpolar"
           }
          ],
          "carpet": [
           {
            "aaxis": {
             "endlinecolor": "#2a3f5f",
             "gridcolor": "white",
             "linecolor": "white",
             "minorgridcolor": "white",
             "startlinecolor": "#2a3f5f"
            },
            "baxis": {
             "endlinecolor": "#2a3f5f",
             "gridcolor": "white",
             "linecolor": "white",
             "minorgridcolor": "white",
             "startlinecolor": "#2a3f5f"
            },
            "type": "carpet"
           }
          ],
          "choropleth": [
           {
            "colorbar": {
             "outlinewidth": 0,
             "ticks": ""
            },
            "type": "choropleth"
           }
          ],
          "contour": [
           {
            "colorbar": {
             "outlinewidth": 0,
             "ticks": ""
            },
            "colorscale": [
             [
              0,
              "#0d0887"
             ],
             [
              0.1111111111111111,
              "#46039f"
             ],
             [
              0.2222222222222222,
              "#7201a8"
             ],
             [
              0.3333333333333333,
              "#9c179e"
             ],
             [
              0.4444444444444444,
              "#bd3786"
             ],
             [
              0.5555555555555556,
              "#d8576b"
             ],
             [
              0.6666666666666666,
              "#ed7953"
             ],
             [
              0.7777777777777778,
              "#fb9f3a"
             ],
             [
              0.8888888888888888,
              "#fdca26"
             ],
             [
              1,
              "#f0f921"
             ]
            ],
            "type": "contour"
           }
          ],
          "contourcarpet": [
           {
            "colorbar": {
             "outlinewidth": 0,
             "ticks": ""
            },
            "type": "contourcarpet"
           }
          ],
          "heatmap": [
           {
            "colorbar": {
             "outlinewidth": 0,
             "ticks": ""
            },
            "colorscale": [
             [
              0,
              "#0d0887"
             ],
             [
              0.1111111111111111,
              "#46039f"
             ],
             [
              0.2222222222222222,
              "#7201a8"
             ],
             [
              0.3333333333333333,
              "#9c179e"
             ],
             [
              0.4444444444444444,
              "#bd3786"
             ],
             [
              0.5555555555555556,
              "#d8576b"
             ],
             [
              0.6666666666666666,
              "#ed7953"
             ],
             [
              0.7777777777777778,
              "#fb9f3a"
             ],
             [
              0.8888888888888888,
              "#fdca26"
             ],
             [
              1,
              "#f0f921"
             ]
            ],
            "type": "heatmap"
           }
          ],
          "heatmapgl": [
           {
            "colorbar": {
             "outlinewidth": 0,
             "ticks": ""
            },
            "colorscale": [
             [
              0,
              "#0d0887"
             ],
             [
              0.1111111111111111,
              "#46039f"
             ],
             [
              0.2222222222222222,
              "#7201a8"
             ],
             [
              0.3333333333333333,
              "#9c179e"
             ],
             [
              0.4444444444444444,
              "#bd3786"
             ],
             [
              0.5555555555555556,
              "#d8576b"
             ],
             [
              0.6666666666666666,
              "#ed7953"
             ],
             [
              0.7777777777777778,
              "#fb9f3a"
             ],
             [
              0.8888888888888888,
              "#fdca26"
             ],
             [
              1,
              "#f0f921"
             ]
            ],
            "type": "heatmapgl"
           }
          ],
          "histogram": [
           {
            "marker": {
             "pattern": {
              "fillmode": "overlay",
              "size": 10,
              "solidity": 0.2
             }
            },
            "type": "histogram"
           }
          ],
          "histogram2d": [
           {
            "colorbar": {
             "outlinewidth": 0,
             "ticks": ""
            },
            "colorscale": [
             [
              0,
              "#0d0887"
             ],
             [
              0.1111111111111111,
              "#46039f"
             ],
             [
              0.2222222222222222,
              "#7201a8"
             ],
             [
              0.3333333333333333,
              "#9c179e"
             ],
             [
              0.4444444444444444,
              "#bd3786"
             ],
             [
              0.5555555555555556,
              "#d8576b"
             ],
             [
              0.6666666666666666,
              "#ed7953"
             ],
             [
              0.7777777777777778,
              "#fb9f3a"
             ],
             [
              0.8888888888888888,
              "#fdca26"
             ],
             [
              1,
              "#f0f921"
             ]
            ],
            "type": "histogram2d"
           }
          ],
          "histogram2dcontour": [
           {
            "colorbar": {
             "outlinewidth": 0,
             "ticks": ""
            },
            "colorscale": [
             [
              0,
              "#0d0887"
             ],
             [
              0.1111111111111111,
              "#46039f"
             ],
             [
              0.2222222222222222,
              "#7201a8"
             ],
             [
              0.3333333333333333,
              "#9c179e"
             ],
             [
              0.4444444444444444,
              "#bd3786"
             ],
             [
              0.5555555555555556,
              "#d8576b"
             ],
             [
              0.6666666666666666,
              "#ed7953"
             ],
             [
              0.7777777777777778,
              "#fb9f3a"
             ],
             [
              0.8888888888888888,
              "#fdca26"
             ],
             [
              1,
              "#f0f921"
             ]
            ],
            "type": "histogram2dcontour"
           }
          ],
          "mesh3d": [
           {
            "colorbar": {
             "outlinewidth": 0,
             "ticks": ""
            },
            "type": "mesh3d"
           }
          ],
          "parcoords": [
           {
            "line": {
             "colorbar": {
              "outlinewidth": 0,
              "ticks": ""
             }
            },
            "type": "parcoords"
           }
          ],
          "pie": [
           {
            "automargin": true,
            "type": "pie"
           }
          ],
          "scatter": [
           {
            "fillpattern": {
             "fillmode": "overlay",
             "size": 10,
             "solidity": 0.2
            },
            "type": "scatter"
           }
          ],
          "scatter3d": [
           {
            "line": {
             "colorbar": {
              "outlinewidth": 0,
              "ticks": ""
             }
            },
            "marker": {
             "colorbar": {
              "outlinewidth": 0,
              "ticks": ""
             }
            },
            "type": "scatter3d"
           }
          ],
          "scattercarpet": [
           {
            "marker": {
             "colorbar": {
              "outlinewidth": 0,
              "ticks": ""
             }
            },
            "type": "scattercarpet"
           }
          ],
          "scattergeo": [
           {
            "marker": {
             "colorbar": {
              "outlinewidth": 0,
              "ticks": ""
             }
            },
            "type": "scattergeo"
           }
          ],
          "scattergl": [
           {
            "marker": {
             "colorbar": {
              "outlinewidth": 0,
              "ticks": ""
             }
            },
            "type": "scattergl"
           }
          ],
          "scattermapbox": [
           {
            "marker": {
             "colorbar": {
              "outlinewidth": 0,
              "ticks": ""
             }
            },
            "type": "scattermapbox"
           }
          ],
          "scatterpolar": [
           {
            "marker": {
             "colorbar": {
              "outlinewidth": 0,
              "ticks": ""
             }
            },
            "type": "scatterpolar"
           }
          ],
          "scatterpolargl": [
           {
            "marker": {
             "colorbar": {
              "outlinewidth": 0,
              "ticks": ""
             }
            },
            "type": "scatterpolargl"
           }
          ],
          "scatterternary": [
           {
            "marker": {
             "colorbar": {
              "outlinewidth": 0,
              "ticks": ""
             }
            },
            "type": "scatterternary"
           }
          ],
          "surface": [
           {
            "colorbar": {
             "outlinewidth": 0,
             "ticks": ""
            },
            "colorscale": [
             [
              0,
              "#0d0887"
             ],
             [
              0.1111111111111111,
              "#46039f"
             ],
             [
              0.2222222222222222,
              "#7201a8"
             ],
             [
              0.3333333333333333,
              "#9c179e"
             ],
             [
              0.4444444444444444,
              "#bd3786"
             ],
             [
              0.5555555555555556,
              "#d8576b"
             ],
             [
              0.6666666666666666,
              "#ed7953"
             ],
             [
              0.7777777777777778,
              "#fb9f3a"
             ],
             [
              0.8888888888888888,
              "#fdca26"
             ],
             [
              1,
              "#f0f921"
             ]
            ],
            "type": "surface"
           }
          ],
          "table": [
           {
            "cells": {
             "fill": {
              "color": "#EBF0F8"
             },
             "line": {
              "color": "white"
             }
            },
            "header": {
             "fill": {
              "color": "#C8D4E3"
             },
             "line": {
              "color": "white"
             }
            },
            "type": "table"
           }
          ]
         },
         "layout": {
          "annotationdefaults": {
           "arrowcolor": "#2a3f5f",
           "arrowhead": 0,
           "arrowwidth": 1
          },
          "autotypenumbers": "strict",
          "coloraxis": {
           "colorbar": {
            "outlinewidth": 0,
            "ticks": ""
           }
          },
          "colorscale": {
           "diverging": [
            [
             0,
             "#8e0152"
            ],
            [
             0.1,
             "#c51b7d"
            ],
            [
             0.2,
             "#de77ae"
            ],
            [
             0.3,
             "#f1b6da"
            ],
            [
             0.4,
             "#fde0ef"
            ],
            [
             0.5,
             "#f7f7f7"
            ],
            [
             0.6,
             "#e6f5d0"
            ],
            [
             0.7,
             "#b8e186"
            ],
            [
             0.8,
             "#7fbc41"
            ],
            [
             0.9,
             "#4d9221"
            ],
            [
             1,
             "#276419"
            ]
           ],
           "sequential": [
            [
             0,
             "#0d0887"
            ],
            [
             0.1111111111111111,
             "#46039f"
            ],
            [
             0.2222222222222222,
             "#7201a8"
            ],
            [
             0.3333333333333333,
             "#9c179e"
            ],
            [
             0.4444444444444444,
             "#bd3786"
            ],
            [
             0.5555555555555556,
             "#d8576b"
            ],
            [
             0.6666666666666666,
             "#ed7953"
            ],
            [
             0.7777777777777778,
             "#fb9f3a"
            ],
            [
             0.8888888888888888,
             "#fdca26"
            ],
            [
             1,
             "#f0f921"
            ]
           ],
           "sequentialminus": [
            [
             0,
             "#0d0887"
            ],
            [
             0.1111111111111111,
             "#46039f"
            ],
            [
             0.2222222222222222,
             "#7201a8"
            ],
            [
             0.3333333333333333,
             "#9c179e"
            ],
            [
             0.4444444444444444,
             "#bd3786"
            ],
            [
             0.5555555555555556,
             "#d8576b"
            ],
            [
             0.6666666666666666,
             "#ed7953"
            ],
            [
             0.7777777777777778,
             "#fb9f3a"
            ],
            [
             0.8888888888888888,
             "#fdca26"
            ],
            [
             1,
             "#f0f921"
            ]
           ]
          },
          "colorway": [
           "#636efa",
           "#EF553B",
           "#00cc96",
           "#ab63fa",
           "#FFA15A",
           "#19d3f3",
           "#FF6692",
           "#B6E880",
           "#FF97FF",
           "#FECB52"
          ],
          "font": {
           "color": "#2a3f5f"
          },
          "geo": {
           "bgcolor": "white",
           "lakecolor": "white",
           "landcolor": "#E5ECF6",
           "showlakes": true,
           "showland": true,
           "subunitcolor": "white"
          },
          "hoverlabel": {
           "align": "left"
          },
          "hovermode": "closest",
          "mapbox": {
           "style": "light"
          },
          "paper_bgcolor": "white",
          "plot_bgcolor": "#E5ECF6",
          "polar": {
           "angularaxis": {
            "gridcolor": "white",
            "linecolor": "white",
            "ticks": ""
           },
           "bgcolor": "#E5ECF6",
           "radialaxis": {
            "gridcolor": "white",
            "linecolor": "white",
            "ticks": ""
           }
          },
          "scene": {
           "xaxis": {
            "backgroundcolor": "#E5ECF6",
            "gridcolor": "white",
            "gridwidth": 2,
            "linecolor": "white",
            "showbackground": true,
            "ticks": "",
            "zerolinecolor": "white"
           },
           "yaxis": {
            "backgroundcolor": "#E5ECF6",
            "gridcolor": "white",
            "gridwidth": 2,
            "linecolor": "white",
            "showbackground": true,
            "ticks": "",
            "zerolinecolor": "white"
           },
           "zaxis": {
            "backgroundcolor": "#E5ECF6",
            "gridcolor": "white",
            "gridwidth": 2,
            "linecolor": "white",
            "showbackground": true,
            "ticks": "",
            "zerolinecolor": "white"
           }
          },
          "shapedefaults": {
           "line": {
            "color": "#2a3f5f"
           }
          },
          "ternary": {
           "aaxis": {
            "gridcolor": "white",
            "linecolor": "white",
            "ticks": ""
           },
           "baxis": {
            "gridcolor": "white",
            "linecolor": "white",
            "ticks": ""
           },
           "bgcolor": "#E5ECF6",
           "caxis": {
            "gridcolor": "white",
            "linecolor": "white",
            "ticks": ""
           }
          },
          "title": {
           "x": 0.05
          },
          "xaxis": {
           "automargin": true,
           "gridcolor": "white",
           "linecolor": "white",
           "ticks": "",
           "title": {
            "standoff": 15
           },
           "zerolinecolor": "white",
           "zerolinewidth": 2
          },
          "yaxis": {
           "automargin": true,
           "gridcolor": "white",
           "linecolor": "white",
           "ticks": "",
           "title": {
            "standoff": 15
           },
           "zerolinecolor": "white",
           "zerolinewidth": 2
          }
         }
        },
        "title": {
         "text": "Distributions of Backtest Sharpe Ratio"
        }
       }
      }
     },
     "metadata": {},
     "output_type": "display_data"
    }
   ],
   "source": [
    "for i, stat in enumerate(stats_list):\n",
    "        data = [stat_item[stat] for stat_item in all_stats]\n",
    "        fig = go.Figure()\n",
    "        fig.add_trace(go.Histogram(x=data,  nbinsx=20, name=stat))\n",
    "    \n",
    "        fig.update_layout(showlegend=False, title_text=f\"Distributions of Backtest {stat}\")\n",
    "        fig.show()"
   ]
  },
  {
   "cell_type": "markdown",
   "metadata": {},
   "source": [
    "### Random Walk https://ru.wikipedia.org/wiki/%D0%A1%D0%BB%D1%83%D1%87%D0%B0%D0%B9%D0%BD%D0%BE%D0%B5_%D0%B1%D0%BB%D1%83%D0%B6%D0%B4%D0%B0%D0%BD%D0%B8%D0%B5"
   ]
  },
  {
   "cell_type": "code",
   "execution_count": 12,
   "metadata": {},
   "outputs": [
    {
     "data": {
      "application/vnd.plotly.v1+json": {
       "config": {
        "plotlyServerURL": "https://plot.ly"
       },
       "data": [
        {
         "line": {
          "color": "red"
         },
         "mode": "lines",
         "name": "Original Close",
         "type": "scatter",
         "x": [
          "2024-04-08T00:00:00",
          "2024-04-09T00:00:00",
          "2024-04-10T00:00:00",
          "2024-04-11T00:00:00",
          "2024-04-12T00:00:00",
          "2024-04-13T00:00:00",
          "2024-04-14T00:00:00",
          "2024-04-15T00:00:00",
          "2024-04-16T00:00:00",
          "2024-04-17T00:00:00",
          "2024-04-18T00:00:00",
          "2024-04-19T00:00:00",
          "2024-04-20T00:00:00",
          "2024-04-21T00:00:00",
          "2024-04-22T00:00:00",
          "2024-04-23T00:00:00",
          "2024-04-24T00:00:00",
          "2024-04-25T00:00:00",
          "2024-04-26T00:00:00",
          "2024-04-27T00:00:00",
          "2024-04-28T00:00:00",
          "2024-04-29T00:00:00",
          "2024-04-30T00:00:00",
          "2024-05-01T00:00:00",
          "2024-05-02T00:00:00",
          "2024-05-03T00:00:00",
          "2024-05-04T00:00:00",
          "2024-05-05T00:00:00",
          "2024-05-06T00:00:00",
          "2024-05-07T00:00:00",
          "2024-05-08T00:00:00",
          "2024-05-09T00:00:00",
          "2024-05-10T00:00:00",
          "2024-05-11T00:00:00",
          "2024-05-12T00:00:00",
          "2024-05-13T00:00:00",
          "2024-05-14T00:00:00",
          "2024-05-15T00:00:00",
          "2024-05-16T00:00:00",
          "2024-05-17T00:00:00",
          "2024-05-18T00:00:00",
          "2024-05-19T00:00:00",
          "2024-05-20T00:00:00",
          "2024-05-21T00:00:00",
          "2024-05-22T00:00:00",
          "2024-05-23T00:00:00",
          "2024-05-24T00:00:00",
          "2024-05-25T00:00:00",
          "2024-05-26T00:00:00",
          "2024-05-27T00:00:00",
          "2024-05-28T00:00:00",
          "2024-05-29T00:00:00",
          "2024-05-30T00:00:00",
          "2024-05-31T00:00:00",
          "2024-06-01T00:00:00",
          "2024-06-02T00:00:00",
          "2024-06-03T00:00:00",
          "2024-06-04T00:00:00",
          "2024-06-05T00:00:00",
          "2024-06-06T00:00:00",
          "2024-06-07T00:00:00",
          "2024-06-08T00:00:00",
          "2024-06-09T00:00:00",
          "2024-06-10T00:00:00",
          "2024-06-11T00:00:00",
          "2024-06-12T00:00:00",
          "2024-06-13T00:00:00",
          "2024-06-14T00:00:00",
          "2024-06-15T00:00:00",
          "2024-06-16T00:00:00",
          "2024-06-17T00:00:00",
          "2024-06-18T00:00:00",
          "2024-06-19T00:00:00",
          "2024-06-20T00:00:00",
          "2024-06-21T00:00:00",
          "2024-06-22T00:00:00",
          "2024-06-23T00:00:00",
          "2024-06-24T00:00:00",
          "2024-06-25T00:00:00",
          "2024-06-26T00:00:00",
          "2024-06-27T00:00:00",
          "2024-06-28T00:00:00",
          "2024-06-29T00:00:00",
          "2024-06-30T00:00:00",
          "2024-07-01T00:00:00",
          "2024-07-02T00:00:00",
          "2024-07-03T00:00:00",
          "2024-07-04T00:00:00",
          "2024-07-05T00:00:00",
          "2024-07-06T00:00:00",
          "2024-07-07T00:00:00",
          "2024-07-08T00:00:00",
          "2024-07-09T00:00:00",
          "2024-07-10T00:00:00",
          "2024-07-11T00:00:00",
          "2024-07-12T00:00:00",
          "2024-07-13T00:00:00",
          "2024-07-14T00:00:00",
          "2024-07-15T00:00:00",
          "2024-07-16T00:00:00",
          "2024-07-17T00:00:00",
          "2024-07-18T00:00:00",
          "2024-07-19T00:00:00",
          "2024-07-20T00:00:00",
          "2024-07-21T00:00:00",
          "2024-07-22T00:00:00",
          "2024-07-23T00:00:00",
          "2024-07-24T00:00:00",
          "2024-07-25T00:00:00",
          "2024-07-26T00:00:00",
          "2024-07-27T00:00:00",
          "2024-07-28T00:00:00",
          "2024-07-29T00:00:00",
          "2024-07-30T00:00:00",
          "2024-07-31T00:00:00",
          "2024-08-01T00:00:00"
         ],
         "y": [
          71631.359375,
          69139.015625,
          70587.8828125,
          70060.609375,
          67195.8671875,
          63821.47265625,
          65738.7265625,
          63426.2109375,
          63811.86328125,
          61276.69140625,
          63512.75390625,
          63843.5703125,
          64994.44140625,
          64926.64453125,
          66837.6796875,
          66407.2734375,
          64276.8984375,
          64481.70703125,
          63755.3203125,
          63419.140625,
          63113.23046875,
          63841.12109375,
          60636.85546875,
          58254.01171875,
          59123.43359375,
          62889.8359375,
          63891.47265625,
          64031.1328125,
          63161.94921875,
          62334.81640625,
          61187.94140625,
          63049.9609375,
          60792.77734375,
          60793.7109375,
          61448.39453125,
          62901.44921875,
          61552.7890625,
          66267.4921875,
          65231.58203125,
          67051.875,
          66940.8046875,
          66278.3671875,
          71448.1953125,
          70136.53125,
          69122.3359375,
          67929.5625,
          68526.1015625,
          69265.9453125,
          68518.09375,
          69394.5546875,
          68296.21875,
          67578.09375,
          68364.9921875,
          67491.4140625,
          67706.9375,
          67751.6015625,
          68804.78125,
          70567.765625,
          71082.8203125,
          70757.1640625,
          69342.5859375,
          69305.7734375,
          69647.9921875,
          69512.28125,
          67332.03125,
          68241.1875,
          66756.3984375,
          66011.09375,
          66191,
          66639.046875,
          66490.296875,
          65140.74609375,
          64960.296875,
          64828.65625,
          64096.19921875,
          64252.578125,
          63180.796875,
          60277.4140625,
          61804.640625,
          60811.27734375,
          61604.80078125,
          60320.13671875,
          60887.37890625,
          62678.29296875,
          62851.98046875,
          62029.015625,
          60173.921875,
          56977.703125,
          56662.375,
          58303.5390625,
          55849.109375,
          56705.09765625,
          58009.2265625,
          57742.49609375,
          57344.9140625,
          57899.46484375,
          59231.953125,
          60787.79296875,
          64870.15234375,
          65097.1484375,
          64118.79296875,
          63974.06640625,
          66710.15625,
          67163.6484375,
          68154.5234375,
          67585.25,
          65927.671875,
          65372.1328125,
          65777.2265625,
          67912.0625,
          67813.3359375,
          68255.8671875,
          66819.9140625,
          66201.015625,
          64619.25,
          65357.5
         ]
        },
        {
         "line": {
          "color": "blue",
          "width": 1
         },
         "mode": "lines",
         "name": "Scenario 1",
         "type": "scatter",
         "x": [
          "2024-04-08T00:00:00",
          "2024-04-09T00:00:00",
          "2024-04-10T00:00:00",
          "2024-04-11T00:00:00",
          "2024-04-12T00:00:00",
          "2024-04-13T00:00:00",
          "2024-04-14T00:00:00",
          "2024-04-15T00:00:00",
          "2024-04-16T00:00:00",
          "2024-04-17T00:00:00",
          "2024-04-18T00:00:00",
          "2024-04-19T00:00:00",
          "2024-04-20T00:00:00",
          "2024-04-21T00:00:00",
          "2024-04-22T00:00:00",
          "2024-04-23T00:00:00",
          "2024-04-24T00:00:00",
          "2024-04-25T00:00:00",
          "2024-04-26T00:00:00",
          "2024-04-27T00:00:00",
          "2024-04-28T00:00:00",
          "2024-04-29T00:00:00",
          "2024-04-30T00:00:00",
          "2024-05-01T00:00:00",
          "2024-05-02T00:00:00",
          "2024-05-03T00:00:00",
          "2024-05-04T00:00:00",
          "2024-05-05T00:00:00",
          "2024-05-06T00:00:00",
          "2024-05-07T00:00:00",
          "2024-05-08T00:00:00",
          "2024-05-09T00:00:00",
          "2024-05-10T00:00:00",
          "2024-05-11T00:00:00",
          "2024-05-12T00:00:00",
          "2024-05-13T00:00:00",
          "2024-05-14T00:00:00",
          "2024-05-15T00:00:00",
          "2024-05-16T00:00:00",
          "2024-05-17T00:00:00",
          "2024-05-18T00:00:00",
          "2024-05-19T00:00:00",
          "2024-05-20T00:00:00",
          "2024-05-21T00:00:00",
          "2024-05-22T00:00:00",
          "2024-05-23T00:00:00",
          "2024-05-24T00:00:00",
          "2024-05-25T00:00:00",
          "2024-05-26T00:00:00",
          "2024-05-27T00:00:00",
          "2024-05-28T00:00:00",
          "2024-05-29T00:00:00",
          "2024-05-30T00:00:00",
          "2024-05-31T00:00:00",
          "2024-06-01T00:00:00",
          "2024-06-02T00:00:00",
          "2024-06-03T00:00:00",
          "2024-06-04T00:00:00",
          "2024-06-05T00:00:00",
          "2024-06-06T00:00:00",
          "2024-06-07T00:00:00",
          "2024-06-08T00:00:00",
          "2024-06-09T00:00:00",
          "2024-06-10T00:00:00",
          "2024-06-11T00:00:00",
          "2024-06-12T00:00:00",
          "2024-06-13T00:00:00",
          "2024-06-14T00:00:00",
          "2024-06-15T00:00:00",
          "2024-06-16T00:00:00",
          "2024-06-17T00:00:00",
          "2024-06-18T00:00:00",
          "2024-06-19T00:00:00",
          "2024-06-20T00:00:00",
          "2024-06-21T00:00:00",
          "2024-06-22T00:00:00",
          "2024-06-23T00:00:00",
          "2024-06-24T00:00:00",
          "2024-06-25T00:00:00",
          "2024-06-26T00:00:00",
          "2024-06-27T00:00:00",
          "2024-06-28T00:00:00",
          "2024-06-29T00:00:00",
          "2024-06-30T00:00:00",
          "2024-07-01T00:00:00",
          "2024-07-02T00:00:00",
          "2024-07-03T00:00:00",
          "2024-07-04T00:00:00",
          "2024-07-05T00:00:00",
          "2024-07-06T00:00:00",
          "2024-07-07T00:00:00",
          "2024-07-08T00:00:00",
          "2024-07-09T00:00:00",
          "2024-07-10T00:00:00",
          "2024-07-11T00:00:00",
          "2024-07-12T00:00:00",
          "2024-07-13T00:00:00",
          "2024-07-14T00:00:00",
          "2024-07-15T00:00:00",
          "2024-07-16T00:00:00",
          "2024-07-17T00:00:00",
          "2024-07-18T00:00:00",
          "2024-07-19T00:00:00",
          "2024-07-20T00:00:00",
          "2024-07-21T00:00:00",
          "2024-07-22T00:00:00",
          "2024-07-23T00:00:00",
          "2024-07-24T00:00:00",
          "2024-07-25T00:00:00",
          "2024-07-26T00:00:00",
          "2024-07-27T00:00:00",
          "2024-07-28T00:00:00",
          "2024-07-29T00:00:00",
          "2024-07-30T00:00:00",
          "2024-07-31T00:00:00",
          "2024-08-01T00:00:00"
         ],
         "y": [
          65098.9615630677,
          64191.94907828233,
          65003.25852025717,
          65221.595735384646,
          65356.28790261621,
          66772.89240159164,
          68345.36868570776,
          70062.68219025861,
          71376.46271671473,
          70695.3053789702,
          72108.85936484904,
          71906.78269369097,
          73267.6384465497,
          73182.5340189396,
          74804.9384066434,
          76403.20911298277,
          76538.69602113176,
          75393.78379042106,
          75349.47875727927,
          77524.67495313534,
          80471.79845834055,
          81264.1309408647,
          81083.90775436694,
          81067.98121560695,
          81640.12034778202,
          81949.0500931357,
          83881.71180749372,
          83813.84736837671,
          84847.58384919874,
          85635.25268066152,
          85008.30885044344,
          85503.13526101808,
          84749.68250434723,
          84804.35262599104,
          82179.36096140715,
          80536.2915433837,
          79994.35158109393,
          81691.21974040518,
          83844.19337078519,
          83658.55473396555,
          81721.93240216366,
          83646.77175043296,
          83613.7438656156,
          85211.97072514734,
          86993.0577955243,
          88803.01587518529,
          87748.77997444068,
          87750.4297360626,
          89729.36382683244,
          88529.86823471614,
          90279.1520321848,
          90674.19687320136,
          91341.21049973565,
          92100.93851897371,
          94398.81969389874,
          93856.9358039548,
          94176.72497424549,
          96509.35870744924,
          97200.39657956855,
          94906.55516266555,
          93743.03287885206,
          94627.98441228057,
          92728.59121763721,
          93195.13446633556,
          93467.25754303453,
          94289.47363263604,
          94379.97700772872,
          94672.34507975425,
          95970.61159776172,
          96686.49721659618,
          97303.77262083972,
          95021.95016744258,
          94515.81763684304,
          95541.62725286474,
          94582.9194933854,
          94912.74240150543,
          94128.60706346671,
          95335.54107267897,
          94363.72433949259,
          93778.98847055416,
          93179.51300224668,
          93068.24148574178,
          93303.21649307646,
          94836.30491851791,
          96308.9172576014,
          95107.44294586356,
          93550.50379604922,
          92609.384126877,
          90897.24189034663,
          91207.14184137217,
          90817.04008082031,
          91473.59370640304,
          90928.40211490008,
          89985.99638119698,
          90372.4922263337,
          89069.31689543594,
          91006.35024134722,
          90566.61195175129,
          90289.11173269042,
          89539.79840744425,
          90042.83885946262,
          90113.29924889164,
          89979.46616454505,
          89770.1350072397,
          91072.45926622987,
          92906.33229652818,
          93696.59214568202,
          94152.73641245601,
          95863.23539137104,
          95964.57443013949,
          96069.67402833898,
          94787.71744286072,
          95872.31074845386,
          95747.76162700632,
          95488.30038414265,
          96597.42911308841
         ]
        },
        {
         "line": {
          "color": "blue",
          "width": 1
         },
         "mode": "lines",
         "name": "Scenario 2",
         "type": "scatter",
         "x": [
          "2024-04-08T00:00:00",
          "2024-04-09T00:00:00",
          "2024-04-10T00:00:00",
          "2024-04-11T00:00:00",
          "2024-04-12T00:00:00",
          "2024-04-13T00:00:00",
          "2024-04-14T00:00:00",
          "2024-04-15T00:00:00",
          "2024-04-16T00:00:00",
          "2024-04-17T00:00:00",
          "2024-04-18T00:00:00",
          "2024-04-19T00:00:00",
          "2024-04-20T00:00:00",
          "2024-04-21T00:00:00",
          "2024-04-22T00:00:00",
          "2024-04-23T00:00:00",
          "2024-04-24T00:00:00",
          "2024-04-25T00:00:00",
          "2024-04-26T00:00:00",
          "2024-04-27T00:00:00",
          "2024-04-28T00:00:00",
          "2024-04-29T00:00:00",
          "2024-04-30T00:00:00",
          "2024-05-01T00:00:00",
          "2024-05-02T00:00:00",
          "2024-05-03T00:00:00",
          "2024-05-04T00:00:00",
          "2024-05-05T00:00:00",
          "2024-05-06T00:00:00",
          "2024-05-07T00:00:00",
          "2024-05-08T00:00:00",
          "2024-05-09T00:00:00",
          "2024-05-10T00:00:00",
          "2024-05-11T00:00:00",
          "2024-05-12T00:00:00",
          "2024-05-13T00:00:00",
          "2024-05-14T00:00:00",
          "2024-05-15T00:00:00",
          "2024-05-16T00:00:00",
          "2024-05-17T00:00:00",
          "2024-05-18T00:00:00",
          "2024-05-19T00:00:00",
          "2024-05-20T00:00:00",
          "2024-05-21T00:00:00",
          "2024-05-22T00:00:00",
          "2024-05-23T00:00:00",
          "2024-05-24T00:00:00",
          "2024-05-25T00:00:00",
          "2024-05-26T00:00:00",
          "2024-05-27T00:00:00",
          "2024-05-28T00:00:00",
          "2024-05-29T00:00:00",
          "2024-05-30T00:00:00",
          "2024-05-31T00:00:00",
          "2024-06-01T00:00:00",
          "2024-06-02T00:00:00",
          "2024-06-03T00:00:00",
          "2024-06-04T00:00:00",
          "2024-06-05T00:00:00",
          "2024-06-06T00:00:00",
          "2024-06-07T00:00:00",
          "2024-06-08T00:00:00",
          "2024-06-09T00:00:00",
          "2024-06-10T00:00:00",
          "2024-06-11T00:00:00",
          "2024-06-12T00:00:00",
          "2024-06-13T00:00:00",
          "2024-06-14T00:00:00",
          "2024-06-15T00:00:00",
          "2024-06-16T00:00:00",
          "2024-06-17T00:00:00",
          "2024-06-18T00:00:00",
          "2024-06-19T00:00:00",
          "2024-06-20T00:00:00",
          "2024-06-21T00:00:00",
          "2024-06-22T00:00:00",
          "2024-06-23T00:00:00",
          "2024-06-24T00:00:00",
          "2024-06-25T00:00:00",
          "2024-06-26T00:00:00",
          "2024-06-27T00:00:00",
          "2024-06-28T00:00:00",
          "2024-06-29T00:00:00",
          "2024-06-30T00:00:00",
          "2024-07-01T00:00:00",
          "2024-07-02T00:00:00",
          "2024-07-03T00:00:00",
          "2024-07-04T00:00:00",
          "2024-07-05T00:00:00",
          "2024-07-06T00:00:00",
          "2024-07-07T00:00:00",
          "2024-07-08T00:00:00",
          "2024-07-09T00:00:00",
          "2024-07-10T00:00:00",
          "2024-07-11T00:00:00",
          "2024-07-12T00:00:00",
          "2024-07-13T00:00:00",
          "2024-07-14T00:00:00",
          "2024-07-15T00:00:00",
          "2024-07-16T00:00:00",
          "2024-07-17T00:00:00",
          "2024-07-18T00:00:00",
          "2024-07-19T00:00:00",
          "2024-07-20T00:00:00",
          "2024-07-21T00:00:00",
          "2024-07-22T00:00:00",
          "2024-07-23T00:00:00",
          "2024-07-24T00:00:00",
          "2024-07-25T00:00:00",
          "2024-07-26T00:00:00",
          "2024-07-27T00:00:00",
          "2024-07-28T00:00:00",
          "2024-07-29T00:00:00",
          "2024-07-30T00:00:00",
          "2024-07-31T00:00:00",
          "2024-08-01T00:00:00"
         ],
         "y": [
          65076.61647894162,
          65011.04443345692,
          64478.0662291128,
          63479.375603973414,
          63926.96346861173,
          64758.38037151478,
          65731.20820071796,
          65002.69320389348,
          63837.78534065858,
          63126.62444624109,
          63920.45452330101,
          65043.78862267901,
          62439.26326131964,
          64061.1658263704,
          63717.91221839829,
          65339.201911289034,
          67923.07282739425,
          67150.20159735666,
          68171.71018557907,
          68541.35316707999,
          68864.8868300979,
          69517.35255635522,
          68300.66903546145,
          68107.23641705188,
          68837.43132537004,
          69011.07565016244,
          68212.38313950866,
          68418.50489972476,
          69233.90147770348,
          70859.76792614437,
          70305.49110679072,
          69823.11288414722,
          71127.05504270949,
          71829.16556713887,
          71609.65342682877,
          71764.02472486354,
          69206.67620723826,
          69675.63615954194,
          67925.04094239074,
          67497.8849786899,
          65523.661928550144,
          67080.88527011189,
          69461.70657652515,
          68209.51883292015,
          66827.69498987221,
          66189.28207359582,
          65715.35434703977,
          67924.2041085598,
          67232.18421845206,
          66120.21061361268,
          67525.48778542489,
          66255.23066766167,
          65741.59402766127,
          64153.88547566195,
          64963.069647910415,
          63798.321579325515,
          63786.676933270064,
          66507.600133417,
          65568.85267628654,
          65580.90621634727,
          66695.94662285005,
          65620.71180441532,
          66125.71316071688,
          63302.66253267325,
          63079.89138644484,
          62284.60405869908,
          61731.82937713791,
          61348.57259328889,
          61077.25554958508,
          60679.72876743015,
          62528.44582717241,
          62170.37778814574,
          62293.05010124034,
          62529.963872075525,
          60830.17263289632,
          58021.00202883966,
          57139.904307348756,
          53268.67018885048,
          51145.66326746118,
          51955.48072500377,
          53559.42902507054,
          52847.205769597254,
          52769.91761659816,
          52929.023402051906,
          51211.420242134365,
          52011.06651338891,
          51415.39180772907,
          51733.321389009136,
          49732.32371336681,
          51656.334231797526,
          52726.590320447765,
          51783.59853288755,
          53236.427407534444,
          54007.02216095876,
          54925.37004405155,
          55085.60600365061,
          54084.88967070336,
          54567.32419667651,
          52686.00182403474,
          52511.49927401838,
          52434.06149935913,
          51801.13998373356,
          51140.7616813622,
          51435.95722617887,
          52442.07533225765,
          50869.76187521883,
          51502.072982070924,
          51498.46985184221,
          54367.07233547338,
          54545.98765658995,
          54501.50673789151,
          54281.87855329878,
          55853.94654393036,
          56048.650559925554,
          58113.6736934546,
          58924.31600222212
         ]
        },
        {
         "line": {
          "color": "blue",
          "width": 1
         },
         "mode": "lines",
         "name": "Scenario 3",
         "type": "scatter",
         "x": [
          "2024-04-08T00:00:00",
          "2024-04-09T00:00:00",
          "2024-04-10T00:00:00",
          "2024-04-11T00:00:00",
          "2024-04-12T00:00:00",
          "2024-04-13T00:00:00",
          "2024-04-14T00:00:00",
          "2024-04-15T00:00:00",
          "2024-04-16T00:00:00",
          "2024-04-17T00:00:00",
          "2024-04-18T00:00:00",
          "2024-04-19T00:00:00",
          "2024-04-20T00:00:00",
          "2024-04-21T00:00:00",
          "2024-04-22T00:00:00",
          "2024-04-23T00:00:00",
          "2024-04-24T00:00:00",
          "2024-04-25T00:00:00",
          "2024-04-26T00:00:00",
          "2024-04-27T00:00:00",
          "2024-04-28T00:00:00",
          "2024-04-29T00:00:00",
          "2024-04-30T00:00:00",
          "2024-05-01T00:00:00",
          "2024-05-02T00:00:00",
          "2024-05-03T00:00:00",
          "2024-05-04T00:00:00",
          "2024-05-05T00:00:00",
          "2024-05-06T00:00:00",
          "2024-05-07T00:00:00",
          "2024-05-08T00:00:00",
          "2024-05-09T00:00:00",
          "2024-05-10T00:00:00",
          "2024-05-11T00:00:00",
          "2024-05-12T00:00:00",
          "2024-05-13T00:00:00",
          "2024-05-14T00:00:00",
          "2024-05-15T00:00:00",
          "2024-05-16T00:00:00",
          "2024-05-17T00:00:00",
          "2024-05-18T00:00:00",
          "2024-05-19T00:00:00",
          "2024-05-20T00:00:00",
          "2024-05-21T00:00:00",
          "2024-05-22T00:00:00",
          "2024-05-23T00:00:00",
          "2024-05-24T00:00:00",
          "2024-05-25T00:00:00",
          "2024-05-26T00:00:00",
          "2024-05-27T00:00:00",
          "2024-05-28T00:00:00",
          "2024-05-29T00:00:00",
          "2024-05-30T00:00:00",
          "2024-05-31T00:00:00",
          "2024-06-01T00:00:00",
          "2024-06-02T00:00:00",
          "2024-06-03T00:00:00",
          "2024-06-04T00:00:00",
          "2024-06-05T00:00:00",
          "2024-06-06T00:00:00",
          "2024-06-07T00:00:00",
          "2024-06-08T00:00:00",
          "2024-06-09T00:00:00",
          "2024-06-10T00:00:00",
          "2024-06-11T00:00:00",
          "2024-06-12T00:00:00",
          "2024-06-13T00:00:00",
          "2024-06-14T00:00:00",
          "2024-06-15T00:00:00",
          "2024-06-16T00:00:00",
          "2024-06-17T00:00:00",
          "2024-06-18T00:00:00",
          "2024-06-19T00:00:00",
          "2024-06-20T00:00:00",
          "2024-06-21T00:00:00",
          "2024-06-22T00:00:00",
          "2024-06-23T00:00:00",
          "2024-06-24T00:00:00",
          "2024-06-25T00:00:00",
          "2024-06-26T00:00:00",
          "2024-06-27T00:00:00",
          "2024-06-28T00:00:00",
          "2024-06-29T00:00:00",
          "2024-06-30T00:00:00",
          "2024-07-01T00:00:00",
          "2024-07-02T00:00:00",
          "2024-07-03T00:00:00",
          "2024-07-04T00:00:00",
          "2024-07-05T00:00:00",
          "2024-07-06T00:00:00",
          "2024-07-07T00:00:00",
          "2024-07-08T00:00:00",
          "2024-07-09T00:00:00",
          "2024-07-10T00:00:00",
          "2024-07-11T00:00:00",
          "2024-07-12T00:00:00",
          "2024-07-13T00:00:00",
          "2024-07-14T00:00:00",
          "2024-07-15T00:00:00",
          "2024-07-16T00:00:00",
          "2024-07-17T00:00:00",
          "2024-07-18T00:00:00",
          "2024-07-19T00:00:00",
          "2024-07-20T00:00:00",
          "2024-07-21T00:00:00",
          "2024-07-22T00:00:00",
          "2024-07-23T00:00:00",
          "2024-07-24T00:00:00",
          "2024-07-25T00:00:00",
          "2024-07-26T00:00:00",
          "2024-07-27T00:00:00",
          "2024-07-28T00:00:00",
          "2024-07-29T00:00:00",
          "2024-07-30T00:00:00",
          "2024-07-31T00:00:00",
          "2024-08-01T00:00:00"
         ],
         "y": [
          64753.23317425771,
          63486.676439758,
          63221.98634325845,
          62701.537332774715,
          61988.50228796435,
          62807.94554358391,
          62679.8784058683,
          64096.393410831384,
          65250.994776708314,
          64728.62801731215,
          63187.07293686199,
          63812.2518600246,
          65425.44440427497,
          64418.698216946024,
          63188.329029748726,
          63739.06656654066,
          64528.77080317744,
          65475.49259970309,
          66853.58274777456,
          68874.8901049707,
          69888.85541681988,
          67821.61909422404,
          67165.47047744638,
          67449.07667763802,
          68834.84276706955,
          71337.53910160373,
          70309.43991049605,
          69899.47987574966,
          70151.6122999224,
          70821.58668092082,
          70036.32103870116,
          71209.3627274988,
          70297.83237956661,
          69421.35021771243,
          70107.89987939439,
          70398.87238130369,
          69711.13538718314,
          69509.3491657383,
          68341.05910614243,
          69233.61804819382,
          68975.79776057067,
          70853.1163091339,
          70545.79188950345,
          69943.16510880101,
          72059.38170525509,
          71885.48686695108,
          71257.58777576867,
          70738.37751510512,
          71818.34383730654,
          70092.54593174075,
          69385.77930194569,
          65737.28053378637,
          64938.3454527354,
          65545.32560978588,
          64788.37896912852,
          64849.372372849386,
          64763.472554828906,
          65624.65349473839,
          66686.601472227,
          67520.91822874728,
          67849.20539491824,
          69703.03597350964,
          68457.59613344492,
          67714.40338418663,
          68841.04245679977,
          69525.04722954948,
          67580.68866933629,
          66102.51126015972,
          63979.77869684722,
          65243.90712965546,
          67121.51789210153,
          67386.91882742653,
          69169.07239708933,
          70078.29510027762,
          69911.13401769861,
          69023.8459460104,
          68721.64623785886,
          69571.3724385788,
          70399.56780125728,
          71016.14122568723,
          68820.50239855092,
          70888.96958704498,
          70601.25922874182,
          73058.76413669987,
          71871.5337785543,
          72563.57706239443,
          73428.27515437886,
          73898.40474936191,
          72976.85303050402,
          70932.84432736623,
          70904.58722842037,
          71241.54750355717,
          70562.59497420011,
          72647.52982951404,
          74151.50237419289,
          72805.50544409119,
          74459.23809570634,
          75450.74021359505,
          74768.91835121528,
          77850.92000456559,
          77405.73548591194,
          77650.13390484305,
          79560.44172124588,
          78906.66547640094,
          78274.82985681722,
          76754.64107333083,
          76024.5337029444,
          76302.5373351022,
          77498.11933056756,
          75475.91681643325,
          76157.22753918068,
          77424.53492272548,
          77571.79461658299,
          77508.3771808741,
          77085.79128730297,
          76169.81049995565
         ]
        },
        {
         "line": {
          "color": "blue",
          "width": 1
         },
         "mode": "lines",
         "name": "Scenario 4",
         "type": "scatter",
         "x": [
          "2024-04-08T00:00:00",
          "2024-04-09T00:00:00",
          "2024-04-10T00:00:00",
          "2024-04-11T00:00:00",
          "2024-04-12T00:00:00",
          "2024-04-13T00:00:00",
          "2024-04-14T00:00:00",
          "2024-04-15T00:00:00",
          "2024-04-16T00:00:00",
          "2024-04-17T00:00:00",
          "2024-04-18T00:00:00",
          "2024-04-19T00:00:00",
          "2024-04-20T00:00:00",
          "2024-04-21T00:00:00",
          "2024-04-22T00:00:00",
          "2024-04-23T00:00:00",
          "2024-04-24T00:00:00",
          "2024-04-25T00:00:00",
          "2024-04-26T00:00:00",
          "2024-04-27T00:00:00",
          "2024-04-28T00:00:00",
          "2024-04-29T00:00:00",
          "2024-04-30T00:00:00",
          "2024-05-01T00:00:00",
          "2024-05-02T00:00:00",
          "2024-05-03T00:00:00",
          "2024-05-04T00:00:00",
          "2024-05-05T00:00:00",
          "2024-05-06T00:00:00",
          "2024-05-07T00:00:00",
          "2024-05-08T00:00:00",
          "2024-05-09T00:00:00",
          "2024-05-10T00:00:00",
          "2024-05-11T00:00:00",
          "2024-05-12T00:00:00",
          "2024-05-13T00:00:00",
          "2024-05-14T00:00:00",
          "2024-05-15T00:00:00",
          "2024-05-16T00:00:00",
          "2024-05-17T00:00:00",
          "2024-05-18T00:00:00",
          "2024-05-19T00:00:00",
          "2024-05-20T00:00:00",
          "2024-05-21T00:00:00",
          "2024-05-22T00:00:00",
          "2024-05-23T00:00:00",
          "2024-05-24T00:00:00",
          "2024-05-25T00:00:00",
          "2024-05-26T00:00:00",
          "2024-05-27T00:00:00",
          "2024-05-28T00:00:00",
          "2024-05-29T00:00:00",
          "2024-05-30T00:00:00",
          "2024-05-31T00:00:00",
          "2024-06-01T00:00:00",
          "2024-06-02T00:00:00",
          "2024-06-03T00:00:00",
          "2024-06-04T00:00:00",
          "2024-06-05T00:00:00",
          "2024-06-06T00:00:00",
          "2024-06-07T00:00:00",
          "2024-06-08T00:00:00",
          "2024-06-09T00:00:00",
          "2024-06-10T00:00:00",
          "2024-06-11T00:00:00",
          "2024-06-12T00:00:00",
          "2024-06-13T00:00:00",
          "2024-06-14T00:00:00",
          "2024-06-15T00:00:00",
          "2024-06-16T00:00:00",
          "2024-06-17T00:00:00",
          "2024-06-18T00:00:00",
          "2024-06-19T00:00:00",
          "2024-06-20T00:00:00",
          "2024-06-21T00:00:00",
          "2024-06-22T00:00:00",
          "2024-06-23T00:00:00",
          "2024-06-24T00:00:00",
          "2024-06-25T00:00:00",
          "2024-06-26T00:00:00",
          "2024-06-27T00:00:00",
          "2024-06-28T00:00:00",
          "2024-06-29T00:00:00",
          "2024-06-30T00:00:00",
          "2024-07-01T00:00:00",
          "2024-07-02T00:00:00",
          "2024-07-03T00:00:00",
          "2024-07-04T00:00:00",
          "2024-07-05T00:00:00",
          "2024-07-06T00:00:00",
          "2024-07-07T00:00:00",
          "2024-07-08T00:00:00",
          "2024-07-09T00:00:00",
          "2024-07-10T00:00:00",
          "2024-07-11T00:00:00",
          "2024-07-12T00:00:00",
          "2024-07-13T00:00:00",
          "2024-07-14T00:00:00",
          "2024-07-15T00:00:00",
          "2024-07-16T00:00:00",
          "2024-07-17T00:00:00",
          "2024-07-18T00:00:00",
          "2024-07-19T00:00:00",
          "2024-07-20T00:00:00",
          "2024-07-21T00:00:00",
          "2024-07-22T00:00:00",
          "2024-07-23T00:00:00",
          "2024-07-24T00:00:00",
          "2024-07-25T00:00:00",
          "2024-07-26T00:00:00",
          "2024-07-27T00:00:00",
          "2024-07-28T00:00:00",
          "2024-07-29T00:00:00",
          "2024-07-30T00:00:00",
          "2024-07-31T00:00:00",
          "2024-08-01T00:00:00"
         ],
         "y": [
          65251.17501840296,
          65233.232652327024,
          65041.655218676824,
          64612.51981386003,
          64496.515170659244,
          64682.22921315281,
          65942.12585483171,
          66930.2717850716,
          65396.616166318905,
          66587.29971462995,
          66969.81341147235,
          65994.2030989331,
          65647.05489187114,
          64337.5465183657,
          65920.95701191049,
          66993.63284865602,
          66364.48964526643,
          64563.8120169315,
          62199.28268653045,
          63799.8622809179,
          65671.05355442247,
          65232.9095337569,
          63242.334998313825,
          62580.943789515404,
          62946.69379677539,
          62887.98415928257,
          62254.92893130962,
          62534.30908194183,
          65416.28543546218,
          65612.67495307866,
          64727.32225902326,
          66489.90216361701,
          68532.33937078889,
          69115.01623444915,
          70137.8751644256,
          71085.03628570566,
          70776.91025714154,
          70491.98186789876,
          70078.79823630114,
          70665.65302627865,
          71730.68131823532,
          71858.72200605468,
          71073.02437077549,
          69844.07025863323,
          68788.07051057188,
          69670.86388947378,
          69926.24613653785,
          69033.26548119634,
          71462.37729976384,
          72165.9847430814,
          72632.77113650959,
          73103.98302667424,
          73244.30937046873,
          72709.74946709898,
          72932.79955982462,
          72274.19345318922,
          72617.71532949133,
          73717.99096300716,
          73510.0126487664,
          74103.52859974155,
          75262.05306521438,
          74349.74461128772,
          73300.210981891,
          75243.28947638243,
          74517.87385694573,
          75663.44845595144,
          75341.97275597719,
          73939.79567836612,
          74084.52502633279,
          77109.37606348333,
          77122.90295487063,
          76045.38220864517,
          75411.17192248767,
          76147.60960092576,
          76580.18186337916,
          76224.43445313426,
          78042.80246504731,
          75606.22802079924,
          74476.1079218513,
          74187.5911561891,
          73443.8465419087,
          72875.99520483983,
          72991.34709398568,
          73046.4530476306,
          74173.04669661939,
          74431.89966641659,
          73249.09612380748,
          70456.40402224331,
          68887.84488939446,
          67214.70407865933,
          68858.34912971612,
          69252.7763672565,
          70754.53914590587,
          70528.60025037407,
          70611.70832512237,
          71612.10202451856,
          71123.32797225502,
          72887.81257243946,
          72784.61481304812,
          70666.33929564052,
          69618.17914304663,
          71387.38302105381,
          71373.04480654746,
          70336.82714660252,
          70842.44963431991,
          70641.83572695602,
          71078.72167550602,
          71060.30106362615,
          71706.03210629277,
          69425.45257212884,
          69207.3842724882,
          70081.61517474109,
          70633.45323659522,
          69465.34791565809,
          68228.50823826874,
          67418.38013563635
         ]
        },
        {
         "line": {
          "color": "blue",
          "width": 1
         },
         "mode": "lines",
         "name": "Scenario 5",
         "type": "scatter",
         "x": [
          "2024-04-08T00:00:00",
          "2024-04-09T00:00:00",
          "2024-04-10T00:00:00",
          "2024-04-11T00:00:00",
          "2024-04-12T00:00:00",
          "2024-04-13T00:00:00",
          "2024-04-14T00:00:00",
          "2024-04-15T00:00:00",
          "2024-04-16T00:00:00",
          "2024-04-17T00:00:00",
          "2024-04-18T00:00:00",
          "2024-04-19T00:00:00",
          "2024-04-20T00:00:00",
          "2024-04-21T00:00:00",
          "2024-04-22T00:00:00",
          "2024-04-23T00:00:00",
          "2024-04-24T00:00:00",
          "2024-04-25T00:00:00",
          "2024-04-26T00:00:00",
          "2024-04-27T00:00:00",
          "2024-04-28T00:00:00",
          "2024-04-29T00:00:00",
          "2024-04-30T00:00:00",
          "2024-05-01T00:00:00",
          "2024-05-02T00:00:00",
          "2024-05-03T00:00:00",
          "2024-05-04T00:00:00",
          "2024-05-05T00:00:00",
          "2024-05-06T00:00:00",
          "2024-05-07T00:00:00",
          "2024-05-08T00:00:00",
          "2024-05-09T00:00:00",
          "2024-05-10T00:00:00",
          "2024-05-11T00:00:00",
          "2024-05-12T00:00:00",
          "2024-05-13T00:00:00",
          "2024-05-14T00:00:00",
          "2024-05-15T00:00:00",
          "2024-05-16T00:00:00",
          "2024-05-17T00:00:00",
          "2024-05-18T00:00:00",
          "2024-05-19T00:00:00",
          "2024-05-20T00:00:00",
          "2024-05-21T00:00:00",
          "2024-05-22T00:00:00",
          "2024-05-23T00:00:00",
          "2024-05-24T00:00:00",
          "2024-05-25T00:00:00",
          "2024-05-26T00:00:00",
          "2024-05-27T00:00:00",
          "2024-05-28T00:00:00",
          "2024-05-29T00:00:00",
          "2024-05-30T00:00:00",
          "2024-05-31T00:00:00",
          "2024-06-01T00:00:00",
          "2024-06-02T00:00:00",
          "2024-06-03T00:00:00",
          "2024-06-04T00:00:00",
          "2024-06-05T00:00:00",
          "2024-06-06T00:00:00",
          "2024-06-07T00:00:00",
          "2024-06-08T00:00:00",
          "2024-06-09T00:00:00",
          "2024-06-10T00:00:00",
          "2024-06-11T00:00:00",
          "2024-06-12T00:00:00",
          "2024-06-13T00:00:00",
          "2024-06-14T00:00:00",
          "2024-06-15T00:00:00",
          "2024-06-16T00:00:00",
          "2024-06-17T00:00:00",
          "2024-06-18T00:00:00",
          "2024-06-19T00:00:00",
          "2024-06-20T00:00:00",
          "2024-06-21T00:00:00",
          "2024-06-22T00:00:00",
          "2024-06-23T00:00:00",
          "2024-06-24T00:00:00",
          "2024-06-25T00:00:00",
          "2024-06-26T00:00:00",
          "2024-06-27T00:00:00",
          "2024-06-28T00:00:00",
          "2024-06-29T00:00:00",
          "2024-06-30T00:00:00",
          "2024-07-01T00:00:00",
          "2024-07-02T00:00:00",
          "2024-07-03T00:00:00",
          "2024-07-04T00:00:00",
          "2024-07-05T00:00:00",
          "2024-07-06T00:00:00",
          "2024-07-07T00:00:00",
          "2024-07-08T00:00:00",
          "2024-07-09T00:00:00",
          "2024-07-10T00:00:00",
          "2024-07-11T00:00:00",
          "2024-07-12T00:00:00",
          "2024-07-13T00:00:00",
          "2024-07-14T00:00:00",
          "2024-07-15T00:00:00",
          "2024-07-16T00:00:00",
          "2024-07-17T00:00:00",
          "2024-07-18T00:00:00",
          "2024-07-19T00:00:00",
          "2024-07-20T00:00:00",
          "2024-07-21T00:00:00",
          "2024-07-22T00:00:00",
          "2024-07-23T00:00:00",
          "2024-07-24T00:00:00",
          "2024-07-25T00:00:00",
          "2024-07-26T00:00:00",
          "2024-07-27T00:00:00",
          "2024-07-28T00:00:00",
          "2024-07-29T00:00:00",
          "2024-07-30T00:00:00",
          "2024-07-31T00:00:00",
          "2024-08-01T00:00:00"
         ],
         "y": [
          63828.66358706645,
          64367.11994853799,
          64581.51955588997,
          64640.72854274977,
          65860.0980282611,
          66235.38210108642,
          66517.22730227454,
          66904.8699500589,
          68111.47668758739,
          67944.2573297552,
          67913.85896442353,
          68475.67986070133,
          69980.36961163134,
          70962.42993740241,
          69279.2325903077,
          69500.8531413953,
          69779.19987135273,
          70190.0703310989,
          70758.33287252142,
          71691.64471498116,
          71824.06957469102,
          72122.69571642185,
          72986.13020820411,
          73533.47442589262,
          73221.08344255785,
          72439.02507167717,
          72718.08465503501,
          71630.06479359792,
          73911.3086997492,
          72785.43659283422,
          76034.21783987687,
          75339.50976542529,
          76871.78541025739,
          77429.49022283206,
          76721.00048856296,
          75098.71264646422,
          75963.34954654796,
          76371.92136320115,
          75438.98161169609,
          74690.39565410385,
          75421.46242636416,
          75761.89672345217,
          75854.58084642321,
          76103.91447489674,
          74071.8363092756,
          72988.54750362516,
          73162.18265397743,
          73389.5452396636,
          73858.0008651159,
          73405.2315744329,
          75588.7841024332,
          76884.6705981645,
          78129.17065011192,
          77224.80828937351,
          78376.7103710647,
          77665.06151681449,
          77686.17862277452,
          76864.93276087308,
          77969.97887533868,
          80048.5812361606,
          81135.4481418693,
          80831.31456737913,
          79671.66881507897,
          78708.4726353038,
          78371.71200378561,
          77155.40833025434,
          77117.2471321159,
          75488.56550145433,
          74214.80099899003,
          74533.55086140028,
          74889.90779554214,
          74875.93183955728,
          76731.73221357509,
          76262.4073994017,
          78286.16477785536,
          77993.59606648542,
          78413.02842206704,
          77095.110851398,
          78663.5385223918,
          77787.18501460532,
          78237.30761931173,
          79219.99408720649,
          79535.67180841057,
          79911.78936185861,
          82023.08203245854,
          82189.2224256622,
          82874.89537222801,
          81854.56492211562,
          81861.9867526771,
          83306.56765956582,
          84884.99541124265,
          84040.42143799385,
          83774.44573718988,
          84833.68723066794,
          84345.61625171916,
          83461.76043029473,
          82967.42251089077,
          82218.6660971949,
          81733.8199596875,
          80621.47261223395,
          79343.83282340216,
          78531.35568333243,
          80508.29738442277,
          81478.5128669135,
          81298.94909211688,
          80161.21971412719,
          80789.40473359764,
          80406.0128480201,
          79742.04929679845,
          83442.41514192952,
          84019.76812284923,
          85534.92783123179,
          84296.98082161405,
          83053.4000669345,
          82253.09302052709,
          81866.37967573763
         ]
        }
       ],
       "layout": {
        "template": {
         "data": {
          "bar": [
           {
            "error_x": {
             "color": "#f2f5fa"
            },
            "error_y": {
             "color": "#f2f5fa"
            },
            "marker": {
             "line": {
              "color": "rgb(17,17,17)",
              "width": 0.5
             },
             "pattern": {
              "fillmode": "overlay",
              "size": 10,
              "solidity": 0.2
             }
            },
            "type": "bar"
           }
          ],
          "barpolar": [
           {
            "marker": {
             "line": {
              "color": "rgb(17,17,17)",
              "width": 0.5
             },
             "pattern": {
              "fillmode": "overlay",
              "size": 10,
              "solidity": 0.2
             }
            },
            "type": "barpolar"
           }
          ],
          "carpet": [
           {
            "aaxis": {
             "endlinecolor": "#A2B1C6",
             "gridcolor": "#506784",
             "linecolor": "#506784",
             "minorgridcolor": "#506784",
             "startlinecolor": "#A2B1C6"
            },
            "baxis": {
             "endlinecolor": "#A2B1C6",
             "gridcolor": "#506784",
             "linecolor": "#506784",
             "minorgridcolor": "#506784",
             "startlinecolor": "#A2B1C6"
            },
            "type": "carpet"
           }
          ],
          "choropleth": [
           {
            "colorbar": {
             "outlinewidth": 0,
             "ticks": ""
            },
            "type": "choropleth"
           }
          ],
          "contour": [
           {
            "colorbar": {
             "outlinewidth": 0,
             "ticks": ""
            },
            "colorscale": [
             [
              0,
              "#0d0887"
             ],
             [
              0.1111111111111111,
              "#46039f"
             ],
             [
              0.2222222222222222,
              "#7201a8"
             ],
             [
              0.3333333333333333,
              "#9c179e"
             ],
             [
              0.4444444444444444,
              "#bd3786"
             ],
             [
              0.5555555555555556,
              "#d8576b"
             ],
             [
              0.6666666666666666,
              "#ed7953"
             ],
             [
              0.7777777777777778,
              "#fb9f3a"
             ],
             [
              0.8888888888888888,
              "#fdca26"
             ],
             [
              1,
              "#f0f921"
             ]
            ],
            "type": "contour"
           }
          ],
          "contourcarpet": [
           {
            "colorbar": {
             "outlinewidth": 0,
             "ticks": ""
            },
            "type": "contourcarpet"
           }
          ],
          "heatmap": [
           {
            "colorbar": {
             "outlinewidth": 0,
             "ticks": ""
            },
            "colorscale": [
             [
              0,
              "#0d0887"
             ],
             [
              0.1111111111111111,
              "#46039f"
             ],
             [
              0.2222222222222222,
              "#7201a8"
             ],
             [
              0.3333333333333333,
              "#9c179e"
             ],
             [
              0.4444444444444444,
              "#bd3786"
             ],
             [
              0.5555555555555556,
              "#d8576b"
             ],
             [
              0.6666666666666666,
              "#ed7953"
             ],
             [
              0.7777777777777778,
              "#fb9f3a"
             ],
             [
              0.8888888888888888,
              "#fdca26"
             ],
             [
              1,
              "#f0f921"
             ]
            ],
            "type": "heatmap"
           }
          ],
          "heatmapgl": [
           {
            "colorbar": {
             "outlinewidth": 0,
             "ticks": ""
            },
            "colorscale": [
             [
              0,
              "#0d0887"
             ],
             [
              0.1111111111111111,
              "#46039f"
             ],
             [
              0.2222222222222222,
              "#7201a8"
             ],
             [
              0.3333333333333333,
              "#9c179e"
             ],
             [
              0.4444444444444444,
              "#bd3786"
             ],
             [
              0.5555555555555556,
              "#d8576b"
             ],
             [
              0.6666666666666666,
              "#ed7953"
             ],
             [
              0.7777777777777778,
              "#fb9f3a"
             ],
             [
              0.8888888888888888,
              "#fdca26"
             ],
             [
              1,
              "#f0f921"
             ]
            ],
            "type": "heatmapgl"
           }
          ],
          "histogram": [
           {
            "marker": {
             "pattern": {
              "fillmode": "overlay",
              "size": 10,
              "solidity": 0.2
             }
            },
            "type": "histogram"
           }
          ],
          "histogram2d": [
           {
            "colorbar": {
             "outlinewidth": 0,
             "ticks": ""
            },
            "colorscale": [
             [
              0,
              "#0d0887"
             ],
             [
              0.1111111111111111,
              "#46039f"
             ],
             [
              0.2222222222222222,
              "#7201a8"
             ],
             [
              0.3333333333333333,
              "#9c179e"
             ],
             [
              0.4444444444444444,
              "#bd3786"
             ],
             [
              0.5555555555555556,
              "#d8576b"
             ],
             [
              0.6666666666666666,
              "#ed7953"
             ],
             [
              0.7777777777777778,
              "#fb9f3a"
             ],
             [
              0.8888888888888888,
              "#fdca26"
             ],
             [
              1,
              "#f0f921"
             ]
            ],
            "type": "histogram2d"
           }
          ],
          "histogram2dcontour": [
           {
            "colorbar": {
             "outlinewidth": 0,
             "ticks": ""
            },
            "colorscale": [
             [
              0,
              "#0d0887"
             ],
             [
              0.1111111111111111,
              "#46039f"
             ],
             [
              0.2222222222222222,
              "#7201a8"
             ],
             [
              0.3333333333333333,
              "#9c179e"
             ],
             [
              0.4444444444444444,
              "#bd3786"
             ],
             [
              0.5555555555555556,
              "#d8576b"
             ],
             [
              0.6666666666666666,
              "#ed7953"
             ],
             [
              0.7777777777777778,
              "#fb9f3a"
             ],
             [
              0.8888888888888888,
              "#fdca26"
             ],
             [
              1,
              "#f0f921"
             ]
            ],
            "type": "histogram2dcontour"
           }
          ],
          "mesh3d": [
           {
            "colorbar": {
             "outlinewidth": 0,
             "ticks": ""
            },
            "type": "mesh3d"
           }
          ],
          "parcoords": [
           {
            "line": {
             "colorbar": {
              "outlinewidth": 0,
              "ticks": ""
             }
            },
            "type": "parcoords"
           }
          ],
          "pie": [
           {
            "automargin": true,
            "type": "pie"
           }
          ],
          "scatter": [
           {
            "marker": {
             "line": {
              "color": "#283442"
             }
            },
            "type": "scatter"
           }
          ],
          "scatter3d": [
           {
            "line": {
             "colorbar": {
              "outlinewidth": 0,
              "ticks": ""
             }
            },
            "marker": {
             "colorbar": {
              "outlinewidth": 0,
              "ticks": ""
             }
            },
            "type": "scatter3d"
           }
          ],
          "scattercarpet": [
           {
            "marker": {
             "colorbar": {
              "outlinewidth": 0,
              "ticks": ""
             }
            },
            "type": "scattercarpet"
           }
          ],
          "scattergeo": [
           {
            "marker": {
             "colorbar": {
              "outlinewidth": 0,
              "ticks": ""
             }
            },
            "type": "scattergeo"
           }
          ],
          "scattergl": [
           {
            "marker": {
             "line": {
              "color": "#283442"
             }
            },
            "type": "scattergl"
           }
          ],
          "scattermapbox": [
           {
            "marker": {
             "colorbar": {
              "outlinewidth": 0,
              "ticks": ""
             }
            },
            "type": "scattermapbox"
           }
          ],
          "scatterpolar": [
           {
            "marker": {
             "colorbar": {
              "outlinewidth": 0,
              "ticks": ""
             }
            },
            "type": "scatterpolar"
           }
          ],
          "scatterpolargl": [
           {
            "marker": {
             "colorbar": {
              "outlinewidth": 0,
              "ticks": ""
             }
            },
            "type": "scatterpolargl"
           }
          ],
          "scatterternary": [
           {
            "marker": {
             "colorbar": {
              "outlinewidth": 0,
              "ticks": ""
             }
            },
            "type": "scatterternary"
           }
          ],
          "surface": [
           {
            "colorbar": {
             "outlinewidth": 0,
             "ticks": ""
            },
            "colorscale": [
             [
              0,
              "#0d0887"
             ],
             [
              0.1111111111111111,
              "#46039f"
             ],
             [
              0.2222222222222222,
              "#7201a8"
             ],
             [
              0.3333333333333333,
              "#9c179e"
             ],
             [
              0.4444444444444444,
              "#bd3786"
             ],
             [
              0.5555555555555556,
              "#d8576b"
             ],
             [
              0.6666666666666666,
              "#ed7953"
             ],
             [
              0.7777777777777778,
              "#fb9f3a"
             ],
             [
              0.8888888888888888,
              "#fdca26"
             ],
             [
              1,
              "#f0f921"
             ]
            ],
            "type": "surface"
           }
          ],
          "table": [
           {
            "cells": {
             "fill": {
              "color": "#506784"
             },
             "line": {
              "color": "rgb(17,17,17)"
             }
            },
            "header": {
             "fill": {
              "color": "#2a3f5f"
             },
             "line": {
              "color": "rgb(17,17,17)"
             }
            },
            "type": "table"
           }
          ]
         },
         "layout": {
          "annotationdefaults": {
           "arrowcolor": "#f2f5fa",
           "arrowhead": 0,
           "arrowwidth": 1
          },
          "autotypenumbers": "strict",
          "coloraxis": {
           "colorbar": {
            "outlinewidth": 0,
            "ticks": ""
           }
          },
          "colorscale": {
           "diverging": [
            [
             0,
             "#8e0152"
            ],
            [
             0.1,
             "#c51b7d"
            ],
            [
             0.2,
             "#de77ae"
            ],
            [
             0.3,
             "#f1b6da"
            ],
            [
             0.4,
             "#fde0ef"
            ],
            [
             0.5,
             "#f7f7f7"
            ],
            [
             0.6,
             "#e6f5d0"
            ],
            [
             0.7,
             "#b8e186"
            ],
            [
             0.8,
             "#7fbc41"
            ],
            [
             0.9,
             "#4d9221"
            ],
            [
             1,
             "#276419"
            ]
           ],
           "sequential": [
            [
             0,
             "#0d0887"
            ],
            [
             0.1111111111111111,
             "#46039f"
            ],
            [
             0.2222222222222222,
             "#7201a8"
            ],
            [
             0.3333333333333333,
             "#9c179e"
            ],
            [
             0.4444444444444444,
             "#bd3786"
            ],
            [
             0.5555555555555556,
             "#d8576b"
            ],
            [
             0.6666666666666666,
             "#ed7953"
            ],
            [
             0.7777777777777778,
             "#fb9f3a"
            ],
            [
             0.8888888888888888,
             "#fdca26"
            ],
            [
             1,
             "#f0f921"
            ]
           ],
           "sequentialminus": [
            [
             0,
             "#0d0887"
            ],
            [
             0.1111111111111111,
             "#46039f"
            ],
            [
             0.2222222222222222,
             "#7201a8"
            ],
            [
             0.3333333333333333,
             "#9c179e"
            ],
            [
             0.4444444444444444,
             "#bd3786"
            ],
            [
             0.5555555555555556,
             "#d8576b"
            ],
            [
             0.6666666666666666,
             "#ed7953"
            ],
            [
             0.7777777777777778,
             "#fb9f3a"
            ],
            [
             0.8888888888888888,
             "#fdca26"
            ],
            [
             1,
             "#f0f921"
            ]
           ]
          },
          "colorway": [
           "#636efa",
           "#EF553B",
           "#00cc96",
           "#ab63fa",
           "#FFA15A",
           "#19d3f3",
           "#FF6692",
           "#B6E880",
           "#FF97FF",
           "#FECB52"
          ],
          "font": {
           "color": "#f2f5fa"
          },
          "geo": {
           "bgcolor": "rgb(17,17,17)",
           "lakecolor": "rgb(17,17,17)",
           "landcolor": "rgb(17,17,17)",
           "showlakes": true,
           "showland": true,
           "subunitcolor": "#506784"
          },
          "hoverlabel": {
           "align": "left"
          },
          "hovermode": "closest",
          "mapbox": {
           "style": "dark"
          },
          "paper_bgcolor": "rgb(17,17,17)",
          "plot_bgcolor": "rgb(17,17,17)",
          "polar": {
           "angularaxis": {
            "gridcolor": "#506784",
            "linecolor": "#506784",
            "ticks": ""
           },
           "bgcolor": "rgb(17,17,17)",
           "radialaxis": {
            "gridcolor": "#506784",
            "linecolor": "#506784",
            "ticks": ""
           }
          },
          "scene": {
           "xaxis": {
            "backgroundcolor": "rgb(17,17,17)",
            "gridcolor": "#506784",
            "gridwidth": 2,
            "linecolor": "#506784",
            "showbackground": true,
            "ticks": "",
            "zerolinecolor": "#C8D4E3"
           },
           "yaxis": {
            "backgroundcolor": "rgb(17,17,17)",
            "gridcolor": "#506784",
            "gridwidth": 2,
            "linecolor": "#506784",
            "showbackground": true,
            "ticks": "",
            "zerolinecolor": "#C8D4E3"
           },
           "zaxis": {
            "backgroundcolor": "rgb(17,17,17)",
            "gridcolor": "#506784",
            "gridwidth": 2,
            "linecolor": "#506784",
            "showbackground": true,
            "ticks": "",
            "zerolinecolor": "#C8D4E3"
           }
          },
          "shapedefaults": {
           "line": {
            "color": "#f2f5fa"
           }
          },
          "sliderdefaults": {
           "bgcolor": "#C8D4E3",
           "bordercolor": "rgb(17,17,17)",
           "borderwidth": 1,
           "tickwidth": 0
          },
          "ternary": {
           "aaxis": {
            "gridcolor": "#506784",
            "linecolor": "#506784",
            "ticks": ""
           },
           "baxis": {
            "gridcolor": "#506784",
            "linecolor": "#506784",
            "ticks": ""
           },
           "bgcolor": "rgb(17,17,17)",
           "caxis": {
            "gridcolor": "#506784",
            "linecolor": "#506784",
            "ticks": ""
           }
          },
          "title": {
           "x": 0.05
          },
          "updatemenudefaults": {
           "bgcolor": "#506784",
           "borderwidth": 0
          },
          "xaxis": {
           "automargin": true,
           "gridcolor": "#283442",
           "linecolor": "#506784",
           "ticks": "",
           "title": {
            "standoff": 15
           },
           "zerolinecolor": "#283442",
           "zerolinewidth": 2
          },
          "yaxis": {
           "automargin": true,
           "gridcolor": "#283442",
           "linecolor": "#506784",
           "ticks": "",
           "title": {
            "standoff": 15
           },
           "zerolinecolor": "#283442",
           "zerolinewidth": 2
          }
         }
        },
        "title": {
         "text": "Generated Price Scenarios Using Simple Returns"
        },
        "xaxis": {
         "title": {
          "text": "Date"
         }
        },
        "yaxis": {
         "title": {
          "text": "Price"
         }
        }
       }
      }
     },
     "metadata": {},
     "output_type": "display_data"
    }
   ],
   "source": [
    "def generate_diff_scenarios(df, n_scenarios, length):\n",
    "    # Вычисляем простые приросты (разности)\n",
    "    diff_returns = df[\"close\"].diff().dropna()\n",
    "    \n",
    "    # Вычисляем среднее (mu) и стандартное отклонение (sigma) приростов\n",
    "    mu = diff_returns.mean()\n",
    "    sigma = diff_returns.std()\n",
    "    \n",
    "    # Последнее значение цены как стартовое значение для генерации\n",
    "    S0 = df[\"close\"].iloc[-1]\n",
    "    \n",
    "    scenarios = []\n",
    "    \n",
    "    for _ in range(n_scenarios):\n",
    "        # Генерируем изменения на основе нормального распределения\n",
    "        changes = np.random.normal(mu, sigma, length)\n",
    "        \n",
    "        # Генерируем сценарий, накапливая изменения, начиная с последнего значения\n",
    "        scenario = np.cumsum(changes) + S0\n",
    "        scenarios.append(scenario)\n",
    "    \n",
    "    return scenarios\n",
    "\n",
    "\n",
    "\n",
    "# Генерируем 5 \n",
    "n_scenarios = 5\n",
    "length = test_df.shape[0]\n",
    "scenarios = generate_diff_scenarios(df, n_scenarios, length)\n",
    "\n",
    "# Визуализация сценариев с использованием Plotly\n",
    "fig = go.Figure()\n",
    "\n",
    "# Добавляем оригинальную цену (последние значения) - красным цветом\n",
    "fig.add_trace(go.Scatter(x=test_df['date'], y=test_df['close'],\n",
    "                         mode='lines', name='Original Close',\n",
    "                         line=dict(color='red')))\n",
    "\n",
    "# Добавляем сгенерированные сценарии - синим цветом\n",
    "for i, scenario in enumerate(scenarios):\n",
    "    fig.add_trace(go.Scatter(x=test_df['date'], \n",
    "                             y=scenario, mode='lines', name=f'Scenario {i+1}',\n",
    "                             line=dict(color='blue', width=1)))\n",
    "\n",
    "# Настройка графика\n",
    "fig.update_layout(title='Generated Price Scenarios Using Simple Returns',\n",
    "                  xaxis_title='Date',\n",
    "                  yaxis_title='Price',\n",
    "                  template='plotly_dark')\n",
    "\n",
    "# Отображаем график\n",
    "fig.show()"
   ]
  }
 ],
 "metadata": {
  "kernelspec": {
   "display_name": ".conda",
   "language": "python",
   "name": "python3"
  },
  "language_info": {
   "codemirror_mode": {
    "name": "ipython",
    "version": 3
   },
   "file_extension": ".py",
   "mimetype": "text/x-python",
   "name": "python",
   "nbconvert_exporter": "python",
   "pygments_lexer": "ipython3",
   "version": "3.12.7"
  }
 },
 "nbformat": 4,
 "nbformat_minor": 2
}
